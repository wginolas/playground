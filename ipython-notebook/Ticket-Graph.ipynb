{
 "metadata": {
  "name": ""
 },
 "nbformat": 3,
 "nbformat_minor": 0,
 "worksheets": [
  {
   "cells": [
    {
     "cell_type": "code",
     "collapsed": false,
     "input": [
      "from redmine import Redmine\n",
      "import urllib\n",
      "import json\n",
      "import dateutil.parser\n",
      "from pylab import *\n",
      "import itertools\n",
      "\n",
      "BUG = 1\n",
      "FEATURE = 2\n",
      "SUPPORT = 3\n",
      "\n",
      "pylab.rcParams['figure.figsize'] = (10.0, 8.0)\n",
      "\n",
      "CLOSED_STATUS = {\"3\", \"5\", \"6\"}\n",
      "\n",
      "with open(\"/home/wolfgang/keys/redmine.key\") as f:\n",
      "    key = f.read().strip()\n",
      "    \n",
      "instance = Redmine(\"https://redmine.justsoftwareag.com\", key = key)"
     ],
     "language": "python",
     "metadata": {},
     "outputs": [],
     "prompt_number": 140
    },
    {
     "cell_type": "code",
     "collapsed": false,
     "input": [
      "raw_issues = list(instance.projects[\"jc\"].issues(tracker_id=SUPPORT, status_id=\"*\"))"
     ],
     "language": "python",
     "metadata": {},
     "outputs": [],
     "prompt_number": 141
    },
    {
     "cell_type": "code",
     "collapsed": false,
     "input": [
      "len(raw_issues)"
     ],
     "language": "python",
     "metadata": {},
     "outputs": [
      {
       "metadata": {},
       "output_type": "pyout",
       "prompt_number": 142,
       "text": [
        "1015"
       ]
      }
     ],
     "prompt_number": 142
    },
    {
     "cell_type": "code",
     "collapsed": false,
     "input": [
      "def load_ticket(ticket_id):\n",
      "    url = (\"https://redmine.justsoftwareag.com/issues/%s.json?\" % ticket_id) + urllib.urlencode({\n",
      "        \"key\": key,\n",
      "        \"include\": \"journals\"\n",
      "    })\n",
      "    print url\n",
      "    s = urllib.urlopen(url).read()\n",
      "    return json.loads(s)\n",
      "    \n",
      "\n",
      "def load_tickets():\n",
      "    for i in raw_issues:\n",
      "        yield load_ticket(i.id)\n",
      "\n",
      "issues = list(load_tickets())"
     ],
     "language": "python",
     "metadata": {},
     "outputs": [
      {
       "output_type": "stream",
       "stream": "stdout",
       "text": [
        "https://redmine.justsoftwareag.com/issues/8594.json?include=journals&key=d1aef1b9a4658a5db747d0b435942f29133e0a02\n",
        "https://redmine.justsoftwareag.com/issues/8593.json?include=journals&key=d1aef1b9a4658a5db747d0b435942f29133e0a02"
       ]
      },
      {
       "output_type": "stream",
       "stream": "stdout",
       "text": [
        "\n",
        "https://redmine.justsoftwareag.com/issues/8592.json?include=journals&key=d1aef1b9a4658a5db747d0b435942f29133e0a02"
       ]
      },
      {
       "output_type": "stream",
       "stream": "stdout",
       "text": [
        "\n",
        "https://redmine.justsoftwareag.com/issues/8590.json?include=journals&key=d1aef1b9a4658a5db747d0b435942f29133e0a02"
       ]
      },
      {
       "output_type": "stream",
       "stream": "stdout",
       "text": [
        "\n",
        "https://redmine.justsoftwareag.com/issues/8587.json?include=journals&key=d1aef1b9a4658a5db747d0b435942f29133e0a02"
       ]
      },
      {
       "output_type": "stream",
       "stream": "stdout",
       "text": [
        "\n",
        "https://redmine.justsoftwareag.com/issues/8584.json?include=journals&key=d1aef1b9a4658a5db747d0b435942f29133e0a02"
       ]
      },
      {
       "output_type": "stream",
       "stream": "stdout",
       "text": [
        "\n",
        "https://redmine.justsoftwareag.com/issues/8583.json?include=journals&key=d1aef1b9a4658a5db747d0b435942f29133e0a02"
       ]
      },
      {
       "output_type": "stream",
       "stream": "stdout",
       "text": [
        "\n",
        "https://redmine.justsoftwareag.com/issues/8578.json?include=journals&key=d1aef1b9a4658a5db747d0b435942f29133e0a02"
       ]
      },
      {
       "output_type": "stream",
       "stream": "stdout",
       "text": [
        "\n",
        "https://redmine.justsoftwareag.com/issues/8564.json?include=journals&key=d1aef1b9a4658a5db747d0b435942f29133e0a02"
       ]
      },
      {
       "output_type": "stream",
       "stream": "stdout",
       "text": [
        "\n",
        "https://redmine.justsoftwareag.com/issues/8560.json?include=journals&key=d1aef1b9a4658a5db747d0b435942f29133e0a02"
       ]
      },
      {
       "output_type": "stream",
       "stream": "stdout",
       "text": [
        "\n",
        "https://redmine.justsoftwareag.com/issues/8553.json?include=journals&key=d1aef1b9a4658a5db747d0b435942f29133e0a02"
       ]
      },
      {
       "output_type": "stream",
       "stream": "stdout",
       "text": [
        "\n",
        "https://redmine.justsoftwareag.com/issues/8533.json?include=journals&key=d1aef1b9a4658a5db747d0b435942f29133e0a02"
       ]
      },
      {
       "output_type": "stream",
       "stream": "stdout",
       "text": [
        "\n",
        "https://redmine.justsoftwareag.com/issues/8527.json?include=journals&key=d1aef1b9a4658a5db747d0b435942f29133e0a02"
       ]
      },
      {
       "output_type": "stream",
       "stream": "stdout",
       "text": [
        "\n",
        "https://redmine.justsoftwareag.com/issues/8526.json?include=journals&key=d1aef1b9a4658a5db747d0b435942f29133e0a02"
       ]
      },
      {
       "output_type": "stream",
       "stream": "stdout",
       "text": [
        "\n",
        "https://redmine.justsoftwareag.com/issues/8499.json?include=journals&key=d1aef1b9a4658a5db747d0b435942f29133e0a02"
       ]
      },
      {
       "output_type": "stream",
       "stream": "stdout",
       "text": [
        "\n",
        "https://redmine.justsoftwareag.com/issues/8498.json?include=journals&key=d1aef1b9a4658a5db747d0b435942f29133e0a02"
       ]
      },
      {
       "output_type": "stream",
       "stream": "stdout",
       "text": [
        "\n",
        "https://redmine.justsoftwareag.com/issues/8497.json?include=journals&key=d1aef1b9a4658a5db747d0b435942f29133e0a02"
       ]
      },
      {
       "output_type": "stream",
       "stream": "stdout",
       "text": [
        "\n",
        "https://redmine.justsoftwareag.com/issues/8495.json?include=journals&key=d1aef1b9a4658a5db747d0b435942f29133e0a02"
       ]
      },
      {
       "output_type": "stream",
       "stream": "stdout",
       "text": [
        "\n",
        "https://redmine.justsoftwareag.com/issues/8494.json?include=journals&key=d1aef1b9a4658a5db747d0b435942f29133e0a02"
       ]
      },
      {
       "output_type": "stream",
       "stream": "stdout",
       "text": [
        "\n",
        "https://redmine.justsoftwareag.com/issues/8493.json?include=journals&key=d1aef1b9a4658a5db747d0b435942f29133e0a02"
       ]
      },
      {
       "output_type": "stream",
       "stream": "stdout",
       "text": [
        "\n",
        "https://redmine.justsoftwareag.com/issues/8478.json?include=journals&key=d1aef1b9a4658a5db747d0b435942f29133e0a02"
       ]
      },
      {
       "output_type": "stream",
       "stream": "stdout",
       "text": [
        "\n",
        "https://redmine.justsoftwareag.com/issues/8469.json?include=journals&key=d1aef1b9a4658a5db747d0b435942f29133e0a02"
       ]
      },
      {
       "output_type": "stream",
       "stream": "stdout",
       "text": [
        "\n",
        "https://redmine.justsoftwareag.com/issues/8465.json?include=journals&key=d1aef1b9a4658a5db747d0b435942f29133e0a02"
       ]
      },
      {
       "output_type": "stream",
       "stream": "stdout",
       "text": [
        "\n",
        "https://redmine.justsoftwareag.com/issues/8446.json?include=journals&key=d1aef1b9a4658a5db747d0b435942f29133e0a02"
       ]
      },
      {
       "output_type": "stream",
       "stream": "stdout",
       "text": [
        "\n",
        "https://redmine.justsoftwareag.com/issues/8438.json?include=journals&key=d1aef1b9a4658a5db747d0b435942f29133e0a02"
       ]
      },
      {
       "output_type": "stream",
       "stream": "stdout",
       "text": [
        "\n",
        "https://redmine.justsoftwareag.com/issues/8418.json?include=journals&key=d1aef1b9a4658a5db747d0b435942f29133e0a02"
       ]
      },
      {
       "output_type": "stream",
       "stream": "stdout",
       "text": [
        "\n",
        "https://redmine.justsoftwareag.com/issues/8416.json?include=journals&key=d1aef1b9a4658a5db747d0b435942f29133e0a02"
       ]
      },
      {
       "output_type": "stream",
       "stream": "stdout",
       "text": [
        "\n",
        "https://redmine.justsoftwareag.com/issues/8412.json?include=journals&key=d1aef1b9a4658a5db747d0b435942f29133e0a02"
       ]
      },
      {
       "output_type": "stream",
       "stream": "stdout",
       "text": [
        "\n",
        "https://redmine.justsoftwareag.com/issues/8407.json?include=journals&key=d1aef1b9a4658a5db747d0b435942f29133e0a02"
       ]
      },
      {
       "output_type": "stream",
       "stream": "stdout",
       "text": [
        "\n",
        "https://redmine.justsoftwareag.com/issues/8406.json?include=journals&key=d1aef1b9a4658a5db747d0b435942f29133e0a02"
       ]
      },
      {
       "output_type": "stream",
       "stream": "stdout",
       "text": [
        "\n",
        "https://redmine.justsoftwareag.com/issues/8379.json?include=journals&key=d1aef1b9a4658a5db747d0b435942f29133e0a02"
       ]
      },
      {
       "output_type": "stream",
       "stream": "stdout",
       "text": [
        "\n",
        "https://redmine.justsoftwareag.com/issues/8375.json?include=journals&key=d1aef1b9a4658a5db747d0b435942f29133e0a02"
       ]
      },
      {
       "output_type": "stream",
       "stream": "stdout",
       "text": [
        "\n",
        "https://redmine.justsoftwareag.com/issues/8372.json?include=journals&key=d1aef1b9a4658a5db747d0b435942f29133e0a02"
       ]
      },
      {
       "output_type": "stream",
       "stream": "stdout",
       "text": [
        "\n",
        "https://redmine.justsoftwareag.com/issues/8371.json?include=journals&key=d1aef1b9a4658a5db747d0b435942f29133e0a02"
       ]
      },
      {
       "output_type": "stream",
       "stream": "stdout",
       "text": [
        "\n",
        "https://redmine.justsoftwareag.com/issues/8366.json?include=journals&key=d1aef1b9a4658a5db747d0b435942f29133e0a02"
       ]
      },
      {
       "output_type": "stream",
       "stream": "stdout",
       "text": [
        "\n",
        "https://redmine.justsoftwareag.com/issues/8360.json?include=journals&key=d1aef1b9a4658a5db747d0b435942f29133e0a02"
       ]
      },
      {
       "output_type": "stream",
       "stream": "stdout",
       "text": [
        "\n",
        "https://redmine.justsoftwareag.com/issues/8357.json?include=journals&key=d1aef1b9a4658a5db747d0b435942f29133e0a02"
       ]
      },
      {
       "output_type": "stream",
       "stream": "stdout",
       "text": [
        "\n",
        "https://redmine.justsoftwareag.com/issues/8356.json?include=journals&key=d1aef1b9a4658a5db747d0b435942f29133e0a02"
       ]
      },
      {
       "output_type": "stream",
       "stream": "stdout",
       "text": [
        "\n",
        "https://redmine.justsoftwareag.com/issues/8355.json?include=journals&key=d1aef1b9a4658a5db747d0b435942f29133e0a02"
       ]
      },
      {
       "output_type": "stream",
       "stream": "stdout",
       "text": [
        "\n",
        "https://redmine.justsoftwareag.com/issues/8352.json?include=journals&key=d1aef1b9a4658a5db747d0b435942f29133e0a02"
       ]
      },
      {
       "output_type": "stream",
       "stream": "stdout",
       "text": [
        "\n",
        "https://redmine.justsoftwareag.com/issues/8346.json?include=journals&key=d1aef1b9a4658a5db747d0b435942f29133e0a02"
       ]
      },
      {
       "output_type": "stream",
       "stream": "stdout",
       "text": [
        "\n",
        "https://redmine.justsoftwareag.com/issues/8331.json?include=journals&key=d1aef1b9a4658a5db747d0b435942f29133e0a02"
       ]
      },
      {
       "output_type": "stream",
       "stream": "stdout",
       "text": [
        "\n",
        "https://redmine.justsoftwareag.com/issues/8330.json?include=journals&key=d1aef1b9a4658a5db747d0b435942f29133e0a02"
       ]
      },
      {
       "output_type": "stream",
       "stream": "stdout",
       "text": [
        "\n",
        "https://redmine.justsoftwareag.com/issues/8329.json?include=journals&key=d1aef1b9a4658a5db747d0b435942f29133e0a02"
       ]
      },
      {
       "output_type": "stream",
       "stream": "stdout",
       "text": [
        "\n",
        "https://redmine.justsoftwareag.com/issues/8328.json?include=journals&key=d1aef1b9a4658a5db747d0b435942f29133e0a02"
       ]
      },
      {
       "output_type": "stream",
       "stream": "stdout",
       "text": [
        "\n",
        "https://redmine.justsoftwareag.com/issues/8327.json?include=journals&key=d1aef1b9a4658a5db747d0b435942f29133e0a02"
       ]
      },
      {
       "output_type": "stream",
       "stream": "stdout",
       "text": [
        "\n",
        "https://redmine.justsoftwareag.com/issues/8319.json?include=journals&key=d1aef1b9a4658a5db747d0b435942f29133e0a02"
       ]
      },
      {
       "output_type": "stream",
       "stream": "stdout",
       "text": [
        "\n",
        "https://redmine.justsoftwareag.com/issues/8313.json?include=journals&key=d1aef1b9a4658a5db747d0b435942f29133e0a02"
       ]
      },
      {
       "output_type": "stream",
       "stream": "stdout",
       "text": [
        "\n",
        "https://redmine.justsoftwareag.com/issues/8290.json?include=journals&key=d1aef1b9a4658a5db747d0b435942f29133e0a02"
       ]
      },
      {
       "output_type": "stream",
       "stream": "stdout",
       "text": [
        "\n",
        "https://redmine.justsoftwareag.com/issues/8284.json?include=journals&key=d1aef1b9a4658a5db747d0b435942f29133e0a02"
       ]
      },
      {
       "output_type": "stream",
       "stream": "stdout",
       "text": [
        "\n",
        "https://redmine.justsoftwareag.com/issues/8281.json?include=journals&key=d1aef1b9a4658a5db747d0b435942f29133e0a02"
       ]
      },
      {
       "output_type": "stream",
       "stream": "stdout",
       "text": [
        "\n",
        "https://redmine.justsoftwareag.com/issues/8279.json?include=journals&key=d1aef1b9a4658a5db747d0b435942f29133e0a02"
       ]
      },
      {
       "output_type": "stream",
       "stream": "stdout",
       "text": [
        "\n",
        "https://redmine.justsoftwareag.com/issues/8238.json?include=journals&key=d1aef1b9a4658a5db747d0b435942f29133e0a02"
       ]
      },
      {
       "output_type": "stream",
       "stream": "stdout",
       "text": [
        "\n",
        "https://redmine.justsoftwareag.com/issues/8237.json?include=journals&key=d1aef1b9a4658a5db747d0b435942f29133e0a02"
       ]
      },
      {
       "output_type": "stream",
       "stream": "stdout",
       "text": [
        "\n",
        "https://redmine.justsoftwareag.com/issues/8236.json?include=journals&key=d1aef1b9a4658a5db747d0b435942f29133e0a02"
       ]
      },
      {
       "output_type": "stream",
       "stream": "stdout",
       "text": [
        "\n",
        "https://redmine.justsoftwareag.com/issues/8234.json?include=journals&key=d1aef1b9a4658a5db747d0b435942f29133e0a02"
       ]
      },
      {
       "output_type": "stream",
       "stream": "stdout",
       "text": [
        "\n",
        "https://redmine.justsoftwareag.com/issues/8231.json?include=journals&key=d1aef1b9a4658a5db747d0b435942f29133e0a02"
       ]
      },
      {
       "output_type": "stream",
       "stream": "stdout",
       "text": [
        "\n",
        "https://redmine.justsoftwareag.com/issues/8215.json?include=journals&key=d1aef1b9a4658a5db747d0b435942f29133e0a02"
       ]
      },
      {
       "output_type": "stream",
       "stream": "stdout",
       "text": [
        "\n",
        "https://redmine.justsoftwareag.com/issues/8213.json?include=journals&key=d1aef1b9a4658a5db747d0b435942f29133e0a02"
       ]
      },
      {
       "output_type": "stream",
       "stream": "stdout",
       "text": [
        "\n",
        "https://redmine.justsoftwareag.com/issues/8209.json?include=journals&key=d1aef1b9a4658a5db747d0b435942f29133e0a02"
       ]
      },
      {
       "output_type": "stream",
       "stream": "stdout",
       "text": [
        "\n",
        "https://redmine.justsoftwareag.com/issues/8208.json?include=journals&key=d1aef1b9a4658a5db747d0b435942f29133e0a02"
       ]
      },
      {
       "output_type": "stream",
       "stream": "stdout",
       "text": [
        "\n",
        "https://redmine.justsoftwareag.com/issues/8193.json?include=journals&key=d1aef1b9a4658a5db747d0b435942f29133e0a02"
       ]
      },
      {
       "output_type": "stream",
       "stream": "stdout",
       "text": [
        "\n",
        "https://redmine.justsoftwareag.com/issues/8187.json?include=journals&key=d1aef1b9a4658a5db747d0b435942f29133e0a02"
       ]
      },
      {
       "output_type": "stream",
       "stream": "stdout",
       "text": [
        "\n",
        "https://redmine.justsoftwareag.com/issues/8178.json?include=journals&key=d1aef1b9a4658a5db747d0b435942f29133e0a02"
       ]
      },
      {
       "output_type": "stream",
       "stream": "stdout",
       "text": [
        "\n",
        "https://redmine.justsoftwareag.com/issues/8170.json?include=journals&key=d1aef1b9a4658a5db747d0b435942f29133e0a02"
       ]
      },
      {
       "output_type": "stream",
       "stream": "stdout",
       "text": [
        "\n",
        "https://redmine.justsoftwareag.com/issues/8150.json?include=journals&key=d1aef1b9a4658a5db747d0b435942f29133e0a02"
       ]
      },
      {
       "output_type": "stream",
       "stream": "stdout",
       "text": [
        "\n",
        "https://redmine.justsoftwareag.com/issues/8149.json?include=journals&key=d1aef1b9a4658a5db747d0b435942f29133e0a02"
       ]
      },
      {
       "output_type": "stream",
       "stream": "stdout",
       "text": [
        "\n",
        "https://redmine.justsoftwareag.com/issues/8146.json?include=journals&key=d1aef1b9a4658a5db747d0b435942f29133e0a02"
       ]
      },
      {
       "output_type": "stream",
       "stream": "stdout",
       "text": [
        "\n",
        "https://redmine.justsoftwareag.com/issues/8140.json?include=journals&key=d1aef1b9a4658a5db747d0b435942f29133e0a02"
       ]
      },
      {
       "output_type": "stream",
       "stream": "stdout",
       "text": [
        "\n",
        "https://redmine.justsoftwareag.com/issues/8135.json?include=journals&key=d1aef1b9a4658a5db747d0b435942f29133e0a02"
       ]
      },
      {
       "output_type": "stream",
       "stream": "stdout",
       "text": [
        "\n",
        "https://redmine.justsoftwareag.com/issues/8125.json?include=journals&key=d1aef1b9a4658a5db747d0b435942f29133e0a02"
       ]
      },
      {
       "output_type": "stream",
       "stream": "stdout",
       "text": [
        "\n",
        "https://redmine.justsoftwareag.com/issues/8122.json?include=journals&key=d1aef1b9a4658a5db747d0b435942f29133e0a02"
       ]
      },
      {
       "output_type": "stream",
       "stream": "stdout",
       "text": [
        "\n",
        "https://redmine.justsoftwareag.com/issues/8118.json?include=journals&key=d1aef1b9a4658a5db747d0b435942f29133e0a02"
       ]
      },
      {
       "output_type": "stream",
       "stream": "stdout",
       "text": [
        "\n",
        "https://redmine.justsoftwareag.com/issues/8117.json?include=journals&key=d1aef1b9a4658a5db747d0b435942f29133e0a02"
       ]
      },
      {
       "output_type": "stream",
       "stream": "stdout",
       "text": [
        "\n",
        "https://redmine.justsoftwareag.com/issues/8116.json?include=journals&key=d1aef1b9a4658a5db747d0b435942f29133e0a02"
       ]
      },
      {
       "output_type": "stream",
       "stream": "stdout",
       "text": [
        "\n",
        "https://redmine.justsoftwareag.com/issues/8111.json?include=journals&key=d1aef1b9a4658a5db747d0b435942f29133e0a02"
       ]
      },
      {
       "output_type": "stream",
       "stream": "stdout",
       "text": [
        "\n",
        "https://redmine.justsoftwareag.com/issues/8105.json?include=journals&key=d1aef1b9a4658a5db747d0b435942f29133e0a02"
       ]
      },
      {
       "output_type": "stream",
       "stream": "stdout",
       "text": [
        "\n",
        "https://redmine.justsoftwareag.com/issues/8092.json?include=journals&key=d1aef1b9a4658a5db747d0b435942f29133e0a02"
       ]
      },
      {
       "output_type": "stream",
       "stream": "stdout",
       "text": [
        "\n",
        "https://redmine.justsoftwareag.com/issues/8089.json?include=journals&key=d1aef1b9a4658a5db747d0b435942f29133e0a02"
       ]
      },
      {
       "output_type": "stream",
       "stream": "stdout",
       "text": [
        "\n",
        "https://redmine.justsoftwareag.com/issues/8086.json?include=journals&key=d1aef1b9a4658a5db747d0b435942f29133e0a02"
       ]
      },
      {
       "output_type": "stream",
       "stream": "stdout",
       "text": [
        "\n",
        "https://redmine.justsoftwareag.com/issues/8077.json?include=journals&key=d1aef1b9a4658a5db747d0b435942f29133e0a02"
       ]
      },
      {
       "output_type": "stream",
       "stream": "stdout",
       "text": [
        "\n",
        "https://redmine.justsoftwareag.com/issues/8074.json?include=journals&key=d1aef1b9a4658a5db747d0b435942f29133e0a02"
       ]
      },
      {
       "output_type": "stream",
       "stream": "stdout",
       "text": [
        "\n",
        "https://redmine.justsoftwareag.com/issues/8071.json?include=journals&key=d1aef1b9a4658a5db747d0b435942f29133e0a02"
       ]
      },
      {
       "output_type": "stream",
       "stream": "stdout",
       "text": [
        "\n",
        "https://redmine.justsoftwareag.com/issues/8070.json?include=journals&key=d1aef1b9a4658a5db747d0b435942f29133e0a02"
       ]
      },
      {
       "output_type": "stream",
       "stream": "stdout",
       "text": [
        "\n",
        "https://redmine.justsoftwareag.com/issues/8063.json?include=journals&key=d1aef1b9a4658a5db747d0b435942f29133e0a02"
       ]
      },
      {
       "output_type": "stream",
       "stream": "stdout",
       "text": [
        "\n",
        "https://redmine.justsoftwareag.com/issues/8061.json?include=journals&key=d1aef1b9a4658a5db747d0b435942f29133e0a02"
       ]
      },
      {
       "output_type": "stream",
       "stream": "stdout",
       "text": [
        "\n",
        "https://redmine.justsoftwareag.com/issues/8060.json?include=journals&key=d1aef1b9a4658a5db747d0b435942f29133e0a02"
       ]
      },
      {
       "output_type": "stream",
       "stream": "stdout",
       "text": [
        "\n",
        "https://redmine.justsoftwareag.com/issues/8059.json?include=journals&key=d1aef1b9a4658a5db747d0b435942f29133e0a02"
       ]
      },
      {
       "output_type": "stream",
       "stream": "stdout",
       "text": [
        "\n",
        "https://redmine.justsoftwareag.com/issues/8058.json?include=journals&key=d1aef1b9a4658a5db747d0b435942f29133e0a02"
       ]
      },
      {
       "output_type": "stream",
       "stream": "stdout",
       "text": [
        "\n",
        "https://redmine.justsoftwareag.com/issues/8057.json?include=journals&key=d1aef1b9a4658a5db747d0b435942f29133e0a02"
       ]
      },
      {
       "output_type": "stream",
       "stream": "stdout",
       "text": [
        "\n",
        "https://redmine.justsoftwareag.com/issues/8055.json?include=journals&key=d1aef1b9a4658a5db747d0b435942f29133e0a02"
       ]
      },
      {
       "output_type": "stream",
       "stream": "stdout",
       "text": [
        "\n",
        "https://redmine.justsoftwareag.com/issues/8053.json?include=journals&key=d1aef1b9a4658a5db747d0b435942f29133e0a02"
       ]
      },
      {
       "output_type": "stream",
       "stream": "stdout",
       "text": [
        "\n",
        "https://redmine.justsoftwareag.com/issues/8049.json?include=journals&key=d1aef1b9a4658a5db747d0b435942f29133e0a02"
       ]
      },
      {
       "output_type": "stream",
       "stream": "stdout",
       "text": [
        "\n",
        "https://redmine.justsoftwareag.com/issues/8044.json?include=journals&key=d1aef1b9a4658a5db747d0b435942f29133e0a02"
       ]
      },
      {
       "output_type": "stream",
       "stream": "stdout",
       "text": [
        "\n",
        "https://redmine.justsoftwareag.com/issues/8027.json?include=journals&key=d1aef1b9a4658a5db747d0b435942f29133e0a02"
       ]
      },
      {
       "output_type": "stream",
       "stream": "stdout",
       "text": [
        "\n",
        "https://redmine.justsoftwareag.com/issues/8024.json?include=journals&key=d1aef1b9a4658a5db747d0b435942f29133e0a02"
       ]
      },
      {
       "output_type": "stream",
       "stream": "stdout",
       "text": [
        "\n",
        "https://redmine.justsoftwareag.com/issues/7977.json?include=journals&key=d1aef1b9a4658a5db747d0b435942f29133e0a02"
       ]
      },
      {
       "output_type": "stream",
       "stream": "stdout",
       "text": [
        "\n",
        "https://redmine.justsoftwareag.com/issues/7968.json?include=journals&key=d1aef1b9a4658a5db747d0b435942f29133e0a02"
       ]
      },
      {
       "output_type": "stream",
       "stream": "stdout",
       "text": [
        "\n",
        "https://redmine.justsoftwareag.com/issues/7898.json?include=journals&key=d1aef1b9a4658a5db747d0b435942f29133e0a02"
       ]
      },
      {
       "output_type": "stream",
       "stream": "stdout",
       "text": [
        "\n",
        "https://redmine.justsoftwareag.com/issues/7887.json?include=journals&key=d1aef1b9a4658a5db747d0b435942f29133e0a02"
       ]
      },
      {
       "output_type": "stream",
       "stream": "stdout",
       "text": [
        "\n",
        "https://redmine.justsoftwareag.com/issues/7861.json?include=journals&key=d1aef1b9a4658a5db747d0b435942f29133e0a02"
       ]
      },
      {
       "output_type": "stream",
       "stream": "stdout",
       "text": [
        "\n",
        "https://redmine.justsoftwareag.com/issues/7849.json?include=journals&key=d1aef1b9a4658a5db747d0b435942f29133e0a02"
       ]
      },
      {
       "output_type": "stream",
       "stream": "stdout",
       "text": [
        "\n",
        "https://redmine.justsoftwareag.com/issues/7848.json?include=journals&key=d1aef1b9a4658a5db747d0b435942f29133e0a02"
       ]
      },
      {
       "output_type": "stream",
       "stream": "stdout",
       "text": [
        "\n",
        "https://redmine.justsoftwareag.com/issues/7846.json?include=journals&key=d1aef1b9a4658a5db747d0b435942f29133e0a02"
       ]
      },
      {
       "output_type": "stream",
       "stream": "stdout",
       "text": [
        "\n",
        "https://redmine.justsoftwareag.com/issues/7840.json?include=journals&key=d1aef1b9a4658a5db747d0b435942f29133e0a02"
       ]
      },
      {
       "output_type": "stream",
       "stream": "stdout",
       "text": [
        "\n",
        "https://redmine.justsoftwareag.com/issues/7825.json?include=journals&key=d1aef1b9a4658a5db747d0b435942f29133e0a02"
       ]
      },
      {
       "output_type": "stream",
       "stream": "stdout",
       "text": [
        "\n",
        "https://redmine.justsoftwareag.com/issues/7824.json?include=journals&key=d1aef1b9a4658a5db747d0b435942f29133e0a02"
       ]
      },
      {
       "output_type": "stream",
       "stream": "stdout",
       "text": [
        "\n",
        "https://redmine.justsoftwareag.com/issues/7815.json?include=journals&key=d1aef1b9a4658a5db747d0b435942f29133e0a02"
       ]
      },
      {
       "output_type": "stream",
       "stream": "stdout",
       "text": [
        "\n",
        "https://redmine.justsoftwareag.com/issues/7800.json?include=journals&key=d1aef1b9a4658a5db747d0b435942f29133e0a02"
       ]
      },
      {
       "output_type": "stream",
       "stream": "stdout",
       "text": [
        "\n",
        "https://redmine.justsoftwareag.com/issues/7755.json?include=journals&key=d1aef1b9a4658a5db747d0b435942f29133e0a02"
       ]
      },
      {
       "output_type": "stream",
       "stream": "stdout",
       "text": [
        "\n",
        "https://redmine.justsoftwareag.com/issues/7754.json?include=journals&key=d1aef1b9a4658a5db747d0b435942f29133e0a02"
       ]
      },
      {
       "output_type": "stream",
       "stream": "stdout",
       "text": [
        "\n",
        "https://redmine.justsoftwareag.com/issues/7753.json?include=journals&key=d1aef1b9a4658a5db747d0b435942f29133e0a02"
       ]
      },
      {
       "output_type": "stream",
       "stream": "stdout",
       "text": [
        "\n",
        "https://redmine.justsoftwareag.com/issues/7714.json?include=journals&key=d1aef1b9a4658a5db747d0b435942f29133e0a02"
       ]
      },
      {
       "output_type": "stream",
       "stream": "stdout",
       "text": [
        "\n",
        "https://redmine.justsoftwareag.com/issues/7699.json?include=journals&key=d1aef1b9a4658a5db747d0b435942f29133e0a02"
       ]
      },
      {
       "output_type": "stream",
       "stream": "stdout",
       "text": [
        "\n",
        "https://redmine.justsoftwareag.com/issues/7684.json?include=journals&key=d1aef1b9a4658a5db747d0b435942f29133e0a02"
       ]
      },
      {
       "output_type": "stream",
       "stream": "stdout",
       "text": [
        "\n",
        "https://redmine.justsoftwareag.com/issues/7680.json?include=journals&key=d1aef1b9a4658a5db747d0b435942f29133e0a02"
       ]
      },
      {
       "output_type": "stream",
       "stream": "stdout",
       "text": [
        "\n",
        "https://redmine.justsoftwareag.com/issues/7669.json?include=journals&key=d1aef1b9a4658a5db747d0b435942f29133e0a02"
       ]
      },
      {
       "output_type": "stream",
       "stream": "stdout",
       "text": [
        "\n",
        "https://redmine.justsoftwareag.com/issues/7644.json?include=journals&key=d1aef1b9a4658a5db747d0b435942f29133e0a02"
       ]
      },
      {
       "output_type": "stream",
       "stream": "stdout",
       "text": [
        "\n",
        "https://redmine.justsoftwareag.com/issues/7599.json?include=journals&key=d1aef1b9a4658a5db747d0b435942f29133e0a02"
       ]
      },
      {
       "output_type": "stream",
       "stream": "stdout",
       "text": [
        "\n",
        "https://redmine.justsoftwareag.com/issues/7598.json?include=journals&key=d1aef1b9a4658a5db747d0b435942f29133e0a02"
       ]
      },
      {
       "output_type": "stream",
       "stream": "stdout",
       "text": [
        "\n",
        "https://redmine.justsoftwareag.com/issues/7592.json?include=journals&key=d1aef1b9a4658a5db747d0b435942f29133e0a02"
       ]
      },
      {
       "output_type": "stream",
       "stream": "stdout",
       "text": [
        "\n",
        "https://redmine.justsoftwareag.com/issues/7591.json?include=journals&key=d1aef1b9a4658a5db747d0b435942f29133e0a02"
       ]
      },
      {
       "output_type": "stream",
       "stream": "stdout",
       "text": [
        "\n",
        "https://redmine.justsoftwareag.com/issues/7581.json?include=journals&key=d1aef1b9a4658a5db747d0b435942f29133e0a02"
       ]
      },
      {
       "output_type": "stream",
       "stream": "stdout",
       "text": [
        "\n",
        "https://redmine.justsoftwareag.com/issues/7579.json?include=journals&key=d1aef1b9a4658a5db747d0b435942f29133e0a02"
       ]
      },
      {
       "output_type": "stream",
       "stream": "stdout",
       "text": [
        "\n",
        "https://redmine.justsoftwareag.com/issues/7577.json?include=journals&key=d1aef1b9a4658a5db747d0b435942f29133e0a02"
       ]
      },
      {
       "output_type": "stream",
       "stream": "stdout",
       "text": [
        "\n",
        "https://redmine.justsoftwareag.com/issues/7568.json?include=journals&key=d1aef1b9a4658a5db747d0b435942f29133e0a02"
       ]
      },
      {
       "output_type": "stream",
       "stream": "stdout",
       "text": [
        "\n",
        "https://redmine.justsoftwareag.com/issues/7566.json?include=journals&key=d1aef1b9a4658a5db747d0b435942f29133e0a02"
       ]
      },
      {
       "output_type": "stream",
       "stream": "stdout",
       "text": [
        "\n",
        "https://redmine.justsoftwareag.com/issues/7563.json?include=journals&key=d1aef1b9a4658a5db747d0b435942f29133e0a02"
       ]
      },
      {
       "output_type": "stream",
       "stream": "stdout",
       "text": [
        "\n",
        "https://redmine.justsoftwareag.com/issues/7561.json?include=journals&key=d1aef1b9a4658a5db747d0b435942f29133e0a02"
       ]
      },
      {
       "output_type": "stream",
       "stream": "stdout",
       "text": [
        "\n",
        "https://redmine.justsoftwareag.com/issues/7557.json?include=journals&key=d1aef1b9a4658a5db747d0b435942f29133e0a02"
       ]
      },
      {
       "output_type": "stream",
       "stream": "stdout",
       "text": [
        "\n",
        "https://redmine.justsoftwareag.com/issues/7555.json?include=journals&key=d1aef1b9a4658a5db747d0b435942f29133e0a02"
       ]
      },
      {
       "output_type": "stream",
       "stream": "stdout",
       "text": [
        "\n",
        "https://redmine.justsoftwareag.com/issues/7550.json?include=journals&key=d1aef1b9a4658a5db747d0b435942f29133e0a02"
       ]
      },
      {
       "output_type": "stream",
       "stream": "stdout",
       "text": [
        "\n",
        "https://redmine.justsoftwareag.com/issues/7548.json?include=journals&key=d1aef1b9a4658a5db747d0b435942f29133e0a02"
       ]
      },
      {
       "output_type": "stream",
       "stream": "stdout",
       "text": [
        "\n",
        "https://redmine.justsoftwareag.com/issues/7544.json?include=journals&key=d1aef1b9a4658a5db747d0b435942f29133e0a02"
       ]
      },
      {
       "output_type": "stream",
       "stream": "stdout",
       "text": [
        "\n",
        "https://redmine.justsoftwareag.com/issues/7534.json?include=journals&key=d1aef1b9a4658a5db747d0b435942f29133e0a02"
       ]
      },
      {
       "output_type": "stream",
       "stream": "stdout",
       "text": [
        "\n",
        "https://redmine.justsoftwareag.com/issues/7533.json?include=journals&key=d1aef1b9a4658a5db747d0b435942f29133e0a02"
       ]
      },
      {
       "output_type": "stream",
       "stream": "stdout",
       "text": [
        "\n",
        "https://redmine.justsoftwareag.com/issues/7529.json?include=journals&key=d1aef1b9a4658a5db747d0b435942f29133e0a02"
       ]
      },
      {
       "output_type": "stream",
       "stream": "stdout",
       "text": [
        "\n",
        "https://redmine.justsoftwareag.com/issues/7528.json?include=journals&key=d1aef1b9a4658a5db747d0b435942f29133e0a02"
       ]
      },
      {
       "output_type": "stream",
       "stream": "stdout",
       "text": [
        "\n",
        "https://redmine.justsoftwareag.com/issues/7527.json?include=journals&key=d1aef1b9a4658a5db747d0b435942f29133e0a02"
       ]
      },
      {
       "output_type": "stream",
       "stream": "stdout",
       "text": [
        "\n",
        "https://redmine.justsoftwareag.com/issues/7521.json?include=journals&key=d1aef1b9a4658a5db747d0b435942f29133e0a02"
       ]
      },
      {
       "output_type": "stream",
       "stream": "stdout",
       "text": [
        "\n",
        "https://redmine.justsoftwareag.com/issues/7512.json?include=journals&key=d1aef1b9a4658a5db747d0b435942f29133e0a02"
       ]
      },
      {
       "output_type": "stream",
       "stream": "stdout",
       "text": [
        "\n",
        "https://redmine.justsoftwareag.com/issues/7508.json?include=journals&key=d1aef1b9a4658a5db747d0b435942f29133e0a02"
       ]
      },
      {
       "output_type": "stream",
       "stream": "stdout",
       "text": [
        "\n",
        "https://redmine.justsoftwareag.com/issues/7507.json?include=journals&key=d1aef1b9a4658a5db747d0b435942f29133e0a02"
       ]
      },
      {
       "output_type": "stream",
       "stream": "stdout",
       "text": [
        "\n",
        "https://redmine.justsoftwareag.com/issues/7506.json?include=journals&key=d1aef1b9a4658a5db747d0b435942f29133e0a02"
       ]
      },
      {
       "output_type": "stream",
       "stream": "stdout",
       "text": [
        "\n",
        "https://redmine.justsoftwareag.com/issues/7503.json?include=journals&key=d1aef1b9a4658a5db747d0b435942f29133e0a02"
       ]
      },
      {
       "output_type": "stream",
       "stream": "stdout",
       "text": [
        "\n",
        "https://redmine.justsoftwareag.com/issues/7495.json?include=journals&key=d1aef1b9a4658a5db747d0b435942f29133e0a02"
       ]
      },
      {
       "output_type": "stream",
       "stream": "stdout",
       "text": [
        "\n",
        "https://redmine.justsoftwareag.com/issues/7483.json?include=journals&key=d1aef1b9a4658a5db747d0b435942f29133e0a02"
       ]
      },
      {
       "output_type": "stream",
       "stream": "stdout",
       "text": [
        "\n",
        "https://redmine.justsoftwareag.com/issues/7482.json?include=journals&key=d1aef1b9a4658a5db747d0b435942f29133e0a02"
       ]
      },
      {
       "output_type": "stream",
       "stream": "stdout",
       "text": [
        "\n",
        "https://redmine.justsoftwareag.com/issues/7481.json?include=journals&key=d1aef1b9a4658a5db747d0b435942f29133e0a02"
       ]
      },
      {
       "output_type": "stream",
       "stream": "stdout",
       "text": [
        "\n",
        "https://redmine.justsoftwareag.com/issues/7466.json?include=journals&key=d1aef1b9a4658a5db747d0b435942f29133e0a02"
       ]
      },
      {
       "output_type": "stream",
       "stream": "stdout",
       "text": [
        "\n",
        "https://redmine.justsoftwareag.com/issues/7460.json?include=journals&key=d1aef1b9a4658a5db747d0b435942f29133e0a02"
       ]
      },
      {
       "output_type": "stream",
       "stream": "stdout",
       "text": [
        "\n",
        "https://redmine.justsoftwareag.com/issues/7459.json?include=journals&key=d1aef1b9a4658a5db747d0b435942f29133e0a02"
       ]
      },
      {
       "output_type": "stream",
       "stream": "stdout",
       "text": [
        "\n",
        "https://redmine.justsoftwareag.com/issues/7458.json?include=journals&key=d1aef1b9a4658a5db747d0b435942f29133e0a02"
       ]
      },
      {
       "output_type": "stream",
       "stream": "stdout",
       "text": [
        "\n",
        "https://redmine.justsoftwareag.com/issues/7435.json?include=journals&key=d1aef1b9a4658a5db747d0b435942f29133e0a02"
       ]
      },
      {
       "output_type": "stream",
       "stream": "stdout",
       "text": [
        "\n",
        "https://redmine.justsoftwareag.com/issues/7434.json?include=journals&key=d1aef1b9a4658a5db747d0b435942f29133e0a02"
       ]
      },
      {
       "output_type": "stream",
       "stream": "stdout",
       "text": [
        "\n",
        "https://redmine.justsoftwareag.com/issues/7433.json?include=journals&key=d1aef1b9a4658a5db747d0b435942f29133e0a02"
       ]
      },
      {
       "output_type": "stream",
       "stream": "stdout",
       "text": [
        "\n",
        "https://redmine.justsoftwareag.com/issues/7431.json?include=journals&key=d1aef1b9a4658a5db747d0b435942f29133e0a02"
       ]
      },
      {
       "output_type": "stream",
       "stream": "stdout",
       "text": [
        "\n",
        "https://redmine.justsoftwareag.com/issues/7430.json?include=journals&key=d1aef1b9a4658a5db747d0b435942f29133e0a02"
       ]
      },
      {
       "output_type": "stream",
       "stream": "stdout",
       "text": [
        "\n",
        "https://redmine.justsoftwareag.com/issues/7428.json?include=journals&key=d1aef1b9a4658a5db747d0b435942f29133e0a02"
       ]
      },
      {
       "output_type": "stream",
       "stream": "stdout",
       "text": [
        "\n",
        "https://redmine.justsoftwareag.com/issues/7401.json?include=journals&key=d1aef1b9a4658a5db747d0b435942f29133e0a02"
       ]
      },
      {
       "output_type": "stream",
       "stream": "stdout",
       "text": [
        "\n",
        "https://redmine.justsoftwareag.com/issues/7396.json?include=journals&key=d1aef1b9a4658a5db747d0b435942f29133e0a02"
       ]
      },
      {
       "output_type": "stream",
       "stream": "stdout",
       "text": [
        "\n",
        "https://redmine.justsoftwareag.com/issues/7395.json?include=journals&key=d1aef1b9a4658a5db747d0b435942f29133e0a02"
       ]
      },
      {
       "output_type": "stream",
       "stream": "stdout",
       "text": [
        "\n",
        "https://redmine.justsoftwareag.com/issues/7391.json?include=journals&key=d1aef1b9a4658a5db747d0b435942f29133e0a02"
       ]
      },
      {
       "output_type": "stream",
       "stream": "stdout",
       "text": [
        "\n",
        "https://redmine.justsoftwareag.com/issues/7390.json?include=journals&key=d1aef1b9a4658a5db747d0b435942f29133e0a02"
       ]
      },
      {
       "output_type": "stream",
       "stream": "stdout",
       "text": [
        "\n",
        "https://redmine.justsoftwareag.com/issues/7388.json?include=journals&key=d1aef1b9a4658a5db747d0b435942f29133e0a02"
       ]
      },
      {
       "output_type": "stream",
       "stream": "stdout",
       "text": [
        "\n",
        "https://redmine.justsoftwareag.com/issues/7387.json?include=journals&key=d1aef1b9a4658a5db747d0b435942f29133e0a02"
       ]
      },
      {
       "output_type": "stream",
       "stream": "stdout",
       "text": [
        "\n",
        "https://redmine.justsoftwareag.com/issues/7386.json?include=journals&key=d1aef1b9a4658a5db747d0b435942f29133e0a02"
       ]
      },
      {
       "output_type": "stream",
       "stream": "stdout",
       "text": [
        "\n",
        "https://redmine.justsoftwareag.com/issues/7385.json?include=journals&key=d1aef1b9a4658a5db747d0b435942f29133e0a02"
       ]
      },
      {
       "output_type": "stream",
       "stream": "stdout",
       "text": [
        "\n",
        "https://redmine.justsoftwareag.com/issues/7382.json?include=journals&key=d1aef1b9a4658a5db747d0b435942f29133e0a02"
       ]
      },
      {
       "output_type": "stream",
       "stream": "stdout",
       "text": [
        "\n",
        "https://redmine.justsoftwareag.com/issues/7371.json?include=journals&key=d1aef1b9a4658a5db747d0b435942f29133e0a02"
       ]
      },
      {
       "output_type": "stream",
       "stream": "stdout",
       "text": [
        "\n",
        "https://redmine.justsoftwareag.com/issues/7370.json?include=journals&key=d1aef1b9a4658a5db747d0b435942f29133e0a02"
       ]
      },
      {
       "output_type": "stream",
       "stream": "stdout",
       "text": [
        "\n",
        "https://redmine.justsoftwareag.com/issues/7362.json?include=journals&key=d1aef1b9a4658a5db747d0b435942f29133e0a02"
       ]
      },
      {
       "output_type": "stream",
       "stream": "stdout",
       "text": [
        "\n",
        "https://redmine.justsoftwareag.com/issues/7351.json?include=journals&key=d1aef1b9a4658a5db747d0b435942f29133e0a02"
       ]
      },
      {
       "output_type": "stream",
       "stream": "stdout",
       "text": [
        "\n",
        "https://redmine.justsoftwareag.com/issues/7349.json?include=journals&key=d1aef1b9a4658a5db747d0b435942f29133e0a02"
       ]
      },
      {
       "output_type": "stream",
       "stream": "stdout",
       "text": [
        "\n",
        "https://redmine.justsoftwareag.com/issues/7345.json?include=journals&key=d1aef1b9a4658a5db747d0b435942f29133e0a02"
       ]
      },
      {
       "output_type": "stream",
       "stream": "stdout",
       "text": [
        "\n",
        "https://redmine.justsoftwareag.com/issues/7338.json?include=journals&key=d1aef1b9a4658a5db747d0b435942f29133e0a02"
       ]
      },
      {
       "output_type": "stream",
       "stream": "stdout",
       "text": [
        "\n",
        "https://redmine.justsoftwareag.com/issues/7325.json?include=journals&key=d1aef1b9a4658a5db747d0b435942f29133e0a02"
       ]
      },
      {
       "output_type": "stream",
       "stream": "stdout",
       "text": [
        "\n",
        "https://redmine.justsoftwareag.com/issues/7323.json?include=journals&key=d1aef1b9a4658a5db747d0b435942f29133e0a02"
       ]
      },
      {
       "output_type": "stream",
       "stream": "stdout",
       "text": [
        "\n",
        "https://redmine.justsoftwareag.com/issues/7322.json?include=journals&key=d1aef1b9a4658a5db747d0b435942f29133e0a02"
       ]
      },
      {
       "output_type": "stream",
       "stream": "stdout",
       "text": [
        "\n",
        "https://redmine.justsoftwareag.com/issues/7317.json?include=journals&key=d1aef1b9a4658a5db747d0b435942f29133e0a02"
       ]
      },
      {
       "output_type": "stream",
       "stream": "stdout",
       "text": [
        "\n",
        "https://redmine.justsoftwareag.com/issues/7313.json?include=journals&key=d1aef1b9a4658a5db747d0b435942f29133e0a02"
       ]
      },
      {
       "output_type": "stream",
       "stream": "stdout",
       "text": [
        "\n",
        "https://redmine.justsoftwareag.com/issues/7307.json?include=journals&key=d1aef1b9a4658a5db747d0b435942f29133e0a02"
       ]
      },
      {
       "output_type": "stream",
       "stream": "stdout",
       "text": [
        "\n",
        "https://redmine.justsoftwareag.com/issues/7299.json?include=journals&key=d1aef1b9a4658a5db747d0b435942f29133e0a02"
       ]
      },
      {
       "output_type": "stream",
       "stream": "stdout",
       "text": [
        "\n",
        "https://redmine.justsoftwareag.com/issues/7294.json?include=journals&key=d1aef1b9a4658a5db747d0b435942f29133e0a02"
       ]
      },
      {
       "output_type": "stream",
       "stream": "stdout",
       "text": [
        "\n",
        "https://redmine.justsoftwareag.com/issues/7292.json?include=journals&key=d1aef1b9a4658a5db747d0b435942f29133e0a02"
       ]
      },
      {
       "output_type": "stream",
       "stream": "stdout",
       "text": [
        "\n",
        "https://redmine.justsoftwareag.com/issues/7291.json?include=journals&key=d1aef1b9a4658a5db747d0b435942f29133e0a02"
       ]
      },
      {
       "output_type": "stream",
       "stream": "stdout",
       "text": [
        "\n",
        "https://redmine.justsoftwareag.com/issues/7285.json?include=journals&key=d1aef1b9a4658a5db747d0b435942f29133e0a02"
       ]
      },
      {
       "output_type": "stream",
       "stream": "stdout",
       "text": [
        "\n",
        "https://redmine.justsoftwareag.com/issues/7283.json?include=journals&key=d1aef1b9a4658a5db747d0b435942f29133e0a02"
       ]
      },
      {
       "output_type": "stream",
       "stream": "stdout",
       "text": [
        "\n",
        "https://redmine.justsoftwareag.com/issues/7274.json?include=journals&key=d1aef1b9a4658a5db747d0b435942f29133e0a02"
       ]
      },
      {
       "output_type": "stream",
       "stream": "stdout",
       "text": [
        "\n",
        "https://redmine.justsoftwareag.com/issues/7271.json?include=journals&key=d1aef1b9a4658a5db747d0b435942f29133e0a02"
       ]
      },
      {
       "output_type": "stream",
       "stream": "stdout",
       "text": [
        "\n",
        "https://redmine.justsoftwareag.com/issues/7205.json?include=journals&key=d1aef1b9a4658a5db747d0b435942f29133e0a02"
       ]
      },
      {
       "output_type": "stream",
       "stream": "stdout",
       "text": [
        "\n",
        "https://redmine.justsoftwareag.com/issues/7180.json?include=journals&key=d1aef1b9a4658a5db747d0b435942f29133e0a02"
       ]
      },
      {
       "output_type": "stream",
       "stream": "stdout",
       "text": [
        "\n",
        "https://redmine.justsoftwareag.com/issues/7166.json?include=journals&key=d1aef1b9a4658a5db747d0b435942f29133e0a02"
       ]
      },
      {
       "output_type": "stream",
       "stream": "stdout",
       "text": [
        "\n",
        "https://redmine.justsoftwareag.com/issues/7157.json?include=journals&key=d1aef1b9a4658a5db747d0b435942f29133e0a02"
       ]
      },
      {
       "output_type": "stream",
       "stream": "stdout",
       "text": [
        "\n",
        "https://redmine.justsoftwareag.com/issues/7144.json?include=journals&key=d1aef1b9a4658a5db747d0b435942f29133e0a02"
       ]
      },
      {
       "output_type": "stream",
       "stream": "stdout",
       "text": [
        "\n",
        "https://redmine.justsoftwareag.com/issues/7131.json?include=journals&key=d1aef1b9a4658a5db747d0b435942f29133e0a02"
       ]
      },
      {
       "output_type": "stream",
       "stream": "stdout",
       "text": [
        "\n",
        "https://redmine.justsoftwareag.com/issues/7124.json?include=journals&key=d1aef1b9a4658a5db747d0b435942f29133e0a02"
       ]
      },
      {
       "output_type": "stream",
       "stream": "stdout",
       "text": [
        "\n",
        "https://redmine.justsoftwareag.com/issues/7119.json?include=journals&key=d1aef1b9a4658a5db747d0b435942f29133e0a02"
       ]
      },
      {
       "output_type": "stream",
       "stream": "stdout",
       "text": [
        "\n",
        "https://redmine.justsoftwareag.com/issues/7117.json?include=journals&key=d1aef1b9a4658a5db747d0b435942f29133e0a02"
       ]
      },
      {
       "output_type": "stream",
       "stream": "stdout",
       "text": [
        "\n",
        "https://redmine.justsoftwareag.com/issues/7115.json?include=journals&key=d1aef1b9a4658a5db747d0b435942f29133e0a02"
       ]
      },
      {
       "output_type": "stream",
       "stream": "stdout",
       "text": [
        "\n",
        "https://redmine.justsoftwareag.com/issues/7113.json?include=journals&key=d1aef1b9a4658a5db747d0b435942f29133e0a02"
       ]
      },
      {
       "output_type": "stream",
       "stream": "stdout",
       "text": [
        "\n",
        "https://redmine.justsoftwareag.com/issues/7091.json?include=journals&key=d1aef1b9a4658a5db747d0b435942f29133e0a02"
       ]
      },
      {
       "output_type": "stream",
       "stream": "stdout",
       "text": [
        "\n",
        "https://redmine.justsoftwareag.com/issues/7087.json?include=journals&key=d1aef1b9a4658a5db747d0b435942f29133e0a02"
       ]
      },
      {
       "output_type": "stream",
       "stream": "stdout",
       "text": [
        "\n",
        "https://redmine.justsoftwareag.com/issues/7082.json?include=journals&key=d1aef1b9a4658a5db747d0b435942f29133e0a02"
       ]
      },
      {
       "output_type": "stream",
       "stream": "stdout",
       "text": [
        "\n",
        "https://redmine.justsoftwareag.com/issues/7075.json?include=journals&key=d1aef1b9a4658a5db747d0b435942f29133e0a02"
       ]
      },
      {
       "output_type": "stream",
       "stream": "stdout",
       "text": [
        "\n",
        "https://redmine.justsoftwareag.com/issues/7053.json?include=journals&key=d1aef1b9a4658a5db747d0b435942f29133e0a02"
       ]
      },
      {
       "output_type": "stream",
       "stream": "stdout",
       "text": [
        "\n",
        "https://redmine.justsoftwareag.com/issues/7048.json?include=journals&key=d1aef1b9a4658a5db747d0b435942f29133e0a02"
       ]
      },
      {
       "output_type": "stream",
       "stream": "stdout",
       "text": [
        "\n",
        "https://redmine.justsoftwareag.com/issues/7032.json?include=journals&key=d1aef1b9a4658a5db747d0b435942f29133e0a02"
       ]
      },
      {
       "output_type": "stream",
       "stream": "stdout",
       "text": [
        "\n",
        "https://redmine.justsoftwareag.com/issues/7020.json?include=journals&key=d1aef1b9a4658a5db747d0b435942f29133e0a02"
       ]
      },
      {
       "output_type": "stream",
       "stream": "stdout",
       "text": [
        "\n",
        "https://redmine.justsoftwareag.com/issues/7015.json?include=journals&key=d1aef1b9a4658a5db747d0b435942f29133e0a02"
       ]
      },
      {
       "output_type": "stream",
       "stream": "stdout",
       "text": [
        "\n",
        "https://redmine.justsoftwareag.com/issues/6954.json?include=journals&key=d1aef1b9a4658a5db747d0b435942f29133e0a02"
       ]
      },
      {
       "output_type": "stream",
       "stream": "stdout",
       "text": [
        "\n",
        "https://redmine.justsoftwareag.com/issues/6952.json?include=journals&key=d1aef1b9a4658a5db747d0b435942f29133e0a02"
       ]
      },
      {
       "output_type": "stream",
       "stream": "stdout",
       "text": [
        "\n",
        "https://redmine.justsoftwareag.com/issues/6950.json?include=journals&key=d1aef1b9a4658a5db747d0b435942f29133e0a02"
       ]
      },
      {
       "output_type": "stream",
       "stream": "stdout",
       "text": [
        "\n",
        "https://redmine.justsoftwareag.com/issues/6947.json?include=journals&key=d1aef1b9a4658a5db747d0b435942f29133e0a02"
       ]
      },
      {
       "output_type": "stream",
       "stream": "stdout",
       "text": [
        "\n",
        "https://redmine.justsoftwareag.com/issues/6945.json?include=journals&key=d1aef1b9a4658a5db747d0b435942f29133e0a02"
       ]
      },
      {
       "output_type": "stream",
       "stream": "stdout",
       "text": [
        "\n",
        "https://redmine.justsoftwareag.com/issues/6944.json?include=journals&key=d1aef1b9a4658a5db747d0b435942f29133e0a02"
       ]
      },
      {
       "output_type": "stream",
       "stream": "stdout",
       "text": [
        "\n",
        "https://redmine.justsoftwareag.com/issues/6943.json?include=journals&key=d1aef1b9a4658a5db747d0b435942f29133e0a02"
       ]
      },
      {
       "output_type": "stream",
       "stream": "stdout",
       "text": [
        "\n",
        "https://redmine.justsoftwareag.com/issues/6940.json?include=journals&key=d1aef1b9a4658a5db747d0b435942f29133e0a02"
       ]
      },
      {
       "output_type": "stream",
       "stream": "stdout",
       "text": [
        "\n",
        "https://redmine.justsoftwareag.com/issues/6939.json?include=journals&key=d1aef1b9a4658a5db747d0b435942f29133e0a02"
       ]
      },
      {
       "output_type": "stream",
       "stream": "stdout",
       "text": [
        "\n",
        "https://redmine.justsoftwareag.com/issues/6936.json?include=journals&key=d1aef1b9a4658a5db747d0b435942f29133e0a02"
       ]
      },
      {
       "output_type": "stream",
       "stream": "stdout",
       "text": [
        "\n",
        "https://redmine.justsoftwareag.com/issues/6931.json?include=journals&key=d1aef1b9a4658a5db747d0b435942f29133e0a02"
       ]
      },
      {
       "output_type": "stream",
       "stream": "stdout",
       "text": [
        "\n",
        "https://redmine.justsoftwareag.com/issues/6927.json?include=journals&key=d1aef1b9a4658a5db747d0b435942f29133e0a02"
       ]
      },
      {
       "output_type": "stream",
       "stream": "stdout",
       "text": [
        "\n",
        "https://redmine.justsoftwareag.com/issues/6926.json?include=journals&key=d1aef1b9a4658a5db747d0b435942f29133e0a02"
       ]
      },
      {
       "output_type": "stream",
       "stream": "stdout",
       "text": [
        "\n",
        "https://redmine.justsoftwareag.com/issues/6923.json?include=journals&key=d1aef1b9a4658a5db747d0b435942f29133e0a02"
       ]
      },
      {
       "output_type": "stream",
       "stream": "stdout",
       "text": [
        "\n",
        "https://redmine.justsoftwareag.com/issues/6921.json?include=journals&key=d1aef1b9a4658a5db747d0b435942f29133e0a02"
       ]
      },
      {
       "output_type": "stream",
       "stream": "stdout",
       "text": [
        "\n",
        "https://redmine.justsoftwareag.com/issues/6909.json?include=journals&key=d1aef1b9a4658a5db747d0b435942f29133e0a02"
       ]
      },
      {
       "output_type": "stream",
       "stream": "stdout",
       "text": [
        "\n",
        "https://redmine.justsoftwareag.com/issues/6907.json?include=journals&key=d1aef1b9a4658a5db747d0b435942f29133e0a02"
       ]
      },
      {
       "output_type": "stream",
       "stream": "stdout",
       "text": [
        "\n",
        "https://redmine.justsoftwareag.com/issues/6906.json?include=journals&key=d1aef1b9a4658a5db747d0b435942f29133e0a02"
       ]
      },
      {
       "output_type": "stream",
       "stream": "stdout",
       "text": [
        "\n",
        "https://redmine.justsoftwareag.com/issues/6899.json?include=journals&key=d1aef1b9a4658a5db747d0b435942f29133e0a02"
       ]
      },
      {
       "output_type": "stream",
       "stream": "stdout",
       "text": [
        "\n",
        "https://redmine.justsoftwareag.com/issues/6897.json?include=journals&key=d1aef1b9a4658a5db747d0b435942f29133e0a02"
       ]
      },
      {
       "output_type": "stream",
       "stream": "stdout",
       "text": [
        "\n",
        "https://redmine.justsoftwareag.com/issues/6896.json?include=journals&key=d1aef1b9a4658a5db747d0b435942f29133e0a02"
       ]
      },
      {
       "output_type": "stream",
       "stream": "stdout",
       "text": [
        "\n",
        "https://redmine.justsoftwareag.com/issues/6895.json?include=journals&key=d1aef1b9a4658a5db747d0b435942f29133e0a02"
       ]
      },
      {
       "output_type": "stream",
       "stream": "stdout",
       "text": [
        "\n",
        "https://redmine.justsoftwareag.com/issues/6894.json?include=journals&key=d1aef1b9a4658a5db747d0b435942f29133e0a02"
       ]
      },
      {
       "output_type": "stream",
       "stream": "stdout",
       "text": [
        "\n",
        "https://redmine.justsoftwareag.com/issues/6886.json?include=journals&key=d1aef1b9a4658a5db747d0b435942f29133e0a02"
       ]
      },
      {
       "output_type": "stream",
       "stream": "stdout",
       "text": [
        "\n",
        "https://redmine.justsoftwareag.com/issues/6885.json?include=journals&key=d1aef1b9a4658a5db747d0b435942f29133e0a02"
       ]
      },
      {
       "output_type": "stream",
       "stream": "stdout",
       "text": [
        "\n",
        "https://redmine.justsoftwareag.com/issues/6881.json?include=journals&key=d1aef1b9a4658a5db747d0b435942f29133e0a02"
       ]
      },
      {
       "output_type": "stream",
       "stream": "stdout",
       "text": [
        "\n",
        "https://redmine.justsoftwareag.com/issues/6872.json?include=journals&key=d1aef1b9a4658a5db747d0b435942f29133e0a02"
       ]
      },
      {
       "output_type": "stream",
       "stream": "stdout",
       "text": [
        "\n",
        "https://redmine.justsoftwareag.com/issues/6871.json?include=journals&key=d1aef1b9a4658a5db747d0b435942f29133e0a02"
       ]
      },
      {
       "output_type": "stream",
       "stream": "stdout",
       "text": [
        "\n",
        "https://redmine.justsoftwareag.com/issues/6870.json?include=journals&key=d1aef1b9a4658a5db747d0b435942f29133e0a02"
       ]
      },
      {
       "output_type": "stream",
       "stream": "stdout",
       "text": [
        "\n",
        "https://redmine.justsoftwareag.com/issues/6869.json?include=journals&key=d1aef1b9a4658a5db747d0b435942f29133e0a02"
       ]
      },
      {
       "output_type": "stream",
       "stream": "stdout",
       "text": [
        "\n",
        "https://redmine.justsoftwareag.com/issues/6851.json?include=journals&key=d1aef1b9a4658a5db747d0b435942f29133e0a02"
       ]
      },
      {
       "output_type": "stream",
       "stream": "stdout",
       "text": [
        "\n",
        "https://redmine.justsoftwareag.com/issues/6814.json?include=journals&key=d1aef1b9a4658a5db747d0b435942f29133e0a02"
       ]
      },
      {
       "output_type": "stream",
       "stream": "stdout",
       "text": [
        "\n",
        "https://redmine.justsoftwareag.com/issues/6782.json?include=journals&key=d1aef1b9a4658a5db747d0b435942f29133e0a02"
       ]
      },
      {
       "output_type": "stream",
       "stream": "stdout",
       "text": [
        "\n",
        "https://redmine.justsoftwareag.com/issues/6777.json?include=journals&key=d1aef1b9a4658a5db747d0b435942f29133e0a02"
       ]
      },
      {
       "output_type": "stream",
       "stream": "stdout",
       "text": [
        "\n",
        "https://redmine.justsoftwareag.com/issues/6769.json?include=journals&key=d1aef1b9a4658a5db747d0b435942f29133e0a02"
       ]
      },
      {
       "output_type": "stream",
       "stream": "stdout",
       "text": [
        "\n",
        "https://redmine.justsoftwareag.com/issues/6766.json?include=journals&key=d1aef1b9a4658a5db747d0b435942f29133e0a02"
       ]
      },
      {
       "output_type": "stream",
       "stream": "stdout",
       "text": [
        "\n",
        "https://redmine.justsoftwareag.com/issues/6765.json?include=journals&key=d1aef1b9a4658a5db747d0b435942f29133e0a02"
       ]
      },
      {
       "output_type": "stream",
       "stream": "stdout",
       "text": [
        "\n",
        "https://redmine.justsoftwareag.com/issues/6726.json?include=journals&key=d1aef1b9a4658a5db747d0b435942f29133e0a02"
       ]
      },
      {
       "output_type": "stream",
       "stream": "stdout",
       "text": [
        "\n",
        "https://redmine.justsoftwareag.com/issues/6717.json?include=journals&key=d1aef1b9a4658a5db747d0b435942f29133e0a02"
       ]
      },
      {
       "output_type": "stream",
       "stream": "stdout",
       "text": [
        "\n",
        "https://redmine.justsoftwareag.com/issues/6716.json?include=journals&key=d1aef1b9a4658a5db747d0b435942f29133e0a02"
       ]
      },
      {
       "output_type": "stream",
       "stream": "stdout",
       "text": [
        "\n",
        "https://redmine.justsoftwareag.com/issues/6650.json?include=journals&key=d1aef1b9a4658a5db747d0b435942f29133e0a02"
       ]
      },
      {
       "output_type": "stream",
       "stream": "stdout",
       "text": [
        "\n",
        "https://redmine.justsoftwareag.com/issues/6592.json?include=journals&key=d1aef1b9a4658a5db747d0b435942f29133e0a02"
       ]
      },
      {
       "output_type": "stream",
       "stream": "stdout",
       "text": [
        "\n",
        "https://redmine.justsoftwareag.com/issues/6580.json?include=journals&key=d1aef1b9a4658a5db747d0b435942f29133e0a02"
       ]
      },
      {
       "output_type": "stream",
       "stream": "stdout",
       "text": [
        "\n",
        "https://redmine.justsoftwareag.com/issues/6544.json?include=journals&key=d1aef1b9a4658a5db747d0b435942f29133e0a02"
       ]
      },
      {
       "output_type": "stream",
       "stream": "stdout",
       "text": [
        "\n",
        "https://redmine.justsoftwareag.com/issues/6462.json?include=journals&key=d1aef1b9a4658a5db747d0b435942f29133e0a02"
       ]
      },
      {
       "output_type": "stream",
       "stream": "stdout",
       "text": [
        "\n",
        "https://redmine.justsoftwareag.com/issues/6460.json?include=journals&key=d1aef1b9a4658a5db747d0b435942f29133e0a02"
       ]
      },
      {
       "output_type": "stream",
       "stream": "stdout",
       "text": [
        "\n",
        "https://redmine.justsoftwareag.com/issues/6459.json?include=journals&key=d1aef1b9a4658a5db747d0b435942f29133e0a02"
       ]
      },
      {
       "output_type": "stream",
       "stream": "stdout",
       "text": [
        "\n",
        "https://redmine.justsoftwareag.com/issues/6450.json?include=journals&key=d1aef1b9a4658a5db747d0b435942f29133e0a02"
       ]
      },
      {
       "output_type": "stream",
       "stream": "stdout",
       "text": [
        "\n",
        "https://redmine.justsoftwareag.com/issues/6422.json?include=journals&key=d1aef1b9a4658a5db747d0b435942f29133e0a02"
       ]
      },
      {
       "output_type": "stream",
       "stream": "stdout",
       "text": [
        "\n",
        "https://redmine.justsoftwareag.com/issues/6413.json?include=journals&key=d1aef1b9a4658a5db747d0b435942f29133e0a02"
       ]
      },
      {
       "output_type": "stream",
       "stream": "stdout",
       "text": [
        "\n",
        "https://redmine.justsoftwareag.com/issues/6402.json?include=journals&key=d1aef1b9a4658a5db747d0b435942f29133e0a02"
       ]
      },
      {
       "output_type": "stream",
       "stream": "stdout",
       "text": [
        "\n",
        "https://redmine.justsoftwareag.com/issues/6397.json?include=journals&key=d1aef1b9a4658a5db747d0b435942f29133e0a02"
       ]
      },
      {
       "output_type": "stream",
       "stream": "stdout",
       "text": [
        "\n",
        "https://redmine.justsoftwareag.com/issues/6367.json?include=journals&key=d1aef1b9a4658a5db747d0b435942f29133e0a02"
       ]
      },
      {
       "output_type": "stream",
       "stream": "stdout",
       "text": [
        "\n",
        "https://redmine.justsoftwareag.com/issues/6365.json?include=journals&key=d1aef1b9a4658a5db747d0b435942f29133e0a02"
       ]
      },
      {
       "output_type": "stream",
       "stream": "stdout",
       "text": [
        "\n",
        "https://redmine.justsoftwareag.com/issues/6355.json?include=journals&key=d1aef1b9a4658a5db747d0b435942f29133e0a02"
       ]
      },
      {
       "output_type": "stream",
       "stream": "stdout",
       "text": [
        "\n",
        "https://redmine.justsoftwareag.com/issues/6342.json?include=journals&key=d1aef1b9a4658a5db747d0b435942f29133e0a02"
       ]
      },
      {
       "output_type": "stream",
       "stream": "stdout",
       "text": [
        "\n",
        "https://redmine.justsoftwareag.com/issues/6340.json?include=journals&key=d1aef1b9a4658a5db747d0b435942f29133e0a02"
       ]
      },
      {
       "output_type": "stream",
       "stream": "stdout",
       "text": [
        "\n",
        "https://redmine.justsoftwareag.com/issues/6339.json?include=journals&key=d1aef1b9a4658a5db747d0b435942f29133e0a02"
       ]
      },
      {
       "output_type": "stream",
       "stream": "stdout",
       "text": [
        "\n",
        "https://redmine.justsoftwareag.com/issues/6330.json?include=journals&key=d1aef1b9a4658a5db747d0b435942f29133e0a02"
       ]
      },
      {
       "output_type": "stream",
       "stream": "stdout",
       "text": [
        "\n",
        "https://redmine.justsoftwareag.com/issues/6308.json?include=journals&key=d1aef1b9a4658a5db747d0b435942f29133e0a02"
       ]
      },
      {
       "output_type": "stream",
       "stream": "stdout",
       "text": [
        "\n",
        "https://redmine.justsoftwareag.com/issues/6291.json?include=journals&key=d1aef1b9a4658a5db747d0b435942f29133e0a02"
       ]
      },
      {
       "output_type": "stream",
       "stream": "stdout",
       "text": [
        "\n",
        "https://redmine.justsoftwareag.com/issues/6289.json?include=journals&key=d1aef1b9a4658a5db747d0b435942f29133e0a02"
       ]
      },
      {
       "output_type": "stream",
       "stream": "stdout",
       "text": [
        "\n",
        "https://redmine.justsoftwareag.com/issues/6278.json?include=journals&key=d1aef1b9a4658a5db747d0b435942f29133e0a02"
       ]
      },
      {
       "output_type": "stream",
       "stream": "stdout",
       "text": [
        "\n",
        "https://redmine.justsoftwareag.com/issues/6252.json?include=journals&key=d1aef1b9a4658a5db747d0b435942f29133e0a02"
       ]
      },
      {
       "output_type": "stream",
       "stream": "stdout",
       "text": [
        "\n",
        "https://redmine.justsoftwareag.com/issues/6243.json?include=journals&key=d1aef1b9a4658a5db747d0b435942f29133e0a02"
       ]
      },
      {
       "output_type": "stream",
       "stream": "stdout",
       "text": [
        "\n",
        "https://redmine.justsoftwareag.com/issues/6237.json?include=journals&key=d1aef1b9a4658a5db747d0b435942f29133e0a02"
       ]
      },
      {
       "output_type": "stream",
       "stream": "stdout",
       "text": [
        "\n",
        "https://redmine.justsoftwareag.com/issues/6187.json?include=journals&key=d1aef1b9a4658a5db747d0b435942f29133e0a02"
       ]
      },
      {
       "output_type": "stream",
       "stream": "stdout",
       "text": [
        "\n",
        "https://redmine.justsoftwareag.com/issues/6137.json?include=journals&key=d1aef1b9a4658a5db747d0b435942f29133e0a02"
       ]
      },
      {
       "output_type": "stream",
       "stream": "stdout",
       "text": [
        "\n",
        "https://redmine.justsoftwareag.com/issues/6112.json?include=journals&key=d1aef1b9a4658a5db747d0b435942f29133e0a02"
       ]
      },
      {
       "output_type": "stream",
       "stream": "stdout",
       "text": [
        "\n",
        "https://redmine.justsoftwareag.com/issues/6110.json?include=journals&key=d1aef1b9a4658a5db747d0b435942f29133e0a02"
       ]
      },
      {
       "output_type": "stream",
       "stream": "stdout",
       "text": [
        "\n",
        "https://redmine.justsoftwareag.com/issues/6107.json?include=journals&key=d1aef1b9a4658a5db747d0b435942f29133e0a02"
       ]
      },
      {
       "output_type": "stream",
       "stream": "stdout",
       "text": [
        "\n",
        "https://redmine.justsoftwareag.com/issues/6100.json?include=journals&key=d1aef1b9a4658a5db747d0b435942f29133e0a02"
       ]
      },
      {
       "output_type": "stream",
       "stream": "stdout",
       "text": [
        "\n",
        "https://redmine.justsoftwareag.com/issues/6099.json?include=journals&key=d1aef1b9a4658a5db747d0b435942f29133e0a02"
       ]
      },
      {
       "output_type": "stream",
       "stream": "stdout",
       "text": [
        "\n",
        "https://redmine.justsoftwareag.com/issues/6098.json?include=journals&key=d1aef1b9a4658a5db747d0b435942f29133e0a02"
       ]
      },
      {
       "output_type": "stream",
       "stream": "stdout",
       "text": [
        "\n",
        "https://redmine.justsoftwareag.com/issues/6090.json?include=journals&key=d1aef1b9a4658a5db747d0b435942f29133e0a02"
       ]
      },
      {
       "output_type": "stream",
       "stream": "stdout",
       "text": [
        "\n",
        "https://redmine.justsoftwareag.com/issues/6089.json?include=journals&key=d1aef1b9a4658a5db747d0b435942f29133e0a02"
       ]
      },
      {
       "output_type": "stream",
       "stream": "stdout",
       "text": [
        "\n",
        "https://redmine.justsoftwareag.com/issues/6088.json?include=journals&key=d1aef1b9a4658a5db747d0b435942f29133e0a02"
       ]
      },
      {
       "output_type": "stream",
       "stream": "stdout",
       "text": [
        "\n",
        "https://redmine.justsoftwareag.com/issues/6030.json?include=journals&key=d1aef1b9a4658a5db747d0b435942f29133e0a02"
       ]
      },
      {
       "output_type": "stream",
       "stream": "stdout",
       "text": [
        "\n",
        "https://redmine.justsoftwareag.com/issues/6029.json?include=journals&key=d1aef1b9a4658a5db747d0b435942f29133e0a02"
       ]
      },
      {
       "output_type": "stream",
       "stream": "stdout",
       "text": [
        "\n",
        "https://redmine.justsoftwareag.com/issues/6028.json?include=journals&key=d1aef1b9a4658a5db747d0b435942f29133e0a02"
       ]
      },
      {
       "output_type": "stream",
       "stream": "stdout",
       "text": [
        "\n",
        "https://redmine.justsoftwareag.com/issues/6026.json?include=journals&key=d1aef1b9a4658a5db747d0b435942f29133e0a02"
       ]
      },
      {
       "output_type": "stream",
       "stream": "stdout",
       "text": [
        "\n",
        "https://redmine.justsoftwareag.com/issues/6020.json?include=journals&key=d1aef1b9a4658a5db747d0b435942f29133e0a02"
       ]
      },
      {
       "output_type": "stream",
       "stream": "stdout",
       "text": [
        "\n",
        "https://redmine.justsoftwareag.com/issues/6019.json?include=journals&key=d1aef1b9a4658a5db747d0b435942f29133e0a02"
       ]
      },
      {
       "output_type": "stream",
       "stream": "stdout",
       "text": [
        "\n",
        "https://redmine.justsoftwareag.com/issues/6018.json?include=journals&key=d1aef1b9a4658a5db747d0b435942f29133e0a02"
       ]
      },
      {
       "output_type": "stream",
       "stream": "stdout",
       "text": [
        "\n",
        "https://redmine.justsoftwareag.com/issues/6017.json?include=journals&key=d1aef1b9a4658a5db747d0b435942f29133e0a02"
       ]
      },
      {
       "output_type": "stream",
       "stream": "stdout",
       "text": [
        "\n",
        "https://redmine.justsoftwareag.com/issues/5966.json?include=journals&key=d1aef1b9a4658a5db747d0b435942f29133e0a02"
       ]
      },
      {
       "output_type": "stream",
       "stream": "stdout",
       "text": [
        "\n",
        "https://redmine.justsoftwareag.com/issues/5965.json?include=journals&key=d1aef1b9a4658a5db747d0b435942f29133e0a02"
       ]
      },
      {
       "output_type": "stream",
       "stream": "stdout",
       "text": [
        "\n",
        "https://redmine.justsoftwareag.com/issues/5964.json?include=journals&key=d1aef1b9a4658a5db747d0b435942f29133e0a02"
       ]
      },
      {
       "output_type": "stream",
       "stream": "stdout",
       "text": [
        "\n",
        "https://redmine.justsoftwareag.com/issues/5963.json?include=journals&key=d1aef1b9a4658a5db747d0b435942f29133e0a02"
       ]
      },
      {
       "output_type": "stream",
       "stream": "stdout",
       "text": [
        "\n",
        "https://redmine.justsoftwareag.com/issues/5958.json?include=journals&key=d1aef1b9a4658a5db747d0b435942f29133e0a02"
       ]
      },
      {
       "output_type": "stream",
       "stream": "stdout",
       "text": [
        "\n",
        "https://redmine.justsoftwareag.com/issues/5956.json?include=journals&key=d1aef1b9a4658a5db747d0b435942f29133e0a02"
       ]
      },
      {
       "output_type": "stream",
       "stream": "stdout",
       "text": [
        "\n",
        "https://redmine.justsoftwareag.com/issues/5947.json?include=journals&key=d1aef1b9a4658a5db747d0b435942f29133e0a02"
       ]
      },
      {
       "output_type": "stream",
       "stream": "stdout",
       "text": [
        "\n",
        "https://redmine.justsoftwareag.com/issues/5946.json?include=journals&key=d1aef1b9a4658a5db747d0b435942f29133e0a02"
       ]
      },
      {
       "output_type": "stream",
       "stream": "stdout",
       "text": [
        "\n",
        "https://redmine.justsoftwareag.com/issues/5943.json?include=journals&key=d1aef1b9a4658a5db747d0b435942f29133e0a02"
       ]
      },
      {
       "output_type": "stream",
       "stream": "stdout",
       "text": [
        "\n",
        "https://redmine.justsoftwareag.com/issues/5942.json?include=journals&key=d1aef1b9a4658a5db747d0b435942f29133e0a02"
       ]
      },
      {
       "output_type": "stream",
       "stream": "stdout",
       "text": [
        "\n",
        "https://redmine.justsoftwareag.com/issues/5941.json?include=journals&key=d1aef1b9a4658a5db747d0b435942f29133e0a02"
       ]
      },
      {
       "output_type": "stream",
       "stream": "stdout",
       "text": [
        "\n",
        "https://redmine.justsoftwareag.com/issues/5940.json?include=journals&key=d1aef1b9a4658a5db747d0b435942f29133e0a02"
       ]
      },
      {
       "output_type": "stream",
       "stream": "stdout",
       "text": [
        "\n",
        "https://redmine.justsoftwareag.com/issues/5934.json?include=journals&key=d1aef1b9a4658a5db747d0b435942f29133e0a02"
       ]
      },
      {
       "output_type": "stream",
       "stream": "stdout",
       "text": [
        "\n",
        "https://redmine.justsoftwareag.com/issues/5932.json?include=journals&key=d1aef1b9a4658a5db747d0b435942f29133e0a02"
       ]
      },
      {
       "output_type": "stream",
       "stream": "stdout",
       "text": [
        "\n",
        "https://redmine.justsoftwareag.com/issues/5931.json?include=journals&key=d1aef1b9a4658a5db747d0b435942f29133e0a02"
       ]
      },
      {
       "output_type": "stream",
       "stream": "stdout",
       "text": [
        "\n",
        "https://redmine.justsoftwareag.com/issues/5930.json?include=journals&key=d1aef1b9a4658a5db747d0b435942f29133e0a02"
       ]
      },
      {
       "output_type": "stream",
       "stream": "stdout",
       "text": [
        "\n",
        "https://redmine.justsoftwareag.com/issues/5929.json?include=journals&key=d1aef1b9a4658a5db747d0b435942f29133e0a02"
       ]
      },
      {
       "output_type": "stream",
       "stream": "stdout",
       "text": [
        "\n",
        "https://redmine.justsoftwareag.com/issues/5928.json?include=journals&key=d1aef1b9a4658a5db747d0b435942f29133e0a02"
       ]
      },
      {
       "output_type": "stream",
       "stream": "stdout",
       "text": [
        "\n",
        "https://redmine.justsoftwareag.com/issues/5927.json?include=journals&key=d1aef1b9a4658a5db747d0b435942f29133e0a02"
       ]
      },
      {
       "output_type": "stream",
       "stream": "stdout",
       "text": [
        "\n",
        "https://redmine.justsoftwareag.com/issues/5926.json?include=journals&key=d1aef1b9a4658a5db747d0b435942f29133e0a02"
       ]
      },
      {
       "output_type": "stream",
       "stream": "stdout",
       "text": [
        "\n",
        "https://redmine.justsoftwareag.com/issues/5925.json?include=journals&key=d1aef1b9a4658a5db747d0b435942f29133e0a02"
       ]
      },
      {
       "output_type": "stream",
       "stream": "stdout",
       "text": [
        "\n",
        "https://redmine.justsoftwareag.com/issues/5924.json?include=journals&key=d1aef1b9a4658a5db747d0b435942f29133e0a02"
       ]
      },
      {
       "output_type": "stream",
       "stream": "stdout",
       "text": [
        "\n",
        "https://redmine.justsoftwareag.com/issues/5922.json?include=journals&key=d1aef1b9a4658a5db747d0b435942f29133e0a02"
       ]
      },
      {
       "output_type": "stream",
       "stream": "stdout",
       "text": [
        "\n",
        "https://redmine.justsoftwareag.com/issues/5910.json?include=journals&key=d1aef1b9a4658a5db747d0b435942f29133e0a02"
       ]
      },
      {
       "output_type": "stream",
       "stream": "stdout",
       "text": [
        "\n",
        "https://redmine.justsoftwareag.com/issues/5908.json?include=journals&key=d1aef1b9a4658a5db747d0b435942f29133e0a02"
       ]
      },
      {
       "output_type": "stream",
       "stream": "stdout",
       "text": [
        "\n",
        "https://redmine.justsoftwareag.com/issues/5885.json?include=journals&key=d1aef1b9a4658a5db747d0b435942f29133e0a02"
       ]
      },
      {
       "output_type": "stream",
       "stream": "stdout",
       "text": [
        "\n",
        "https://redmine.justsoftwareag.com/issues/5848.json?include=journals&key=d1aef1b9a4658a5db747d0b435942f29133e0a02"
       ]
      },
      {
       "output_type": "stream",
       "stream": "stdout",
       "text": [
        "\n",
        "https://redmine.justsoftwareag.com/issues/5828.json?include=journals&key=d1aef1b9a4658a5db747d0b435942f29133e0a02"
       ]
      },
      {
       "output_type": "stream",
       "stream": "stdout",
       "text": [
        "\n",
        "https://redmine.justsoftwareag.com/issues/5802.json?include=journals&key=d1aef1b9a4658a5db747d0b435942f29133e0a02"
       ]
      },
      {
       "output_type": "stream",
       "stream": "stdout",
       "text": [
        "\n",
        "https://redmine.justsoftwareag.com/issues/5801.json?include=journals&key=d1aef1b9a4658a5db747d0b435942f29133e0a02"
       ]
      },
      {
       "output_type": "stream",
       "stream": "stdout",
       "text": [
        "\n",
        "https://redmine.justsoftwareag.com/issues/5799.json?include=journals&key=d1aef1b9a4658a5db747d0b435942f29133e0a02"
       ]
      },
      {
       "output_type": "stream",
       "stream": "stdout",
       "text": [
        "\n",
        "https://redmine.justsoftwareag.com/issues/5798.json?include=journals&key=d1aef1b9a4658a5db747d0b435942f29133e0a02"
       ]
      },
      {
       "output_type": "stream",
       "stream": "stdout",
       "text": [
        "\n",
        "https://redmine.justsoftwareag.com/issues/5796.json?include=journals&key=d1aef1b9a4658a5db747d0b435942f29133e0a02"
       ]
      },
      {
       "output_type": "stream",
       "stream": "stdout",
       "text": [
        "\n",
        "https://redmine.justsoftwareag.com/issues/5795.json?include=journals&key=d1aef1b9a4658a5db747d0b435942f29133e0a02"
       ]
      },
      {
       "output_type": "stream",
       "stream": "stdout",
       "text": [
        "\n",
        "https://redmine.justsoftwareag.com/issues/5785.json?include=journals&key=d1aef1b9a4658a5db747d0b435942f29133e0a02"
       ]
      },
      {
       "output_type": "stream",
       "stream": "stdout",
       "text": [
        "\n",
        "https://redmine.justsoftwareag.com/issues/5775.json?include=journals&key=d1aef1b9a4658a5db747d0b435942f29133e0a02"
       ]
      },
      {
       "output_type": "stream",
       "stream": "stdout",
       "text": [
        "\n",
        "https://redmine.justsoftwareag.com/issues/5774.json?include=journals&key=d1aef1b9a4658a5db747d0b435942f29133e0a02"
       ]
      },
      {
       "output_type": "stream",
       "stream": "stdout",
       "text": [
        "\n",
        "https://redmine.justsoftwareag.com/issues/5773.json?include=journals&key=d1aef1b9a4658a5db747d0b435942f29133e0a02"
       ]
      },
      {
       "output_type": "stream",
       "stream": "stdout",
       "text": [
        "\n",
        "https://redmine.justsoftwareag.com/issues/5769.json?include=journals&key=d1aef1b9a4658a5db747d0b435942f29133e0a02"
       ]
      },
      {
       "output_type": "stream",
       "stream": "stdout",
       "text": [
        "\n",
        "https://redmine.justsoftwareag.com/issues/5768.json?include=journals&key=d1aef1b9a4658a5db747d0b435942f29133e0a02"
       ]
      },
      {
       "output_type": "stream",
       "stream": "stdout",
       "text": [
        "\n",
        "https://redmine.justsoftwareag.com/issues/5767.json?include=journals&key=d1aef1b9a4658a5db747d0b435942f29133e0a02"
       ]
      },
      {
       "output_type": "stream",
       "stream": "stdout",
       "text": [
        "\n",
        "https://redmine.justsoftwareag.com/issues/5763.json?include=journals&key=d1aef1b9a4658a5db747d0b435942f29133e0a02"
       ]
      },
      {
       "output_type": "stream",
       "stream": "stdout",
       "text": [
        "\n",
        "https://redmine.justsoftwareag.com/issues/5762.json?include=journals&key=d1aef1b9a4658a5db747d0b435942f29133e0a02"
       ]
      },
      {
       "output_type": "stream",
       "stream": "stdout",
       "text": [
        "\n",
        "https://redmine.justsoftwareag.com/issues/5761.json?include=journals&key=d1aef1b9a4658a5db747d0b435942f29133e0a02"
       ]
      },
      {
       "output_type": "stream",
       "stream": "stdout",
       "text": [
        "\n",
        "https://redmine.justsoftwareag.com/issues/5759.json?include=journals&key=d1aef1b9a4658a5db747d0b435942f29133e0a02"
       ]
      },
      {
       "output_type": "stream",
       "stream": "stdout",
       "text": [
        "\n",
        "https://redmine.justsoftwareag.com/issues/5758.json?include=journals&key=d1aef1b9a4658a5db747d0b435942f29133e0a02"
       ]
      },
      {
       "output_type": "stream",
       "stream": "stdout",
       "text": [
        "\n",
        "https://redmine.justsoftwareag.com/issues/5755.json?include=journals&key=d1aef1b9a4658a5db747d0b435942f29133e0a02"
       ]
      },
      {
       "output_type": "stream",
       "stream": "stdout",
       "text": [
        "\n",
        "https://redmine.justsoftwareag.com/issues/5754.json?include=journals&key=d1aef1b9a4658a5db747d0b435942f29133e0a02"
       ]
      },
      {
       "output_type": "stream",
       "stream": "stdout",
       "text": [
        "\n",
        "https://redmine.justsoftwareag.com/issues/5750.json?include=journals&key=d1aef1b9a4658a5db747d0b435942f29133e0a02"
       ]
      },
      {
       "output_type": "stream",
       "stream": "stdout",
       "text": [
        "\n",
        "https://redmine.justsoftwareag.com/issues/5748.json?include=journals&key=d1aef1b9a4658a5db747d0b435942f29133e0a02"
       ]
      },
      {
       "output_type": "stream",
       "stream": "stdout",
       "text": [
        "\n",
        "https://redmine.justsoftwareag.com/issues/5747.json?include=journals&key=d1aef1b9a4658a5db747d0b435942f29133e0a02"
       ]
      },
      {
       "output_type": "stream",
       "stream": "stdout",
       "text": [
        "\n",
        "https://redmine.justsoftwareag.com/issues/5744.json?include=journals&key=d1aef1b9a4658a5db747d0b435942f29133e0a02"
       ]
      },
      {
       "output_type": "stream",
       "stream": "stdout",
       "text": [
        "\n",
        "https://redmine.justsoftwareag.com/issues/5740.json?include=journals&key=d1aef1b9a4658a5db747d0b435942f29133e0a02"
       ]
      },
      {
       "output_type": "stream",
       "stream": "stdout",
       "text": [
        "\n",
        "https://redmine.justsoftwareag.com/issues/5739.json?include=journals&key=d1aef1b9a4658a5db747d0b435942f29133e0a02"
       ]
      },
      {
       "output_type": "stream",
       "stream": "stdout",
       "text": [
        "\n",
        "https://redmine.justsoftwareag.com/issues/5730.json?include=journals&key=d1aef1b9a4658a5db747d0b435942f29133e0a02"
       ]
      },
      {
       "output_type": "stream",
       "stream": "stdout",
       "text": [
        "\n",
        "https://redmine.justsoftwareag.com/issues/5729.json?include=journals&key=d1aef1b9a4658a5db747d0b435942f29133e0a02"
       ]
      },
      {
       "output_type": "stream",
       "stream": "stdout",
       "text": [
        "\n",
        "https://redmine.justsoftwareag.com/issues/5728.json?include=journals&key=d1aef1b9a4658a5db747d0b435942f29133e0a02"
       ]
      },
      {
       "output_type": "stream",
       "stream": "stdout",
       "text": [
        "\n",
        "https://redmine.justsoftwareag.com/issues/5727.json?include=journals&key=d1aef1b9a4658a5db747d0b435942f29133e0a02"
       ]
      },
      {
       "output_type": "stream",
       "stream": "stdout",
       "text": [
        "\n",
        "https://redmine.justsoftwareag.com/issues/5724.json?include=journals&key=d1aef1b9a4658a5db747d0b435942f29133e0a02"
       ]
      },
      {
       "output_type": "stream",
       "stream": "stdout",
       "text": [
        "\n",
        "https://redmine.justsoftwareag.com/issues/5720.json?include=journals&key=d1aef1b9a4658a5db747d0b435942f29133e0a02"
       ]
      },
      {
       "output_type": "stream",
       "stream": "stdout",
       "text": [
        "\n",
        "https://redmine.justsoftwareag.com/issues/5716.json?include=journals&key=d1aef1b9a4658a5db747d0b435942f29133e0a02"
       ]
      },
      {
       "output_type": "stream",
       "stream": "stdout",
       "text": [
        "\n",
        "https://redmine.justsoftwareag.com/issues/5715.json?include=journals&key=d1aef1b9a4658a5db747d0b435942f29133e0a02"
       ]
      },
      {
       "output_type": "stream",
       "stream": "stdout",
       "text": [
        "\n",
        "https://redmine.justsoftwareag.com/issues/5714.json?include=journals&key=d1aef1b9a4658a5db747d0b435942f29133e0a02"
       ]
      },
      {
       "output_type": "stream",
       "stream": "stdout",
       "text": [
        "\n",
        "https://redmine.justsoftwareag.com/issues/5710.json?include=journals&key=d1aef1b9a4658a5db747d0b435942f29133e0a02"
       ]
      },
      {
       "output_type": "stream",
       "stream": "stdout",
       "text": [
        "\n",
        "https://redmine.justsoftwareag.com/issues/5705.json?include=journals&key=d1aef1b9a4658a5db747d0b435942f29133e0a02"
       ]
      },
      {
       "output_type": "stream",
       "stream": "stdout",
       "text": [
        "\n",
        "https://redmine.justsoftwareag.com/issues/5702.json?include=journals&key=d1aef1b9a4658a5db747d0b435942f29133e0a02"
       ]
      },
      {
       "output_type": "stream",
       "stream": "stdout",
       "text": [
        "\n",
        "https://redmine.justsoftwareag.com/issues/5700.json?include=journals&key=d1aef1b9a4658a5db747d0b435942f29133e0a02"
       ]
      },
      {
       "output_type": "stream",
       "stream": "stdout",
       "text": [
        "\n",
        "https://redmine.justsoftwareag.com/issues/5697.json?include=journals&key=d1aef1b9a4658a5db747d0b435942f29133e0a02"
       ]
      },
      {
       "output_type": "stream",
       "stream": "stdout",
       "text": [
        "\n",
        "https://redmine.justsoftwareag.com/issues/5696.json?include=journals&key=d1aef1b9a4658a5db747d0b435942f29133e0a02"
       ]
      },
      {
       "output_type": "stream",
       "stream": "stdout",
       "text": [
        "\n",
        "https://redmine.justsoftwareag.com/issues/5695.json?include=journals&key=d1aef1b9a4658a5db747d0b435942f29133e0a02"
       ]
      },
      {
       "output_type": "stream",
       "stream": "stdout",
       "text": [
        "\n",
        "https://redmine.justsoftwareag.com/issues/5694.json?include=journals&key=d1aef1b9a4658a5db747d0b435942f29133e0a02"
       ]
      },
      {
       "output_type": "stream",
       "stream": "stdout",
       "text": [
        "\n",
        "https://redmine.justsoftwareag.com/issues/5693.json?include=journals&key=d1aef1b9a4658a5db747d0b435942f29133e0a02"
       ]
      },
      {
       "output_type": "stream",
       "stream": "stdout",
       "text": [
        "\n",
        "https://redmine.justsoftwareag.com/issues/5689.json?include=journals&key=d1aef1b9a4658a5db747d0b435942f29133e0a02"
       ]
      },
      {
       "output_type": "stream",
       "stream": "stdout",
       "text": [
        "\n",
        "https://redmine.justsoftwareag.com/issues/5683.json?include=journals&key=d1aef1b9a4658a5db747d0b435942f29133e0a02"
       ]
      },
      {
       "output_type": "stream",
       "stream": "stdout",
       "text": [
        "\n",
        "https://redmine.justsoftwareag.com/issues/5669.json?include=journals&key=d1aef1b9a4658a5db747d0b435942f29133e0a02"
       ]
      },
      {
       "output_type": "stream",
       "stream": "stdout",
       "text": [
        "\n",
        "https://redmine.justsoftwareag.com/issues/5666.json?include=journals&key=d1aef1b9a4658a5db747d0b435942f29133e0a02"
       ]
      },
      {
       "output_type": "stream",
       "stream": "stdout",
       "text": [
        "\n",
        "https://redmine.justsoftwareag.com/issues/5664.json?include=journals&key=d1aef1b9a4658a5db747d0b435942f29133e0a02"
       ]
      },
      {
       "output_type": "stream",
       "stream": "stdout",
       "text": [
        "\n",
        "https://redmine.justsoftwareag.com/issues/5662.json?include=journals&key=d1aef1b9a4658a5db747d0b435942f29133e0a02"
       ]
      },
      {
       "output_type": "stream",
       "stream": "stdout",
       "text": [
        "\n",
        "https://redmine.justsoftwareag.com/issues/5659.json?include=journals&key=d1aef1b9a4658a5db747d0b435942f29133e0a02"
       ]
      },
      {
       "output_type": "stream",
       "stream": "stdout",
       "text": [
        "\n",
        "https://redmine.justsoftwareag.com/issues/5559.json?include=journals&key=d1aef1b9a4658a5db747d0b435942f29133e0a02"
       ]
      },
      {
       "output_type": "stream",
       "stream": "stdout",
       "text": [
        "\n",
        "https://redmine.justsoftwareag.com/issues/5555.json?include=journals&key=d1aef1b9a4658a5db747d0b435942f29133e0a02"
       ]
      },
      {
       "output_type": "stream",
       "stream": "stdout",
       "text": [
        "\n",
        "https://redmine.justsoftwareag.com/issues/5547.json?include=journals&key=d1aef1b9a4658a5db747d0b435942f29133e0a02"
       ]
      },
      {
       "output_type": "stream",
       "stream": "stdout",
       "text": [
        "\n",
        "https://redmine.justsoftwareag.com/issues/5536.json?include=journals&key=d1aef1b9a4658a5db747d0b435942f29133e0a02"
       ]
      },
      {
       "output_type": "stream",
       "stream": "stdout",
       "text": [
        "\n",
        "https://redmine.justsoftwareag.com/issues/5526.json?include=journals&key=d1aef1b9a4658a5db747d0b435942f29133e0a02"
       ]
      },
      {
       "output_type": "stream",
       "stream": "stdout",
       "text": [
        "\n",
        "https://redmine.justsoftwareag.com/issues/5519.json?include=journals&key=d1aef1b9a4658a5db747d0b435942f29133e0a02"
       ]
      },
      {
       "output_type": "stream",
       "stream": "stdout",
       "text": [
        "\n",
        "https://redmine.justsoftwareag.com/issues/5518.json?include=journals&key=d1aef1b9a4658a5db747d0b435942f29133e0a02"
       ]
      },
      {
       "output_type": "stream",
       "stream": "stdout",
       "text": [
        "\n",
        "https://redmine.justsoftwareag.com/issues/5504.json?include=journals&key=d1aef1b9a4658a5db747d0b435942f29133e0a02"
       ]
      },
      {
       "output_type": "stream",
       "stream": "stdout",
       "text": [
        "\n",
        "https://redmine.justsoftwareag.com/issues/5502.json?include=journals&key=d1aef1b9a4658a5db747d0b435942f29133e0a02"
       ]
      },
      {
       "output_type": "stream",
       "stream": "stdout",
       "text": [
        "\n",
        "https://redmine.justsoftwareag.com/issues/5498.json?include=journals&key=d1aef1b9a4658a5db747d0b435942f29133e0a02"
       ]
      },
      {
       "output_type": "stream",
       "stream": "stdout",
       "text": [
        "\n",
        "https://redmine.justsoftwareag.com/issues/5486.json?include=journals&key=d1aef1b9a4658a5db747d0b435942f29133e0a02"
       ]
      },
      {
       "output_type": "stream",
       "stream": "stdout",
       "text": [
        "\n",
        "https://redmine.justsoftwareag.com/issues/5459.json?include=journals&key=d1aef1b9a4658a5db747d0b435942f29133e0a02"
       ]
      },
      {
       "output_type": "stream",
       "stream": "stdout",
       "text": [
        "\n",
        "https://redmine.justsoftwareag.com/issues/5385.json?include=journals&key=d1aef1b9a4658a5db747d0b435942f29133e0a02"
       ]
      },
      {
       "output_type": "stream",
       "stream": "stdout",
       "text": [
        "\n",
        "https://redmine.justsoftwareag.com/issues/5365.json?include=journals&key=d1aef1b9a4658a5db747d0b435942f29133e0a02"
       ]
      },
      {
       "output_type": "stream",
       "stream": "stdout",
       "text": [
        "\n",
        "https://redmine.justsoftwareag.com/issues/5364.json?include=journals&key=d1aef1b9a4658a5db747d0b435942f29133e0a02"
       ]
      },
      {
       "output_type": "stream",
       "stream": "stdout",
       "text": [
        "\n",
        "https://redmine.justsoftwareag.com/issues/5363.json?include=journals&key=d1aef1b9a4658a5db747d0b435942f29133e0a02"
       ]
      },
      {
       "output_type": "stream",
       "stream": "stdout",
       "text": [
        "\n",
        "https://redmine.justsoftwareag.com/issues/5360.json?include=journals&key=d1aef1b9a4658a5db747d0b435942f29133e0a02"
       ]
      },
      {
       "output_type": "stream",
       "stream": "stdout",
       "text": [
        "\n",
        "https://redmine.justsoftwareag.com/issues/5353.json?include=journals&key=d1aef1b9a4658a5db747d0b435942f29133e0a02"
       ]
      },
      {
       "output_type": "stream",
       "stream": "stdout",
       "text": [
        "\n",
        "https://redmine.justsoftwareag.com/issues/5348.json?include=journals&key=d1aef1b9a4658a5db747d0b435942f29133e0a02"
       ]
      },
      {
       "output_type": "stream",
       "stream": "stdout",
       "text": [
        "\n",
        "https://redmine.justsoftwareag.com/issues/5347.json?include=journals&key=d1aef1b9a4658a5db747d0b435942f29133e0a02"
       ]
      },
      {
       "output_type": "stream",
       "stream": "stdout",
       "text": [
        "\n",
        "https://redmine.justsoftwareag.com/issues/5346.json?include=journals&key=d1aef1b9a4658a5db747d0b435942f29133e0a02"
       ]
      },
      {
       "output_type": "stream",
       "stream": "stdout",
       "text": [
        "\n",
        "https://redmine.justsoftwareag.com/issues/5344.json?include=journals&key=d1aef1b9a4658a5db747d0b435942f29133e0a02"
       ]
      },
      {
       "output_type": "stream",
       "stream": "stdout",
       "text": [
        "\n",
        "https://redmine.justsoftwareag.com/issues/5343.json?include=journals&key=d1aef1b9a4658a5db747d0b435942f29133e0a02"
       ]
      },
      {
       "output_type": "stream",
       "stream": "stdout",
       "text": [
        "\n",
        "https://redmine.justsoftwareag.com/issues/5342.json?include=journals&key=d1aef1b9a4658a5db747d0b435942f29133e0a02"
       ]
      },
      {
       "output_type": "stream",
       "stream": "stdout",
       "text": [
        "\n",
        "https://redmine.justsoftwareag.com/issues/5341.json?include=journals&key=d1aef1b9a4658a5db747d0b435942f29133e0a02"
       ]
      },
      {
       "output_type": "stream",
       "stream": "stdout",
       "text": [
        "\n",
        "https://redmine.justsoftwareag.com/issues/5334.json?include=journals&key=d1aef1b9a4658a5db747d0b435942f29133e0a02"
       ]
      },
      {
       "output_type": "stream",
       "stream": "stdout",
       "text": [
        "\n",
        "https://redmine.justsoftwareag.com/issues/5333.json?include=journals&key=d1aef1b9a4658a5db747d0b435942f29133e0a02"
       ]
      },
      {
       "output_type": "stream",
       "stream": "stdout",
       "text": [
        "\n",
        "https://redmine.justsoftwareag.com/issues/5329.json?include=journals&key=d1aef1b9a4658a5db747d0b435942f29133e0a02"
       ]
      },
      {
       "output_type": "stream",
       "stream": "stdout",
       "text": [
        "\n",
        "https://redmine.justsoftwareag.com/issues/5325.json?include=journals&key=d1aef1b9a4658a5db747d0b435942f29133e0a02"
       ]
      },
      {
       "output_type": "stream",
       "stream": "stdout",
       "text": [
        "\n",
        "https://redmine.justsoftwareag.com/issues/5317.json?include=journals&key=d1aef1b9a4658a5db747d0b435942f29133e0a02"
       ]
      },
      {
       "output_type": "stream",
       "stream": "stdout",
       "text": [
        "\n",
        "https://redmine.justsoftwareag.com/issues/5315.json?include=journals&key=d1aef1b9a4658a5db747d0b435942f29133e0a02"
       ]
      },
      {
       "output_type": "stream",
       "stream": "stdout",
       "text": [
        "\n",
        "https://redmine.justsoftwareag.com/issues/5313.json?include=journals&key=d1aef1b9a4658a5db747d0b435942f29133e0a02"
       ]
      },
      {
       "output_type": "stream",
       "stream": "stdout",
       "text": [
        "\n",
        "https://redmine.justsoftwareag.com/issues/5312.json?include=journals&key=d1aef1b9a4658a5db747d0b435942f29133e0a02"
       ]
      },
      {
       "output_type": "stream",
       "stream": "stdout",
       "text": [
        "\n",
        "https://redmine.justsoftwareag.com/issues/5310.json?include=journals&key=d1aef1b9a4658a5db747d0b435942f29133e0a02"
       ]
      },
      {
       "output_type": "stream",
       "stream": "stdout",
       "text": [
        "\n",
        "https://redmine.justsoftwareag.com/issues/5309.json?include=journals&key=d1aef1b9a4658a5db747d0b435942f29133e0a02"
       ]
      },
      {
       "output_type": "stream",
       "stream": "stdout",
       "text": [
        "\n",
        "https://redmine.justsoftwareag.com/issues/5307.json?include=journals&key=d1aef1b9a4658a5db747d0b435942f29133e0a02"
       ]
      },
      {
       "output_type": "stream",
       "stream": "stdout",
       "text": [
        "\n",
        "https://redmine.justsoftwareag.com/issues/5306.json?include=journals&key=d1aef1b9a4658a5db747d0b435942f29133e0a02"
       ]
      },
      {
       "output_type": "stream",
       "stream": "stdout",
       "text": [
        "\n",
        "https://redmine.justsoftwareag.com/issues/5305.json?include=journals&key=d1aef1b9a4658a5db747d0b435942f29133e0a02"
       ]
      },
      {
       "output_type": "stream",
       "stream": "stdout",
       "text": [
        "\n",
        "https://redmine.justsoftwareag.com/issues/5304.json?include=journals&key=d1aef1b9a4658a5db747d0b435942f29133e0a02"
       ]
      },
      {
       "output_type": "stream",
       "stream": "stdout",
       "text": [
        "\n",
        "https://redmine.justsoftwareag.com/issues/5303.json?include=journals&key=d1aef1b9a4658a5db747d0b435942f29133e0a02"
       ]
      },
      {
       "output_type": "stream",
       "stream": "stdout",
       "text": [
        "\n",
        "https://redmine.justsoftwareag.com/issues/5302.json?include=journals&key=d1aef1b9a4658a5db747d0b435942f29133e0a02"
       ]
      },
      {
       "output_type": "stream",
       "stream": "stdout",
       "text": [
        "\n",
        "https://redmine.justsoftwareag.com/issues/5299.json?include=journals&key=d1aef1b9a4658a5db747d0b435942f29133e0a02"
       ]
      },
      {
       "output_type": "stream",
       "stream": "stdout",
       "text": [
        "\n",
        "https://redmine.justsoftwareag.com/issues/5297.json?include=journals&key=d1aef1b9a4658a5db747d0b435942f29133e0a02"
       ]
      },
      {
       "output_type": "stream",
       "stream": "stdout",
       "text": [
        "\n",
        "https://redmine.justsoftwareag.com/issues/5296.json?include=journals&key=d1aef1b9a4658a5db747d0b435942f29133e0a02"
       ]
      },
      {
       "output_type": "stream",
       "stream": "stdout",
       "text": [
        "\n",
        "https://redmine.justsoftwareag.com/issues/5295.json?include=journals&key=d1aef1b9a4658a5db747d0b435942f29133e0a02"
       ]
      },
      {
       "output_type": "stream",
       "stream": "stdout",
       "text": [
        "\n",
        "https://redmine.justsoftwareag.com/issues/5289.json?include=journals&key=d1aef1b9a4658a5db747d0b435942f29133e0a02"
       ]
      },
      {
       "output_type": "stream",
       "stream": "stdout",
       "text": [
        "\n",
        "https://redmine.justsoftwareag.com/issues/5287.json?include=journals&key=d1aef1b9a4658a5db747d0b435942f29133e0a02"
       ]
      },
      {
       "output_type": "stream",
       "stream": "stdout",
       "text": [
        "\n",
        "https://redmine.justsoftwareag.com/issues/5285.json?include=journals&key=d1aef1b9a4658a5db747d0b435942f29133e0a02"
       ]
      },
      {
       "output_type": "stream",
       "stream": "stdout",
       "text": [
        "\n",
        "https://redmine.justsoftwareag.com/issues/5283.json?include=journals&key=d1aef1b9a4658a5db747d0b435942f29133e0a02"
       ]
      },
      {
       "output_type": "stream",
       "stream": "stdout",
       "text": [
        "\n",
        "https://redmine.justsoftwareag.com/issues/5282.json?include=journals&key=d1aef1b9a4658a5db747d0b435942f29133e0a02"
       ]
      },
      {
       "output_type": "stream",
       "stream": "stdout",
       "text": [
        "\n",
        "https://redmine.justsoftwareag.com/issues/5279.json?include=journals&key=d1aef1b9a4658a5db747d0b435942f29133e0a02"
       ]
      },
      {
       "output_type": "stream",
       "stream": "stdout",
       "text": [
        "\n",
        "https://redmine.justsoftwareag.com/issues/5278.json?include=journals&key=d1aef1b9a4658a5db747d0b435942f29133e0a02"
       ]
      },
      {
       "output_type": "stream",
       "stream": "stdout",
       "text": [
        "\n",
        "https://redmine.justsoftwareag.com/issues/5254.json?include=journals&key=d1aef1b9a4658a5db747d0b435942f29133e0a02"
       ]
      },
      {
       "output_type": "stream",
       "stream": "stdout",
       "text": [
        "\n",
        "https://redmine.justsoftwareag.com/issues/5253.json?include=journals&key=d1aef1b9a4658a5db747d0b435942f29133e0a02"
       ]
      },
      {
       "output_type": "stream",
       "stream": "stdout",
       "text": [
        "\n",
        "https://redmine.justsoftwareag.com/issues/5248.json?include=journals&key=d1aef1b9a4658a5db747d0b435942f29133e0a02"
       ]
      },
      {
       "output_type": "stream",
       "stream": "stdout",
       "text": [
        "\n",
        "https://redmine.justsoftwareag.com/issues/5246.json?include=journals&key=d1aef1b9a4658a5db747d0b435942f29133e0a02"
       ]
      },
      {
       "output_type": "stream",
       "stream": "stdout",
       "text": [
        "\n",
        "https://redmine.justsoftwareag.com/issues/5242.json?include=journals&key=d1aef1b9a4658a5db747d0b435942f29133e0a02"
       ]
      },
      {
       "output_type": "stream",
       "stream": "stdout",
       "text": [
        "\n",
        "https://redmine.justsoftwareag.com/issues/5241.json?include=journals&key=d1aef1b9a4658a5db747d0b435942f29133e0a02"
       ]
      },
      {
       "output_type": "stream",
       "stream": "stdout",
       "text": [
        "\n",
        "https://redmine.justsoftwareag.com/issues/5221.json?include=journals&key=d1aef1b9a4658a5db747d0b435942f29133e0a02"
       ]
      },
      {
       "output_type": "stream",
       "stream": "stdout",
       "text": [
        "\n",
        "https://redmine.justsoftwareag.com/issues/5214.json?include=journals&key=d1aef1b9a4658a5db747d0b435942f29133e0a02"
       ]
      },
      {
       "output_type": "stream",
       "stream": "stdout",
       "text": [
        "\n",
        "https://redmine.justsoftwareag.com/issues/5211.json?include=journals&key=d1aef1b9a4658a5db747d0b435942f29133e0a02"
       ]
      },
      {
       "output_type": "stream",
       "stream": "stdout",
       "text": [
        "\n",
        "https://redmine.justsoftwareag.com/issues/5188.json?include=journals&key=d1aef1b9a4658a5db747d0b435942f29133e0a02"
       ]
      },
      {
       "output_type": "stream",
       "stream": "stdout",
       "text": [
        "\n",
        "https://redmine.justsoftwareag.com/issues/5168.json?include=journals&key=d1aef1b9a4658a5db747d0b435942f29133e0a02"
       ]
      },
      {
       "output_type": "stream",
       "stream": "stdout",
       "text": [
        "\n",
        "https://redmine.justsoftwareag.com/issues/5164.json?include=journals&key=d1aef1b9a4658a5db747d0b435942f29133e0a02"
       ]
      },
      {
       "output_type": "stream",
       "stream": "stdout",
       "text": [
        "\n",
        "https://redmine.justsoftwareag.com/issues/5163.json?include=journals&key=d1aef1b9a4658a5db747d0b435942f29133e0a02"
       ]
      },
      {
       "output_type": "stream",
       "stream": "stdout",
       "text": [
        "\n",
        "https://redmine.justsoftwareag.com/issues/5160.json?include=journals&key=d1aef1b9a4658a5db747d0b435942f29133e0a02"
       ]
      },
      {
       "output_type": "stream",
       "stream": "stdout",
       "text": [
        "\n",
        "https://redmine.justsoftwareag.com/issues/5158.json?include=journals&key=d1aef1b9a4658a5db747d0b435942f29133e0a02"
       ]
      },
      {
       "output_type": "stream",
       "stream": "stdout",
       "text": [
        "\n",
        "https://redmine.justsoftwareag.com/issues/5157.json?include=journals&key=d1aef1b9a4658a5db747d0b435942f29133e0a02"
       ]
      },
      {
       "output_type": "stream",
       "stream": "stdout",
       "text": [
        "\n",
        "https://redmine.justsoftwareag.com/issues/5152.json?include=journals&key=d1aef1b9a4658a5db747d0b435942f29133e0a02"
       ]
      },
      {
       "output_type": "stream",
       "stream": "stdout",
       "text": [
        "\n",
        "https://redmine.justsoftwareag.com/issues/5151.json?include=journals&key=d1aef1b9a4658a5db747d0b435942f29133e0a02"
       ]
      },
      {
       "output_type": "stream",
       "stream": "stdout",
       "text": [
        "\n",
        "https://redmine.justsoftwareag.com/issues/5150.json?include=journals&key=d1aef1b9a4658a5db747d0b435942f29133e0a02"
       ]
      },
      {
       "output_type": "stream",
       "stream": "stdout",
       "text": [
        "\n",
        "https://redmine.justsoftwareag.com/issues/5149.json?include=journals&key=d1aef1b9a4658a5db747d0b435942f29133e0a02"
       ]
      },
      {
       "output_type": "stream",
       "stream": "stdout",
       "text": [
        "\n",
        "https://redmine.justsoftwareag.com/issues/5148.json?include=journals&key=d1aef1b9a4658a5db747d0b435942f29133e0a02"
       ]
      },
      {
       "output_type": "stream",
       "stream": "stdout",
       "text": [
        "\n",
        "https://redmine.justsoftwareag.com/issues/5147.json?include=journals&key=d1aef1b9a4658a5db747d0b435942f29133e0a02"
       ]
      },
      {
       "output_type": "stream",
       "stream": "stdout",
       "text": [
        "\n",
        "https://redmine.justsoftwareag.com/issues/5144.json?include=journals&key=d1aef1b9a4658a5db747d0b435942f29133e0a02"
       ]
      },
      {
       "output_type": "stream",
       "stream": "stdout",
       "text": [
        "\n",
        "https://redmine.justsoftwareag.com/issues/5140.json?include=journals&key=d1aef1b9a4658a5db747d0b435942f29133e0a02"
       ]
      },
      {
       "output_type": "stream",
       "stream": "stdout",
       "text": [
        "\n",
        "https://redmine.justsoftwareag.com/issues/5139.json?include=journals&key=d1aef1b9a4658a5db747d0b435942f29133e0a02"
       ]
      },
      {
       "output_type": "stream",
       "stream": "stdout",
       "text": [
        "\n",
        "https://redmine.justsoftwareag.com/issues/5138.json?include=journals&key=d1aef1b9a4658a5db747d0b435942f29133e0a02"
       ]
      },
      {
       "output_type": "stream",
       "stream": "stdout",
       "text": [
        "\n",
        "https://redmine.justsoftwareag.com/issues/5137.json?include=journals&key=d1aef1b9a4658a5db747d0b435942f29133e0a02"
       ]
      },
      {
       "output_type": "stream",
       "stream": "stdout",
       "text": [
        "\n",
        "https://redmine.justsoftwareag.com/issues/5136.json?include=journals&key=d1aef1b9a4658a5db747d0b435942f29133e0a02"
       ]
      },
      {
       "output_type": "stream",
       "stream": "stdout",
       "text": [
        "\n",
        "https://redmine.justsoftwareag.com/issues/5133.json?include=journals&key=d1aef1b9a4658a5db747d0b435942f29133e0a02"
       ]
      },
      {
       "output_type": "stream",
       "stream": "stdout",
       "text": [
        "\n",
        "https://redmine.justsoftwareag.com/issues/5130.json?include=journals&key=d1aef1b9a4658a5db747d0b435942f29133e0a02"
       ]
      },
      {
       "output_type": "stream",
       "stream": "stdout",
       "text": [
        "\n",
        "https://redmine.justsoftwareag.com/issues/5128.json?include=journals&key=d1aef1b9a4658a5db747d0b435942f29133e0a02"
       ]
      },
      {
       "output_type": "stream",
       "stream": "stdout",
       "text": [
        "\n",
        "https://redmine.justsoftwareag.com/issues/5127.json?include=journals&key=d1aef1b9a4658a5db747d0b435942f29133e0a02"
       ]
      },
      {
       "output_type": "stream",
       "stream": "stdout",
       "text": [
        "\n",
        "https://redmine.justsoftwareag.com/issues/5126.json?include=journals&key=d1aef1b9a4658a5db747d0b435942f29133e0a02"
       ]
      },
      {
       "output_type": "stream",
       "stream": "stdout",
       "text": [
        "\n",
        "https://redmine.justsoftwareag.com/issues/5125.json?include=journals&key=d1aef1b9a4658a5db747d0b435942f29133e0a02"
       ]
      },
      {
       "output_type": "stream",
       "stream": "stdout",
       "text": [
        "\n",
        "https://redmine.justsoftwareag.com/issues/5106.json?include=journals&key=d1aef1b9a4658a5db747d0b435942f29133e0a02"
       ]
      },
      {
       "output_type": "stream",
       "stream": "stdout",
       "text": [
        "\n",
        "https://redmine.justsoftwareag.com/issues/5105.json?include=journals&key=d1aef1b9a4658a5db747d0b435942f29133e0a02"
       ]
      },
      {
       "output_type": "stream",
       "stream": "stdout",
       "text": [
        "\n",
        "https://redmine.justsoftwareag.com/issues/5103.json?include=journals&key=d1aef1b9a4658a5db747d0b435942f29133e0a02"
       ]
      },
      {
       "output_type": "stream",
       "stream": "stdout",
       "text": [
        "\n",
        "https://redmine.justsoftwareag.com/issues/5100.json?include=journals&key=d1aef1b9a4658a5db747d0b435942f29133e0a02"
       ]
      },
      {
       "output_type": "stream",
       "stream": "stdout",
       "text": [
        "\n",
        "https://redmine.justsoftwareag.com/issues/5098.json?include=journals&key=d1aef1b9a4658a5db747d0b435942f29133e0a02"
       ]
      },
      {
       "output_type": "stream",
       "stream": "stdout",
       "text": [
        "\n",
        "https://redmine.justsoftwareag.com/issues/5095.json?include=journals&key=d1aef1b9a4658a5db747d0b435942f29133e0a02"
       ]
      },
      {
       "output_type": "stream",
       "stream": "stdout",
       "text": [
        "\n",
        "https://redmine.justsoftwareag.com/issues/5091.json?include=journals&key=d1aef1b9a4658a5db747d0b435942f29133e0a02"
       ]
      },
      {
       "output_type": "stream",
       "stream": "stdout",
       "text": [
        "\n",
        "https://redmine.justsoftwareag.com/issues/5088.json?include=journals&key=d1aef1b9a4658a5db747d0b435942f29133e0a02"
       ]
      },
      {
       "output_type": "stream",
       "stream": "stdout",
       "text": [
        "\n",
        "https://redmine.justsoftwareag.com/issues/5087.json?include=journals&key=d1aef1b9a4658a5db747d0b435942f29133e0a02"
       ]
      },
      {
       "output_type": "stream",
       "stream": "stdout",
       "text": [
        "\n",
        "https://redmine.justsoftwareag.com/issues/5085.json?include=journals&key=d1aef1b9a4658a5db747d0b435942f29133e0a02"
       ]
      },
      {
       "output_type": "stream",
       "stream": "stdout",
       "text": [
        "\n",
        "https://redmine.justsoftwareag.com/issues/5084.json?include=journals&key=d1aef1b9a4658a5db747d0b435942f29133e0a02"
       ]
      },
      {
       "output_type": "stream",
       "stream": "stdout",
       "text": [
        "\n",
        "https://redmine.justsoftwareag.com/issues/5082.json?include=journals&key=d1aef1b9a4658a5db747d0b435942f29133e0a02"
       ]
      },
      {
       "output_type": "stream",
       "stream": "stdout",
       "text": [
        "\n",
        "https://redmine.justsoftwareag.com/issues/5081.json?include=journals&key=d1aef1b9a4658a5db747d0b435942f29133e0a02"
       ]
      },
      {
       "output_type": "stream",
       "stream": "stdout",
       "text": [
        "\n",
        "https://redmine.justsoftwareag.com/issues/5079.json?include=journals&key=d1aef1b9a4658a5db747d0b435942f29133e0a02"
       ]
      },
      {
       "output_type": "stream",
       "stream": "stdout",
       "text": [
        "\n",
        "https://redmine.justsoftwareag.com/issues/5078.json?include=journals&key=d1aef1b9a4658a5db747d0b435942f29133e0a02"
       ]
      },
      {
       "output_type": "stream",
       "stream": "stdout",
       "text": [
        "\n",
        "https://redmine.justsoftwareag.com/issues/5076.json?include=journals&key=d1aef1b9a4658a5db747d0b435942f29133e0a02"
       ]
      },
      {
       "output_type": "stream",
       "stream": "stdout",
       "text": [
        "\n",
        "https://redmine.justsoftwareag.com/issues/5074.json?include=journals&key=d1aef1b9a4658a5db747d0b435942f29133e0a02"
       ]
      },
      {
       "output_type": "stream",
       "stream": "stdout",
       "text": [
        "\n",
        "https://redmine.justsoftwareag.com/issues/5071.json?include=journals&key=d1aef1b9a4658a5db747d0b435942f29133e0a02"
       ]
      },
      {
       "output_type": "stream",
       "stream": "stdout",
       "text": [
        "\n",
        "https://redmine.justsoftwareag.com/issues/5070.json?include=journals&key=d1aef1b9a4658a5db747d0b435942f29133e0a02"
       ]
      },
      {
       "output_type": "stream",
       "stream": "stdout",
       "text": [
        "\n",
        "https://redmine.justsoftwareag.com/issues/5069.json?include=journals&key=d1aef1b9a4658a5db747d0b435942f29133e0a02"
       ]
      },
      {
       "output_type": "stream",
       "stream": "stdout",
       "text": [
        "\n",
        "https://redmine.justsoftwareag.com/issues/5068.json?include=journals&key=d1aef1b9a4658a5db747d0b435942f29133e0a02"
       ]
      },
      {
       "output_type": "stream",
       "stream": "stdout",
       "text": [
        "\n",
        "https://redmine.justsoftwareag.com/issues/5061.json?include=journals&key=d1aef1b9a4658a5db747d0b435942f29133e0a02"
       ]
      },
      {
       "output_type": "stream",
       "stream": "stdout",
       "text": [
        "\n",
        "https://redmine.justsoftwareag.com/issues/5058.json?include=journals&key=d1aef1b9a4658a5db747d0b435942f29133e0a02"
       ]
      },
      {
       "output_type": "stream",
       "stream": "stdout",
       "text": [
        "\n",
        "https://redmine.justsoftwareag.com/issues/5057.json?include=journals&key=d1aef1b9a4658a5db747d0b435942f29133e0a02"
       ]
      },
      {
       "output_type": "stream",
       "stream": "stdout",
       "text": [
        "\n",
        "https://redmine.justsoftwareag.com/issues/5040.json?include=journals&key=d1aef1b9a4658a5db747d0b435942f29133e0a02"
       ]
      },
      {
       "output_type": "stream",
       "stream": "stdout",
       "text": [
        "\n",
        "https://redmine.justsoftwareag.com/issues/5039.json?include=journals&key=d1aef1b9a4658a5db747d0b435942f29133e0a02"
       ]
      },
      {
       "output_type": "stream",
       "stream": "stdout",
       "text": [
        "\n",
        "https://redmine.justsoftwareag.com/issues/5038.json?include=journals&key=d1aef1b9a4658a5db747d0b435942f29133e0a02"
       ]
      },
      {
       "output_type": "stream",
       "stream": "stdout",
       "text": [
        "\n",
        "https://redmine.justsoftwareag.com/issues/5032.json?include=journals&key=d1aef1b9a4658a5db747d0b435942f29133e0a02"
       ]
      },
      {
       "output_type": "stream",
       "stream": "stdout",
       "text": [
        "\n",
        "https://redmine.justsoftwareag.com/issues/5031.json?include=journals&key=d1aef1b9a4658a5db747d0b435942f29133e0a02"
       ]
      },
      {
       "output_type": "stream",
       "stream": "stdout",
       "text": [
        "\n",
        "https://redmine.justsoftwareag.com/issues/5028.json?include=journals&key=d1aef1b9a4658a5db747d0b435942f29133e0a02"
       ]
      },
      {
       "output_type": "stream",
       "stream": "stdout",
       "text": [
        "\n",
        "https://redmine.justsoftwareag.com/issues/5005.json?include=journals&key=d1aef1b9a4658a5db747d0b435942f29133e0a02"
       ]
      },
      {
       "output_type": "stream",
       "stream": "stdout",
       "text": [
        "\n",
        "https://redmine.justsoftwareag.com/issues/5001.json?include=journals&key=d1aef1b9a4658a5db747d0b435942f29133e0a02"
       ]
      },
      {
       "output_type": "stream",
       "stream": "stdout",
       "text": [
        "\n",
        "https://redmine.justsoftwareag.com/issues/4982.json?include=journals&key=d1aef1b9a4658a5db747d0b435942f29133e0a02"
       ]
      },
      {
       "output_type": "stream",
       "stream": "stdout",
       "text": [
        "\n",
        "https://redmine.justsoftwareag.com/issues/4974.json?include=journals&key=d1aef1b9a4658a5db747d0b435942f29133e0a02"
       ]
      },
      {
       "output_type": "stream",
       "stream": "stdout",
       "text": [
        "\n",
        "https://redmine.justsoftwareag.com/issues/4898.json?include=journals&key=d1aef1b9a4658a5db747d0b435942f29133e0a02"
       ]
      },
      {
       "output_type": "stream",
       "stream": "stdout",
       "text": [
        "\n",
        "https://redmine.justsoftwareag.com/issues/4897.json?include=journals&key=d1aef1b9a4658a5db747d0b435942f29133e0a02"
       ]
      },
      {
       "output_type": "stream",
       "stream": "stdout",
       "text": [
        "\n",
        "https://redmine.justsoftwareag.com/issues/4896.json?include=journals&key=d1aef1b9a4658a5db747d0b435942f29133e0a02"
       ]
      },
      {
       "output_type": "stream",
       "stream": "stdout",
       "text": [
        "\n",
        "https://redmine.justsoftwareag.com/issues/4894.json?include=journals&key=d1aef1b9a4658a5db747d0b435942f29133e0a02"
       ]
      },
      {
       "output_type": "stream",
       "stream": "stdout",
       "text": [
        "\n",
        "https://redmine.justsoftwareag.com/issues/4891.json?include=journals&key=d1aef1b9a4658a5db747d0b435942f29133e0a02"
       ]
      },
      {
       "output_type": "stream",
       "stream": "stdout",
       "text": [
        "\n",
        "https://redmine.justsoftwareag.com/issues/4890.json?include=journals&key=d1aef1b9a4658a5db747d0b435942f29133e0a02"
       ]
      },
      {
       "output_type": "stream",
       "stream": "stdout",
       "text": [
        "\n",
        "https://redmine.justsoftwareag.com/issues/4889.json?include=journals&key=d1aef1b9a4658a5db747d0b435942f29133e0a02"
       ]
      },
      {
       "output_type": "stream",
       "stream": "stdout",
       "text": [
        "\n",
        "https://redmine.justsoftwareag.com/issues/4888.json?include=journals&key=d1aef1b9a4658a5db747d0b435942f29133e0a02"
       ]
      },
      {
       "output_type": "stream",
       "stream": "stdout",
       "text": [
        "\n",
        "https://redmine.justsoftwareag.com/issues/4887.json?include=journals&key=d1aef1b9a4658a5db747d0b435942f29133e0a02"
       ]
      },
      {
       "output_type": "stream",
       "stream": "stdout",
       "text": [
        "\n",
        "https://redmine.justsoftwareag.com/issues/4886.json?include=journals&key=d1aef1b9a4658a5db747d0b435942f29133e0a02"
       ]
      },
      {
       "output_type": "stream",
       "stream": "stdout",
       "text": [
        "\n",
        "https://redmine.justsoftwareag.com/issues/4885.json?include=journals&key=d1aef1b9a4658a5db747d0b435942f29133e0a02"
       ]
      },
      {
       "output_type": "stream",
       "stream": "stdout",
       "text": [
        "\n",
        "https://redmine.justsoftwareag.com/issues/4884.json?include=journals&key=d1aef1b9a4658a5db747d0b435942f29133e0a02"
       ]
      },
      {
       "output_type": "stream",
       "stream": "stdout",
       "text": [
        "\n",
        "https://redmine.justsoftwareag.com/issues/4883.json?include=journals&key=d1aef1b9a4658a5db747d0b435942f29133e0a02"
       ]
      },
      {
       "output_type": "stream",
       "stream": "stdout",
       "text": [
        "\n",
        "https://redmine.justsoftwareag.com/issues/4882.json?include=journals&key=d1aef1b9a4658a5db747d0b435942f29133e0a02"
       ]
      },
      {
       "output_type": "stream",
       "stream": "stdout",
       "text": [
        "\n",
        "https://redmine.justsoftwareag.com/issues/4881.json?include=journals&key=d1aef1b9a4658a5db747d0b435942f29133e0a02"
       ]
      },
      {
       "output_type": "stream",
       "stream": "stdout",
       "text": [
        "\n",
        "https://redmine.justsoftwareag.com/issues/4726.json?include=journals&key=d1aef1b9a4658a5db747d0b435942f29133e0a02"
       ]
      },
      {
       "output_type": "stream",
       "stream": "stdout",
       "text": [
        "\n",
        "https://redmine.justsoftwareag.com/issues/4719.json?include=journals&key=d1aef1b9a4658a5db747d0b435942f29133e0a02"
       ]
      },
      {
       "output_type": "stream",
       "stream": "stdout",
       "text": [
        "\n",
        "https://redmine.justsoftwareag.com/issues/4718.json?include=journals&key=d1aef1b9a4658a5db747d0b435942f29133e0a02"
       ]
      },
      {
       "output_type": "stream",
       "stream": "stdout",
       "text": [
        "\n",
        "https://redmine.justsoftwareag.com/issues/4712.json?include=journals&key=d1aef1b9a4658a5db747d0b435942f29133e0a02"
       ]
      },
      {
       "output_type": "stream",
       "stream": "stdout",
       "text": [
        "\n",
        "https://redmine.justsoftwareag.com/issues/4709.json?include=journals&key=d1aef1b9a4658a5db747d0b435942f29133e0a02"
       ]
      },
      {
       "output_type": "stream",
       "stream": "stdout",
       "text": [
        "\n",
        "https://redmine.justsoftwareag.com/issues/4706.json?include=journals&key=d1aef1b9a4658a5db747d0b435942f29133e0a02"
       ]
      },
      {
       "output_type": "stream",
       "stream": "stdout",
       "text": [
        "\n",
        "https://redmine.justsoftwareag.com/issues/4705.json?include=journals&key=d1aef1b9a4658a5db747d0b435942f29133e0a02"
       ]
      },
      {
       "output_type": "stream",
       "stream": "stdout",
       "text": [
        "\n",
        "https://redmine.justsoftwareag.com/issues/4703.json?include=journals&key=d1aef1b9a4658a5db747d0b435942f29133e0a02"
       ]
      },
      {
       "output_type": "stream",
       "stream": "stdout",
       "text": [
        "\n",
        "https://redmine.justsoftwareag.com/issues/4699.json?include=journals&key=d1aef1b9a4658a5db747d0b435942f29133e0a02"
       ]
      },
      {
       "output_type": "stream",
       "stream": "stdout",
       "text": [
        "\n",
        "https://redmine.justsoftwareag.com/issues/4698.json?include=journals&key=d1aef1b9a4658a5db747d0b435942f29133e0a02"
       ]
      },
      {
       "output_type": "stream",
       "stream": "stdout",
       "text": [
        "\n",
        "https://redmine.justsoftwareag.com/issues/4693.json?include=journals&key=d1aef1b9a4658a5db747d0b435942f29133e0a02"
       ]
      },
      {
       "output_type": "stream",
       "stream": "stdout",
       "text": [
        "\n",
        "https://redmine.justsoftwareag.com/issues/4691.json?include=journals&key=d1aef1b9a4658a5db747d0b435942f29133e0a02"
       ]
      },
      {
       "output_type": "stream",
       "stream": "stdout",
       "text": [
        "\n",
        "https://redmine.justsoftwareag.com/issues/4681.json?include=journals&key=d1aef1b9a4658a5db747d0b435942f29133e0a02"
       ]
      },
      {
       "output_type": "stream",
       "stream": "stdout",
       "text": [
        "\n",
        "https://redmine.justsoftwareag.com/issues/4672.json?include=journals&key=d1aef1b9a4658a5db747d0b435942f29133e0a02"
       ]
      },
      {
       "output_type": "stream",
       "stream": "stdout",
       "text": [
        "\n",
        "https://redmine.justsoftwareag.com/issues/4671.json?include=journals&key=d1aef1b9a4658a5db747d0b435942f29133e0a02"
       ]
      },
      {
       "output_type": "stream",
       "stream": "stdout",
       "text": [
        "\n",
        "https://redmine.justsoftwareag.com/issues/4668.json?include=journals&key=d1aef1b9a4658a5db747d0b435942f29133e0a02"
       ]
      },
      {
       "output_type": "stream",
       "stream": "stdout",
       "text": [
        "\n",
        "https://redmine.justsoftwareag.com/issues/4648.json?include=journals&key=d1aef1b9a4658a5db747d0b435942f29133e0a02"
       ]
      },
      {
       "output_type": "stream",
       "stream": "stdout",
       "text": [
        "\n",
        "https://redmine.justsoftwareag.com/issues/4642.json?include=journals&key=d1aef1b9a4658a5db747d0b435942f29133e0a02"
       ]
      },
      {
       "output_type": "stream",
       "stream": "stdout",
       "text": [
        "\n",
        "https://redmine.justsoftwareag.com/issues/4641.json?include=journals&key=d1aef1b9a4658a5db747d0b435942f29133e0a02"
       ]
      },
      {
       "output_type": "stream",
       "stream": "stdout",
       "text": [
        "\n",
        "https://redmine.justsoftwareag.com/issues/4640.json?include=journals&key=d1aef1b9a4658a5db747d0b435942f29133e0a02"
       ]
      },
      {
       "output_type": "stream",
       "stream": "stdout",
       "text": [
        "\n",
        "https://redmine.justsoftwareag.com/issues/4624.json?include=journals&key=d1aef1b9a4658a5db747d0b435942f29133e0a02"
       ]
      },
      {
       "output_type": "stream",
       "stream": "stdout",
       "text": [
        "\n",
        "https://redmine.justsoftwareag.com/issues/4615.json?include=journals&key=d1aef1b9a4658a5db747d0b435942f29133e0a02"
       ]
      },
      {
       "output_type": "stream",
       "stream": "stdout",
       "text": [
        "\n",
        "https://redmine.justsoftwareag.com/issues/4602.json?include=journals&key=d1aef1b9a4658a5db747d0b435942f29133e0a02"
       ]
      },
      {
       "output_type": "stream",
       "stream": "stdout",
       "text": [
        "\n",
        "https://redmine.justsoftwareag.com/issues/4589.json?include=journals&key=d1aef1b9a4658a5db747d0b435942f29133e0a02"
       ]
      },
      {
       "output_type": "stream",
       "stream": "stdout",
       "text": [
        "\n",
        "https://redmine.justsoftwareag.com/issues/4543.json?include=journals&key=d1aef1b9a4658a5db747d0b435942f29133e0a02"
       ]
      },
      {
       "output_type": "stream",
       "stream": "stdout",
       "text": [
        "\n",
        "https://redmine.justsoftwareag.com/issues/4536.json?include=journals&key=d1aef1b9a4658a5db747d0b435942f29133e0a02"
       ]
      },
      {
       "output_type": "stream",
       "stream": "stdout",
       "text": [
        "\n",
        "https://redmine.justsoftwareag.com/issues/4529.json?include=journals&key=d1aef1b9a4658a5db747d0b435942f29133e0a02"
       ]
      },
      {
       "output_type": "stream",
       "stream": "stdout",
       "text": [
        "\n",
        "https://redmine.justsoftwareag.com/issues/4528.json?include=journals&key=d1aef1b9a4658a5db747d0b435942f29133e0a02"
       ]
      },
      {
       "output_type": "stream",
       "stream": "stdout",
       "text": [
        "\n",
        "https://redmine.justsoftwareag.com/issues/4527.json?include=journals&key=d1aef1b9a4658a5db747d0b435942f29133e0a02"
       ]
      },
      {
       "output_type": "stream",
       "stream": "stdout",
       "text": [
        "\n",
        "https://redmine.justsoftwareag.com/issues/4523.json?include=journals&key=d1aef1b9a4658a5db747d0b435942f29133e0a02"
       ]
      },
      {
       "output_type": "stream",
       "stream": "stdout",
       "text": [
        "\n",
        "https://redmine.justsoftwareag.com/issues/4519.json?include=journals&key=d1aef1b9a4658a5db747d0b435942f29133e0a02"
       ]
      },
      {
       "output_type": "stream",
       "stream": "stdout",
       "text": [
        "\n",
        "https://redmine.justsoftwareag.com/issues/4518.json?include=journals&key=d1aef1b9a4658a5db747d0b435942f29133e0a02"
       ]
      },
      {
       "output_type": "stream",
       "stream": "stdout",
       "text": [
        "\n",
        "https://redmine.justsoftwareag.com/issues/4508.json?include=journals&key=d1aef1b9a4658a5db747d0b435942f29133e0a02"
       ]
      },
      {
       "output_type": "stream",
       "stream": "stdout",
       "text": [
        "\n",
        "https://redmine.justsoftwareag.com/issues/4418.json?include=journals&key=d1aef1b9a4658a5db747d0b435942f29133e0a02"
       ]
      },
      {
       "output_type": "stream",
       "stream": "stdout",
       "text": [
        "\n",
        "https://redmine.justsoftwareag.com/issues/4417.json?include=journals&key=d1aef1b9a4658a5db747d0b435942f29133e0a02"
       ]
      },
      {
       "output_type": "stream",
       "stream": "stdout",
       "text": [
        "\n",
        "https://redmine.justsoftwareag.com/issues/4416.json?include=journals&key=d1aef1b9a4658a5db747d0b435942f29133e0a02"
       ]
      },
      {
       "output_type": "stream",
       "stream": "stdout",
       "text": [
        "\n",
        "https://redmine.justsoftwareag.com/issues/4415.json?include=journals&key=d1aef1b9a4658a5db747d0b435942f29133e0a02"
       ]
      },
      {
       "output_type": "stream",
       "stream": "stdout",
       "text": [
        "\n",
        "https://redmine.justsoftwareag.com/issues/4414.json?include=journals&key=d1aef1b9a4658a5db747d0b435942f29133e0a02"
       ]
      },
      {
       "output_type": "stream",
       "stream": "stdout",
       "text": [
        "\n",
        "https://redmine.justsoftwareag.com/issues/4413.json?include=journals&key=d1aef1b9a4658a5db747d0b435942f29133e0a02"
       ]
      },
      {
       "output_type": "stream",
       "stream": "stdout",
       "text": [
        "\n",
        "https://redmine.justsoftwareag.com/issues/4412.json?include=journals&key=d1aef1b9a4658a5db747d0b435942f29133e0a02"
       ]
      },
      {
       "output_type": "stream",
       "stream": "stdout",
       "text": [
        "\n",
        "https://redmine.justsoftwareag.com/issues/4409.json?include=journals&key=d1aef1b9a4658a5db747d0b435942f29133e0a02"
       ]
      },
      {
       "output_type": "stream",
       "stream": "stdout",
       "text": [
        "\n",
        "https://redmine.justsoftwareag.com/issues/4408.json?include=journals&key=d1aef1b9a4658a5db747d0b435942f29133e0a02"
       ]
      },
      {
       "output_type": "stream",
       "stream": "stdout",
       "text": [
        "\n",
        "https://redmine.justsoftwareag.com/issues/4402.json?include=journals&key=d1aef1b9a4658a5db747d0b435942f29133e0a02"
       ]
      },
      {
       "output_type": "stream",
       "stream": "stdout",
       "text": [
        "\n",
        "https://redmine.justsoftwareag.com/issues/4398.json?include=journals&key=d1aef1b9a4658a5db747d0b435942f29133e0a02"
       ]
      },
      {
       "output_type": "stream",
       "stream": "stdout",
       "text": [
        "\n",
        "https://redmine.justsoftwareag.com/issues/4397.json?include=journals&key=d1aef1b9a4658a5db747d0b435942f29133e0a02"
       ]
      },
      {
       "output_type": "stream",
       "stream": "stdout",
       "text": [
        "\n",
        "https://redmine.justsoftwareag.com/issues/4390.json?include=journals&key=d1aef1b9a4658a5db747d0b435942f29133e0a02"
       ]
      },
      {
       "output_type": "stream",
       "stream": "stdout",
       "text": [
        "\n",
        "https://redmine.justsoftwareag.com/issues/4358.json?include=journals&key=d1aef1b9a4658a5db747d0b435942f29133e0a02"
       ]
      },
      {
       "output_type": "stream",
       "stream": "stdout",
       "text": [
        "\n",
        "https://redmine.justsoftwareag.com/issues/4353.json?include=journals&key=d1aef1b9a4658a5db747d0b435942f29133e0a02"
       ]
      },
      {
       "output_type": "stream",
       "stream": "stdout",
       "text": [
        "\n",
        "https://redmine.justsoftwareag.com/issues/4322.json?include=journals&key=d1aef1b9a4658a5db747d0b435942f29133e0a02"
       ]
      },
      {
       "output_type": "stream",
       "stream": "stdout",
       "text": [
        "\n",
        "https://redmine.justsoftwareag.com/issues/4320.json?include=journals&key=d1aef1b9a4658a5db747d0b435942f29133e0a02"
       ]
      },
      {
       "output_type": "stream",
       "stream": "stdout",
       "text": [
        "\n",
        "https://redmine.justsoftwareag.com/issues/4319.json?include=journals&key=d1aef1b9a4658a5db747d0b435942f29133e0a02"
       ]
      },
      {
       "output_type": "stream",
       "stream": "stdout",
       "text": [
        "\n",
        "https://redmine.justsoftwareag.com/issues/4307.json?include=journals&key=d1aef1b9a4658a5db747d0b435942f29133e0a02"
       ]
      },
      {
       "output_type": "stream",
       "stream": "stdout",
       "text": [
        "\n",
        "https://redmine.justsoftwareag.com/issues/4306.json?include=journals&key=d1aef1b9a4658a5db747d0b435942f29133e0a02"
       ]
      },
      {
       "output_type": "stream",
       "stream": "stdout",
       "text": [
        "\n",
        "https://redmine.justsoftwareag.com/issues/4302.json?include=journals&key=d1aef1b9a4658a5db747d0b435942f29133e0a02"
       ]
      },
      {
       "output_type": "stream",
       "stream": "stdout",
       "text": [
        "\n",
        "https://redmine.justsoftwareag.com/issues/4282.json?include=journals&key=d1aef1b9a4658a5db747d0b435942f29133e0a02"
       ]
      },
      {
       "output_type": "stream",
       "stream": "stdout",
       "text": [
        "\n",
        "https://redmine.justsoftwareag.com/issues/4278.json?include=journals&key=d1aef1b9a4658a5db747d0b435942f29133e0a02"
       ]
      },
      {
       "output_type": "stream",
       "stream": "stdout",
       "text": [
        "\n",
        "https://redmine.justsoftwareag.com/issues/4259.json?include=journals&key=d1aef1b9a4658a5db747d0b435942f29133e0a02"
       ]
      },
      {
       "output_type": "stream",
       "stream": "stdout",
       "text": [
        "\n",
        "https://redmine.justsoftwareag.com/issues/4234.json?include=journals&key=d1aef1b9a4658a5db747d0b435942f29133e0a02"
       ]
      },
      {
       "output_type": "stream",
       "stream": "stdout",
       "text": [
        "\n",
        "https://redmine.justsoftwareag.com/issues/4230.json?include=journals&key=d1aef1b9a4658a5db747d0b435942f29133e0a02"
       ]
      },
      {
       "output_type": "stream",
       "stream": "stdout",
       "text": [
        "\n",
        "https://redmine.justsoftwareag.com/issues/4229.json?include=journals&key=d1aef1b9a4658a5db747d0b435942f29133e0a02"
       ]
      },
      {
       "output_type": "stream",
       "stream": "stdout",
       "text": [
        "\n",
        "https://redmine.justsoftwareag.com/issues/4228.json?include=journals&key=d1aef1b9a4658a5db747d0b435942f29133e0a02"
       ]
      },
      {
       "output_type": "stream",
       "stream": "stdout",
       "text": [
        "\n",
        "https://redmine.justsoftwareag.com/issues/4227.json?include=journals&key=d1aef1b9a4658a5db747d0b435942f29133e0a02"
       ]
      },
      {
       "output_type": "stream",
       "stream": "stdout",
       "text": [
        "\n",
        "https://redmine.justsoftwareag.com/issues/4226.json?include=journals&key=d1aef1b9a4658a5db747d0b435942f29133e0a02"
       ]
      },
      {
       "output_type": "stream",
       "stream": "stdout",
       "text": [
        "\n",
        "https://redmine.justsoftwareag.com/issues/4225.json?include=journals&key=d1aef1b9a4658a5db747d0b435942f29133e0a02"
       ]
      },
      {
       "output_type": "stream",
       "stream": "stdout",
       "text": [
        "\n",
        "https://redmine.justsoftwareag.com/issues/4221.json?include=journals&key=d1aef1b9a4658a5db747d0b435942f29133e0a02"
       ]
      },
      {
       "output_type": "stream",
       "stream": "stdout",
       "text": [
        "\n",
        "https://redmine.justsoftwareag.com/issues/4220.json?include=journals&key=d1aef1b9a4658a5db747d0b435942f29133e0a02"
       ]
      },
      {
       "output_type": "stream",
       "stream": "stdout",
       "text": [
        "\n",
        "https://redmine.justsoftwareag.com/issues/4219.json?include=journals&key=d1aef1b9a4658a5db747d0b435942f29133e0a02"
       ]
      },
      {
       "output_type": "stream",
       "stream": "stdout",
       "text": [
        "\n",
        "https://redmine.justsoftwareag.com/issues/4216.json?include=journals&key=d1aef1b9a4658a5db747d0b435942f29133e0a02"
       ]
      },
      {
       "output_type": "stream",
       "stream": "stdout",
       "text": [
        "\n",
        "https://redmine.justsoftwareag.com/issues/4201.json?include=journals&key=d1aef1b9a4658a5db747d0b435942f29133e0a02"
       ]
      },
      {
       "output_type": "stream",
       "stream": "stdout",
       "text": [
        "\n",
        "https://redmine.justsoftwareag.com/issues/4193.json?include=journals&key=d1aef1b9a4658a5db747d0b435942f29133e0a02"
       ]
      },
      {
       "output_type": "stream",
       "stream": "stdout",
       "text": [
        "\n",
        "https://redmine.justsoftwareag.com/issues/4188.json?include=journals&key=d1aef1b9a4658a5db747d0b435942f29133e0a02"
       ]
      },
      {
       "output_type": "stream",
       "stream": "stdout",
       "text": [
        "\n",
        "https://redmine.justsoftwareag.com/issues/4186.json?include=journals&key=d1aef1b9a4658a5db747d0b435942f29133e0a02"
       ]
      },
      {
       "output_type": "stream",
       "stream": "stdout",
       "text": [
        "\n",
        "https://redmine.justsoftwareag.com/issues/4181.json?include=journals&key=d1aef1b9a4658a5db747d0b435942f29133e0a02"
       ]
      },
      {
       "output_type": "stream",
       "stream": "stdout",
       "text": [
        "\n",
        "https://redmine.justsoftwareag.com/issues/4169.json?include=journals&key=d1aef1b9a4658a5db747d0b435942f29133e0a02"
       ]
      },
      {
       "output_type": "stream",
       "stream": "stdout",
       "text": [
        "\n",
        "https://redmine.justsoftwareag.com/issues/4153.json?include=journals&key=d1aef1b9a4658a5db747d0b435942f29133e0a02"
       ]
      },
      {
       "output_type": "stream",
       "stream": "stdout",
       "text": [
        "\n",
        "https://redmine.justsoftwareag.com/issues/4152.json?include=journals&key=d1aef1b9a4658a5db747d0b435942f29133e0a02"
       ]
      },
      {
       "output_type": "stream",
       "stream": "stdout",
       "text": [
        "\n",
        "https://redmine.justsoftwareag.com/issues/4148.json?include=journals&key=d1aef1b9a4658a5db747d0b435942f29133e0a02"
       ]
      },
      {
       "output_type": "stream",
       "stream": "stdout",
       "text": [
        "\n",
        "https://redmine.justsoftwareag.com/issues/4147.json?include=journals&key=d1aef1b9a4658a5db747d0b435942f29133e0a02"
       ]
      },
      {
       "output_type": "stream",
       "stream": "stdout",
       "text": [
        "\n",
        "https://redmine.justsoftwareag.com/issues/4144.json?include=journals&key=d1aef1b9a4658a5db747d0b435942f29133e0a02"
       ]
      },
      {
       "output_type": "stream",
       "stream": "stdout",
       "text": [
        "\n",
        "https://redmine.justsoftwareag.com/issues/4139.json?include=journals&key=d1aef1b9a4658a5db747d0b435942f29133e0a02"
       ]
      },
      {
       "output_type": "stream",
       "stream": "stdout",
       "text": [
        "\n",
        "https://redmine.justsoftwareag.com/issues/4135.json?include=journals&key=d1aef1b9a4658a5db747d0b435942f29133e0a02"
       ]
      },
      {
       "output_type": "stream",
       "stream": "stdout",
       "text": [
        "\n",
        "https://redmine.justsoftwareag.com/issues/4128.json?include=journals&key=d1aef1b9a4658a5db747d0b435942f29133e0a02"
       ]
      },
      {
       "output_type": "stream",
       "stream": "stdout",
       "text": [
        "\n",
        "https://redmine.justsoftwareag.com/issues/4124.json?include=journals&key=d1aef1b9a4658a5db747d0b435942f29133e0a02"
       ]
      },
      {
       "output_type": "stream",
       "stream": "stdout",
       "text": [
        "\n",
        "https://redmine.justsoftwareag.com/issues/4115.json?include=journals&key=d1aef1b9a4658a5db747d0b435942f29133e0a02"
       ]
      },
      {
       "output_type": "stream",
       "stream": "stdout",
       "text": [
        "\n",
        "https://redmine.justsoftwareag.com/issues/4097.json?include=journals&key=d1aef1b9a4658a5db747d0b435942f29133e0a02"
       ]
      },
      {
       "output_type": "stream",
       "stream": "stdout",
       "text": [
        "\n",
        "https://redmine.justsoftwareag.com/issues/4078.json?include=journals&key=d1aef1b9a4658a5db747d0b435942f29133e0a02"
       ]
      },
      {
       "output_type": "stream",
       "stream": "stdout",
       "text": [
        "\n",
        "https://redmine.justsoftwareag.com/issues/4062.json?include=journals&key=d1aef1b9a4658a5db747d0b435942f29133e0a02"
       ]
      },
      {
       "output_type": "stream",
       "stream": "stdout",
       "text": [
        "\n",
        "https://redmine.justsoftwareag.com/issues/4058.json?include=journals&key=d1aef1b9a4658a5db747d0b435942f29133e0a02"
       ]
      },
      {
       "output_type": "stream",
       "stream": "stdout",
       "text": [
        "\n",
        "https://redmine.justsoftwareag.com/issues/4052.json?include=journals&key=d1aef1b9a4658a5db747d0b435942f29133e0a02"
       ]
      },
      {
       "output_type": "stream",
       "stream": "stdout",
       "text": [
        "\n",
        "https://redmine.justsoftwareag.com/issues/4050.json?include=journals&key=d1aef1b9a4658a5db747d0b435942f29133e0a02"
       ]
      },
      {
       "output_type": "stream",
       "stream": "stdout",
       "text": [
        "\n",
        "https://redmine.justsoftwareag.com/issues/4046.json?include=journals&key=d1aef1b9a4658a5db747d0b435942f29133e0a02"
       ]
      },
      {
       "output_type": "stream",
       "stream": "stdout",
       "text": [
        "\n",
        "https://redmine.justsoftwareag.com/issues/4042.json?include=journals&key=d1aef1b9a4658a5db747d0b435942f29133e0a02"
       ]
      },
      {
       "output_type": "stream",
       "stream": "stdout",
       "text": [
        "\n",
        "https://redmine.justsoftwareag.com/issues/4040.json?include=journals&key=d1aef1b9a4658a5db747d0b435942f29133e0a02"
       ]
      },
      {
       "output_type": "stream",
       "stream": "stdout",
       "text": [
        "\n",
        "https://redmine.justsoftwareag.com/issues/4039.json?include=journals&key=d1aef1b9a4658a5db747d0b435942f29133e0a02"
       ]
      },
      {
       "output_type": "stream",
       "stream": "stdout",
       "text": [
        "\n",
        "https://redmine.justsoftwareag.com/issues/4035.json?include=journals&key=d1aef1b9a4658a5db747d0b435942f29133e0a02"
       ]
      },
      {
       "output_type": "stream",
       "stream": "stdout",
       "text": [
        "\n",
        "https://redmine.justsoftwareag.com/issues/4030.json?include=journals&key=d1aef1b9a4658a5db747d0b435942f29133e0a02"
       ]
      },
      {
       "output_type": "stream",
       "stream": "stdout",
       "text": [
        "\n",
        "https://redmine.justsoftwareag.com/issues/4019.json?include=journals&key=d1aef1b9a4658a5db747d0b435942f29133e0a02"
       ]
      },
      {
       "output_type": "stream",
       "stream": "stdout",
       "text": [
        "\n",
        "https://redmine.justsoftwareag.com/issues/4016.json?include=journals&key=d1aef1b9a4658a5db747d0b435942f29133e0a02"
       ]
      },
      {
       "output_type": "stream",
       "stream": "stdout",
       "text": [
        "\n",
        "https://redmine.justsoftwareag.com/issues/4001.json?include=journals&key=d1aef1b9a4658a5db747d0b435942f29133e0a02"
       ]
      },
      {
       "output_type": "stream",
       "stream": "stdout",
       "text": [
        "\n",
        "https://redmine.justsoftwareag.com/issues/3967.json?include=journals&key=d1aef1b9a4658a5db747d0b435942f29133e0a02"
       ]
      },
      {
       "output_type": "stream",
       "stream": "stdout",
       "text": [
        "\n",
        "https://redmine.justsoftwareag.com/issues/3957.json?include=journals&key=d1aef1b9a4658a5db747d0b435942f29133e0a02"
       ]
      },
      {
       "output_type": "stream",
       "stream": "stdout",
       "text": [
        "\n",
        "https://redmine.justsoftwareag.com/issues/3956.json?include=journals&key=d1aef1b9a4658a5db747d0b435942f29133e0a02"
       ]
      },
      {
       "output_type": "stream",
       "stream": "stdout",
       "text": [
        "\n",
        "https://redmine.justsoftwareag.com/issues/3954.json?include=journals&key=d1aef1b9a4658a5db747d0b435942f29133e0a02"
       ]
      },
      {
       "output_type": "stream",
       "stream": "stdout",
       "text": [
        "\n",
        "https://redmine.justsoftwareag.com/issues/3953.json?include=journals&key=d1aef1b9a4658a5db747d0b435942f29133e0a02"
       ]
      },
      {
       "output_type": "stream",
       "stream": "stdout",
       "text": [
        "\n",
        "https://redmine.justsoftwareag.com/issues/3947.json?include=journals&key=d1aef1b9a4658a5db747d0b435942f29133e0a02"
       ]
      },
      {
       "output_type": "stream",
       "stream": "stdout",
       "text": [
        "\n",
        "https://redmine.justsoftwareag.com/issues/3945.json?include=journals&key=d1aef1b9a4658a5db747d0b435942f29133e0a02"
       ]
      },
      {
       "output_type": "stream",
       "stream": "stdout",
       "text": [
        "\n",
        "https://redmine.justsoftwareag.com/issues/3944.json?include=journals&key=d1aef1b9a4658a5db747d0b435942f29133e0a02"
       ]
      },
      {
       "output_type": "stream",
       "stream": "stdout",
       "text": [
        "\n",
        "https://redmine.justsoftwareag.com/issues/3943.json?include=journals&key=d1aef1b9a4658a5db747d0b435942f29133e0a02"
       ]
      },
      {
       "output_type": "stream",
       "stream": "stdout",
       "text": [
        "\n",
        "https://redmine.justsoftwareag.com/issues/3939.json?include=journals&key=d1aef1b9a4658a5db747d0b435942f29133e0a02"
       ]
      },
      {
       "output_type": "stream",
       "stream": "stdout",
       "text": [
        "\n",
        "https://redmine.justsoftwareag.com/issues/3930.json?include=journals&key=d1aef1b9a4658a5db747d0b435942f29133e0a02"
       ]
      },
      {
       "output_type": "stream",
       "stream": "stdout",
       "text": [
        "\n",
        "https://redmine.justsoftwareag.com/issues/3928.json?include=journals&key=d1aef1b9a4658a5db747d0b435942f29133e0a02"
       ]
      },
      {
       "output_type": "stream",
       "stream": "stdout",
       "text": [
        "\n",
        "https://redmine.justsoftwareag.com/issues/3927.json?include=journals&key=d1aef1b9a4658a5db747d0b435942f29133e0a02"
       ]
      },
      {
       "output_type": "stream",
       "stream": "stdout",
       "text": [
        "\n",
        "https://redmine.justsoftwareag.com/issues/3924.json?include=journals&key=d1aef1b9a4658a5db747d0b435942f29133e0a02"
       ]
      },
      {
       "output_type": "stream",
       "stream": "stdout",
       "text": [
        "\n",
        "https://redmine.justsoftwareag.com/issues/3922.json?include=journals&key=d1aef1b9a4658a5db747d0b435942f29133e0a02"
       ]
      },
      {
       "output_type": "stream",
       "stream": "stdout",
       "text": [
        "\n",
        "https://redmine.justsoftwareag.com/issues/3920.json?include=journals&key=d1aef1b9a4658a5db747d0b435942f29133e0a02"
       ]
      },
      {
       "output_type": "stream",
       "stream": "stdout",
       "text": [
        "\n",
        "https://redmine.justsoftwareag.com/issues/3915.json?include=journals&key=d1aef1b9a4658a5db747d0b435942f29133e0a02"
       ]
      },
      {
       "output_type": "stream",
       "stream": "stdout",
       "text": [
        "\n",
        "https://redmine.justsoftwareag.com/issues/3914.json?include=journals&key=d1aef1b9a4658a5db747d0b435942f29133e0a02"
       ]
      },
      {
       "output_type": "stream",
       "stream": "stdout",
       "text": [
        "\n",
        "https://redmine.justsoftwareag.com/issues/3910.json?include=journals&key=d1aef1b9a4658a5db747d0b435942f29133e0a02"
       ]
      },
      {
       "output_type": "stream",
       "stream": "stdout",
       "text": [
        "\n",
        "https://redmine.justsoftwareag.com/issues/3907.json?include=journals&key=d1aef1b9a4658a5db747d0b435942f29133e0a02"
       ]
      },
      {
       "output_type": "stream",
       "stream": "stdout",
       "text": [
        "\n",
        "https://redmine.justsoftwareag.com/issues/3905.json?include=journals&key=d1aef1b9a4658a5db747d0b435942f29133e0a02"
       ]
      },
      {
       "output_type": "stream",
       "stream": "stdout",
       "text": [
        "\n",
        "https://redmine.justsoftwareag.com/issues/3903.json?include=journals&key=d1aef1b9a4658a5db747d0b435942f29133e0a02"
       ]
      },
      {
       "output_type": "stream",
       "stream": "stdout",
       "text": [
        "\n",
        "https://redmine.justsoftwareag.com/issues/3901.json?include=journals&key=d1aef1b9a4658a5db747d0b435942f29133e0a02"
       ]
      },
      {
       "output_type": "stream",
       "stream": "stdout",
       "text": [
        "\n",
        "https://redmine.justsoftwareag.com/issues/3898.json?include=journals&key=d1aef1b9a4658a5db747d0b435942f29133e0a02"
       ]
      },
      {
       "output_type": "stream",
       "stream": "stdout",
       "text": [
        "\n",
        "https://redmine.justsoftwareag.com/issues/3896.json?include=journals&key=d1aef1b9a4658a5db747d0b435942f29133e0a02"
       ]
      },
      {
       "output_type": "stream",
       "stream": "stdout",
       "text": [
        "\n",
        "https://redmine.justsoftwareag.com/issues/3894.json?include=journals&key=d1aef1b9a4658a5db747d0b435942f29133e0a02"
       ]
      },
      {
       "output_type": "stream",
       "stream": "stdout",
       "text": [
        "\n",
        "https://redmine.justsoftwareag.com/issues/3890.json?include=journals&key=d1aef1b9a4658a5db747d0b435942f29133e0a02"
       ]
      },
      {
       "output_type": "stream",
       "stream": "stdout",
       "text": [
        "\n",
        "https://redmine.justsoftwareag.com/issues/3888.json?include=journals&key=d1aef1b9a4658a5db747d0b435942f29133e0a02"
       ]
      },
      {
       "output_type": "stream",
       "stream": "stdout",
       "text": [
        "\n",
        "https://redmine.justsoftwareag.com/issues/3887.json?include=journals&key=d1aef1b9a4658a5db747d0b435942f29133e0a02"
       ]
      },
      {
       "output_type": "stream",
       "stream": "stdout",
       "text": [
        "\n",
        "https://redmine.justsoftwareag.com/issues/3886.json?include=journals&key=d1aef1b9a4658a5db747d0b435942f29133e0a02"
       ]
      },
      {
       "output_type": "stream",
       "stream": "stdout",
       "text": [
        "\n",
        "https://redmine.justsoftwareag.com/issues/3884.json?include=journals&key=d1aef1b9a4658a5db747d0b435942f29133e0a02"
       ]
      },
      {
       "output_type": "stream",
       "stream": "stdout",
       "text": [
        "\n",
        "https://redmine.justsoftwareag.com/issues/3883.json?include=journals&key=d1aef1b9a4658a5db747d0b435942f29133e0a02"
       ]
      },
      {
       "output_type": "stream",
       "stream": "stdout",
       "text": [
        "\n",
        "https://redmine.justsoftwareag.com/issues/3882.json?include=journals&key=d1aef1b9a4658a5db747d0b435942f29133e0a02"
       ]
      },
      {
       "output_type": "stream",
       "stream": "stdout",
       "text": [
        "\n",
        "https://redmine.justsoftwareag.com/issues/3874.json?include=journals&key=d1aef1b9a4658a5db747d0b435942f29133e0a02"
       ]
      },
      {
       "output_type": "stream",
       "stream": "stdout",
       "text": [
        "\n",
        "https://redmine.justsoftwareag.com/issues/3871.json?include=journals&key=d1aef1b9a4658a5db747d0b435942f29133e0a02"
       ]
      },
      {
       "output_type": "stream",
       "stream": "stdout",
       "text": [
        "\n",
        "https://redmine.justsoftwareag.com/issues/3865.json?include=journals&key=d1aef1b9a4658a5db747d0b435942f29133e0a02"
       ]
      },
      {
       "output_type": "stream",
       "stream": "stdout",
       "text": [
        "\n",
        "https://redmine.justsoftwareag.com/issues/3859.json?include=journals&key=d1aef1b9a4658a5db747d0b435942f29133e0a02"
       ]
      },
      {
       "output_type": "stream",
       "stream": "stdout",
       "text": [
        "\n",
        "https://redmine.justsoftwareag.com/issues/3858.json?include=journals&key=d1aef1b9a4658a5db747d0b435942f29133e0a02"
       ]
      },
      {
       "output_type": "stream",
       "stream": "stdout",
       "text": [
        "\n",
        "https://redmine.justsoftwareag.com/issues/3857.json?include=journals&key=d1aef1b9a4658a5db747d0b435942f29133e0a02"
       ]
      },
      {
       "output_type": "stream",
       "stream": "stdout",
       "text": [
        "\n",
        "https://redmine.justsoftwareag.com/issues/3855.json?include=journals&key=d1aef1b9a4658a5db747d0b435942f29133e0a02"
       ]
      },
      {
       "output_type": "stream",
       "stream": "stdout",
       "text": [
        "\n",
        "https://redmine.justsoftwareag.com/issues/3828.json?include=journals&key=d1aef1b9a4658a5db747d0b435942f29133e0a02"
       ]
      },
      {
       "output_type": "stream",
       "stream": "stdout",
       "text": [
        "\n",
        "https://redmine.justsoftwareag.com/issues/3823.json?include=journals&key=d1aef1b9a4658a5db747d0b435942f29133e0a02"
       ]
      },
      {
       "output_type": "stream",
       "stream": "stdout",
       "text": [
        "\n",
        "https://redmine.justsoftwareag.com/issues/3816.json?include=journals&key=d1aef1b9a4658a5db747d0b435942f29133e0a02"
       ]
      },
      {
       "output_type": "stream",
       "stream": "stdout",
       "text": [
        "\n",
        "https://redmine.justsoftwareag.com/issues/3811.json?include=journals&key=d1aef1b9a4658a5db747d0b435942f29133e0a02"
       ]
      },
      {
       "output_type": "stream",
       "stream": "stdout",
       "text": [
        "\n",
        "https://redmine.justsoftwareag.com/issues/3810.json?include=journals&key=d1aef1b9a4658a5db747d0b435942f29133e0a02"
       ]
      },
      {
       "output_type": "stream",
       "stream": "stdout",
       "text": [
        "\n",
        "https://redmine.justsoftwareag.com/issues/3805.json?include=journals&key=d1aef1b9a4658a5db747d0b435942f29133e0a02"
       ]
      },
      {
       "output_type": "stream",
       "stream": "stdout",
       "text": [
        "\n",
        "https://redmine.justsoftwareag.com/issues/3794.json?include=journals&key=d1aef1b9a4658a5db747d0b435942f29133e0a02"
       ]
      },
      {
       "output_type": "stream",
       "stream": "stdout",
       "text": [
        "\n",
        "https://redmine.justsoftwareag.com/issues/3793.json?include=journals&key=d1aef1b9a4658a5db747d0b435942f29133e0a02"
       ]
      },
      {
       "output_type": "stream",
       "stream": "stdout",
       "text": [
        "\n",
        "https://redmine.justsoftwareag.com/issues/3776.json?include=journals&key=d1aef1b9a4658a5db747d0b435942f29133e0a02"
       ]
      },
      {
       "output_type": "stream",
       "stream": "stdout",
       "text": [
        "\n",
        "https://redmine.justsoftwareag.com/issues/3772.json?include=journals&key=d1aef1b9a4658a5db747d0b435942f29133e0a02"
       ]
      },
      {
       "output_type": "stream",
       "stream": "stdout",
       "text": [
        "\n",
        "https://redmine.justsoftwareag.com/issues/3770.json?include=journals&key=d1aef1b9a4658a5db747d0b435942f29133e0a02"
       ]
      },
      {
       "output_type": "stream",
       "stream": "stdout",
       "text": [
        "\n",
        "https://redmine.justsoftwareag.com/issues/3769.json?include=journals&key=d1aef1b9a4658a5db747d0b435942f29133e0a02"
       ]
      },
      {
       "output_type": "stream",
       "stream": "stdout",
       "text": [
        "\n",
        "https://redmine.justsoftwareag.com/issues/3768.json?include=journals&key=d1aef1b9a4658a5db747d0b435942f29133e0a02"
       ]
      },
      {
       "output_type": "stream",
       "stream": "stdout",
       "text": [
        "\n",
        "https://redmine.justsoftwareag.com/issues/3753.json?include=journals&key=d1aef1b9a4658a5db747d0b435942f29133e0a02"
       ]
      },
      {
       "output_type": "stream",
       "stream": "stdout",
       "text": [
        "\n",
        "https://redmine.justsoftwareag.com/issues/3748.json?include=journals&key=d1aef1b9a4658a5db747d0b435942f29133e0a02"
       ]
      },
      {
       "output_type": "stream",
       "stream": "stdout",
       "text": [
        "\n",
        "https://redmine.justsoftwareag.com/issues/3747.json?include=journals&key=d1aef1b9a4658a5db747d0b435942f29133e0a02"
       ]
      },
      {
       "output_type": "stream",
       "stream": "stdout",
       "text": [
        "\n",
        "https://redmine.justsoftwareag.com/issues/3743.json?include=journals&key=d1aef1b9a4658a5db747d0b435942f29133e0a02"
       ]
      },
      {
       "output_type": "stream",
       "stream": "stdout",
       "text": [
        "\n",
        "https://redmine.justsoftwareag.com/issues/3729.json?include=journals&key=d1aef1b9a4658a5db747d0b435942f29133e0a02"
       ]
      },
      {
       "output_type": "stream",
       "stream": "stdout",
       "text": [
        "\n",
        "https://redmine.justsoftwareag.com/issues/3726.json?include=journals&key=d1aef1b9a4658a5db747d0b435942f29133e0a02"
       ]
      },
      {
       "output_type": "stream",
       "stream": "stdout",
       "text": [
        "\n",
        "https://redmine.justsoftwareag.com/issues/3721.json?include=journals&key=d1aef1b9a4658a5db747d0b435942f29133e0a02"
       ]
      },
      {
       "output_type": "stream",
       "stream": "stdout",
       "text": [
        "\n",
        "https://redmine.justsoftwareag.com/issues/3707.json?include=journals&key=d1aef1b9a4658a5db747d0b435942f29133e0a02"
       ]
      },
      {
       "output_type": "stream",
       "stream": "stdout",
       "text": [
        "\n",
        "https://redmine.justsoftwareag.com/issues/3699.json?include=journals&key=d1aef1b9a4658a5db747d0b435942f29133e0a02"
       ]
      },
      {
       "output_type": "stream",
       "stream": "stdout",
       "text": [
        "\n",
        "https://redmine.justsoftwareag.com/issues/3698.json?include=journals&key=d1aef1b9a4658a5db747d0b435942f29133e0a02"
       ]
      },
      {
       "output_type": "stream",
       "stream": "stdout",
       "text": [
        "\n",
        "https://redmine.justsoftwareag.com/issues/3697.json?include=journals&key=d1aef1b9a4658a5db747d0b435942f29133e0a02"
       ]
      },
      {
       "output_type": "stream",
       "stream": "stdout",
       "text": [
        "\n",
        "https://redmine.justsoftwareag.com/issues/3696.json?include=journals&key=d1aef1b9a4658a5db747d0b435942f29133e0a02"
       ]
      },
      {
       "output_type": "stream",
       "stream": "stdout",
       "text": [
        "\n",
        "https://redmine.justsoftwareag.com/issues/3695.json?include=journals&key=d1aef1b9a4658a5db747d0b435942f29133e0a02"
       ]
      },
      {
       "output_type": "stream",
       "stream": "stdout",
       "text": [
        "\n",
        "https://redmine.justsoftwareag.com/issues/3694.json?include=journals&key=d1aef1b9a4658a5db747d0b435942f29133e0a02"
       ]
      },
      {
       "output_type": "stream",
       "stream": "stdout",
       "text": [
        "\n",
        "https://redmine.justsoftwareag.com/issues/3693.json?include=journals&key=d1aef1b9a4658a5db747d0b435942f29133e0a02"
       ]
      },
      {
       "output_type": "stream",
       "stream": "stdout",
       "text": [
        "\n",
        "https://redmine.justsoftwareag.com/issues/3692.json?include=journals&key=d1aef1b9a4658a5db747d0b435942f29133e0a02"
       ]
      },
      {
       "output_type": "stream",
       "stream": "stdout",
       "text": [
        "\n",
        "https://redmine.justsoftwareag.com/issues/3691.json?include=journals&key=d1aef1b9a4658a5db747d0b435942f29133e0a02"
       ]
      },
      {
       "output_type": "stream",
       "stream": "stdout",
       "text": [
        "\n",
        "https://redmine.justsoftwareag.com/issues/3684.json?include=journals&key=d1aef1b9a4658a5db747d0b435942f29133e0a02"
       ]
      },
      {
       "output_type": "stream",
       "stream": "stdout",
       "text": [
        "\n",
        "https://redmine.justsoftwareag.com/issues/3682.json?include=journals&key=d1aef1b9a4658a5db747d0b435942f29133e0a02"
       ]
      },
      {
       "output_type": "stream",
       "stream": "stdout",
       "text": [
        "\n",
        "https://redmine.justsoftwareag.com/issues/3680.json?include=journals&key=d1aef1b9a4658a5db747d0b435942f29133e0a02"
       ]
      },
      {
       "output_type": "stream",
       "stream": "stdout",
       "text": [
        "\n",
        "https://redmine.justsoftwareag.com/issues/3679.json?include=journals&key=d1aef1b9a4658a5db747d0b435942f29133e0a02"
       ]
      },
      {
       "output_type": "stream",
       "stream": "stdout",
       "text": [
        "\n",
        "https://redmine.justsoftwareag.com/issues/3678.json?include=journals&key=d1aef1b9a4658a5db747d0b435942f29133e0a02"
       ]
      },
      {
       "output_type": "stream",
       "stream": "stdout",
       "text": [
        "\n",
        "https://redmine.justsoftwareag.com/issues/3677.json?include=journals&key=d1aef1b9a4658a5db747d0b435942f29133e0a02"
       ]
      },
      {
       "output_type": "stream",
       "stream": "stdout",
       "text": [
        "\n",
        "https://redmine.justsoftwareag.com/issues/3675.json?include=journals&key=d1aef1b9a4658a5db747d0b435942f29133e0a02"
       ]
      },
      {
       "output_type": "stream",
       "stream": "stdout",
       "text": [
        "\n",
        "https://redmine.justsoftwareag.com/issues/3672.json?include=journals&key=d1aef1b9a4658a5db747d0b435942f29133e0a02"
       ]
      },
      {
       "output_type": "stream",
       "stream": "stdout",
       "text": [
        "\n",
        "https://redmine.justsoftwareag.com/issues/3668.json?include=journals&key=d1aef1b9a4658a5db747d0b435942f29133e0a02"
       ]
      },
      {
       "output_type": "stream",
       "stream": "stdout",
       "text": [
        "\n",
        "https://redmine.justsoftwareag.com/issues/3667.json?include=journals&key=d1aef1b9a4658a5db747d0b435942f29133e0a02"
       ]
      },
      {
       "output_type": "stream",
       "stream": "stdout",
       "text": [
        "\n",
        "https://redmine.justsoftwareag.com/issues/3666.json?include=journals&key=d1aef1b9a4658a5db747d0b435942f29133e0a02"
       ]
      },
      {
       "output_type": "stream",
       "stream": "stdout",
       "text": [
        "\n",
        "https://redmine.justsoftwareag.com/issues/3664.json?include=journals&key=d1aef1b9a4658a5db747d0b435942f29133e0a02"
       ]
      },
      {
       "output_type": "stream",
       "stream": "stdout",
       "text": [
        "\n",
        "https://redmine.justsoftwareag.com/issues/3660.json?include=journals&key=d1aef1b9a4658a5db747d0b435942f29133e0a02"
       ]
      },
      {
       "output_type": "stream",
       "stream": "stdout",
       "text": [
        "\n",
        "https://redmine.justsoftwareag.com/issues/3659.json?include=journals&key=d1aef1b9a4658a5db747d0b435942f29133e0a02"
       ]
      },
      {
       "output_type": "stream",
       "stream": "stdout",
       "text": [
        "\n",
        "https://redmine.justsoftwareag.com/issues/3656.json?include=journals&key=d1aef1b9a4658a5db747d0b435942f29133e0a02"
       ]
      },
      {
       "output_type": "stream",
       "stream": "stdout",
       "text": [
        "\n",
        "https://redmine.justsoftwareag.com/issues/3643.json?include=journals&key=d1aef1b9a4658a5db747d0b435942f29133e0a02"
       ]
      },
      {
       "output_type": "stream",
       "stream": "stdout",
       "text": [
        "\n",
        "https://redmine.justsoftwareag.com/issues/3641.json?include=journals&key=d1aef1b9a4658a5db747d0b435942f29133e0a02"
       ]
      },
      {
       "output_type": "stream",
       "stream": "stdout",
       "text": [
        "\n",
        "https://redmine.justsoftwareag.com/issues/3598.json?include=journals&key=d1aef1b9a4658a5db747d0b435942f29133e0a02"
       ]
      },
      {
       "output_type": "stream",
       "stream": "stdout",
       "text": [
        "\n",
        "https://redmine.justsoftwareag.com/issues/3594.json?include=journals&key=d1aef1b9a4658a5db747d0b435942f29133e0a02"
       ]
      },
      {
       "output_type": "stream",
       "stream": "stdout",
       "text": [
        "\n",
        "https://redmine.justsoftwareag.com/issues/3550.json?include=journals&key=d1aef1b9a4658a5db747d0b435942f29133e0a02"
       ]
      },
      {
       "output_type": "stream",
       "stream": "stdout",
       "text": [
        "\n",
        "https://redmine.justsoftwareag.com/issues/3548.json?include=journals&key=d1aef1b9a4658a5db747d0b435942f29133e0a02"
       ]
      },
      {
       "output_type": "stream",
       "stream": "stdout",
       "text": [
        "\n",
        "https://redmine.justsoftwareag.com/issues/3547.json?include=journals&key=d1aef1b9a4658a5db747d0b435942f29133e0a02"
       ]
      },
      {
       "output_type": "stream",
       "stream": "stdout",
       "text": [
        "\n",
        "https://redmine.justsoftwareag.com/issues/3538.json?include=journals&key=d1aef1b9a4658a5db747d0b435942f29133e0a02"
       ]
      },
      {
       "output_type": "stream",
       "stream": "stdout",
       "text": [
        "\n",
        "https://redmine.justsoftwareag.com/issues/3537.json?include=journals&key=d1aef1b9a4658a5db747d0b435942f29133e0a02"
       ]
      },
      {
       "output_type": "stream",
       "stream": "stdout",
       "text": [
        "\n",
        "https://redmine.justsoftwareag.com/issues/3536.json?include=journals&key=d1aef1b9a4658a5db747d0b435942f29133e0a02"
       ]
      },
      {
       "output_type": "stream",
       "stream": "stdout",
       "text": [
        "\n",
        "https://redmine.justsoftwareag.com/issues/3534.json?include=journals&key=d1aef1b9a4658a5db747d0b435942f29133e0a02"
       ]
      },
      {
       "output_type": "stream",
       "stream": "stdout",
       "text": [
        "\n",
        "https://redmine.justsoftwareag.com/issues/3533.json?include=journals&key=d1aef1b9a4658a5db747d0b435942f29133e0a02"
       ]
      },
      {
       "output_type": "stream",
       "stream": "stdout",
       "text": [
        "\n",
        "https://redmine.justsoftwareag.com/issues/3516.json?include=journals&key=d1aef1b9a4658a5db747d0b435942f29133e0a02"
       ]
      },
      {
       "output_type": "stream",
       "stream": "stdout",
       "text": [
        "\n",
        "https://redmine.justsoftwareag.com/issues/3515.json?include=journals&key=d1aef1b9a4658a5db747d0b435942f29133e0a02"
       ]
      },
      {
       "output_type": "stream",
       "stream": "stdout",
       "text": [
        "\n",
        "https://redmine.justsoftwareag.com/issues/3514.json?include=journals&key=d1aef1b9a4658a5db747d0b435942f29133e0a02"
       ]
      },
      {
       "output_type": "stream",
       "stream": "stdout",
       "text": [
        "\n",
        "https://redmine.justsoftwareag.com/issues/3489.json?include=journals&key=d1aef1b9a4658a5db747d0b435942f29133e0a02"
       ]
      },
      {
       "output_type": "stream",
       "stream": "stdout",
       "text": [
        "\n",
        "https://redmine.justsoftwareag.com/issues/3488.json?include=journals&key=d1aef1b9a4658a5db747d0b435942f29133e0a02"
       ]
      },
      {
       "output_type": "stream",
       "stream": "stdout",
       "text": [
        "\n",
        "https://redmine.justsoftwareag.com/issues/3485.json?include=journals&key=d1aef1b9a4658a5db747d0b435942f29133e0a02"
       ]
      },
      {
       "output_type": "stream",
       "stream": "stdout",
       "text": [
        "\n",
        "https://redmine.justsoftwareag.com/issues/3452.json?include=journals&key=d1aef1b9a4658a5db747d0b435942f29133e0a02"
       ]
      },
      {
       "output_type": "stream",
       "stream": "stdout",
       "text": [
        "\n",
        "https://redmine.justsoftwareag.com/issues/3451.json?include=journals&key=d1aef1b9a4658a5db747d0b435942f29133e0a02"
       ]
      },
      {
       "output_type": "stream",
       "stream": "stdout",
       "text": [
        "\n",
        "https://redmine.justsoftwareag.com/issues/3450.json?include=journals&key=d1aef1b9a4658a5db747d0b435942f29133e0a02"
       ]
      },
      {
       "output_type": "stream",
       "stream": "stdout",
       "text": [
        "\n",
        "https://redmine.justsoftwareag.com/issues/3446.json?include=journals&key=d1aef1b9a4658a5db747d0b435942f29133e0a02"
       ]
      },
      {
       "output_type": "stream",
       "stream": "stdout",
       "text": [
        "\n",
        "https://redmine.justsoftwareag.com/issues/3445.json?include=journals&key=d1aef1b9a4658a5db747d0b435942f29133e0a02"
       ]
      },
      {
       "output_type": "stream",
       "stream": "stdout",
       "text": [
        "\n",
        "https://redmine.justsoftwareag.com/issues/3444.json?include=journals&key=d1aef1b9a4658a5db747d0b435942f29133e0a02"
       ]
      },
      {
       "output_type": "stream",
       "stream": "stdout",
       "text": [
        "\n",
        "https://redmine.justsoftwareag.com/issues/3437.json?include=journals&key=d1aef1b9a4658a5db747d0b435942f29133e0a02"
       ]
      },
      {
       "output_type": "stream",
       "stream": "stdout",
       "text": [
        "\n",
        "https://redmine.justsoftwareag.com/issues/3436.json?include=journals&key=d1aef1b9a4658a5db747d0b435942f29133e0a02"
       ]
      },
      {
       "output_type": "stream",
       "stream": "stdout",
       "text": [
        "\n",
        "https://redmine.justsoftwareag.com/issues/3434.json?include=journals&key=d1aef1b9a4658a5db747d0b435942f29133e0a02"
       ]
      },
      {
       "output_type": "stream",
       "stream": "stdout",
       "text": [
        "\n",
        "https://redmine.justsoftwareag.com/issues/3427.json?include=journals&key=d1aef1b9a4658a5db747d0b435942f29133e0a02"
       ]
      },
      {
       "output_type": "stream",
       "stream": "stdout",
       "text": [
        "\n",
        "https://redmine.justsoftwareag.com/issues/3426.json?include=journals&key=d1aef1b9a4658a5db747d0b435942f29133e0a02"
       ]
      },
      {
       "output_type": "stream",
       "stream": "stdout",
       "text": [
        "\n",
        "https://redmine.justsoftwareag.com/issues/3414.json?include=journals&key=d1aef1b9a4658a5db747d0b435942f29133e0a02"
       ]
      },
      {
       "output_type": "stream",
       "stream": "stdout",
       "text": [
        "\n",
        "https://redmine.justsoftwareag.com/issues/3404.json?include=journals&key=d1aef1b9a4658a5db747d0b435942f29133e0a02"
       ]
      },
      {
       "output_type": "stream",
       "stream": "stdout",
       "text": [
        "\n",
        "https://redmine.justsoftwareag.com/issues/3401.json?include=journals&key=d1aef1b9a4658a5db747d0b435942f29133e0a02"
       ]
      },
      {
       "output_type": "stream",
       "stream": "stdout",
       "text": [
        "\n",
        "https://redmine.justsoftwareag.com/issues/3397.json?include=journals&key=d1aef1b9a4658a5db747d0b435942f29133e0a02"
       ]
      },
      {
       "output_type": "stream",
       "stream": "stdout",
       "text": [
        "\n",
        "https://redmine.justsoftwareag.com/issues/3396.json?include=journals&key=d1aef1b9a4658a5db747d0b435942f29133e0a02"
       ]
      },
      {
       "output_type": "stream",
       "stream": "stdout",
       "text": [
        "\n",
        "https://redmine.justsoftwareag.com/issues/3394.json?include=journals&key=d1aef1b9a4658a5db747d0b435942f29133e0a02"
       ]
      },
      {
       "output_type": "stream",
       "stream": "stdout",
       "text": [
        "\n",
        "https://redmine.justsoftwareag.com/issues/3390.json?include=journals&key=d1aef1b9a4658a5db747d0b435942f29133e0a02"
       ]
      },
      {
       "output_type": "stream",
       "stream": "stdout",
       "text": [
        "\n",
        "https://redmine.justsoftwareag.com/issues/3362.json?include=journals&key=d1aef1b9a4658a5db747d0b435942f29133e0a02"
       ]
      },
      {
       "output_type": "stream",
       "stream": "stdout",
       "text": [
        "\n",
        "https://redmine.justsoftwareag.com/issues/3360.json?include=journals&key=d1aef1b9a4658a5db747d0b435942f29133e0a02"
       ]
      },
      {
       "output_type": "stream",
       "stream": "stdout",
       "text": [
        "\n",
        "https://redmine.justsoftwareag.com/issues/3358.json?include=journals&key=d1aef1b9a4658a5db747d0b435942f29133e0a02"
       ]
      },
      {
       "output_type": "stream",
       "stream": "stdout",
       "text": [
        "\n",
        "https://redmine.justsoftwareag.com/issues/3348.json?include=journals&key=d1aef1b9a4658a5db747d0b435942f29133e0a02"
       ]
      },
      {
       "output_type": "stream",
       "stream": "stdout",
       "text": [
        "\n",
        "https://redmine.justsoftwareag.com/issues/3339.json?include=journals&key=d1aef1b9a4658a5db747d0b435942f29133e0a02"
       ]
      },
      {
       "output_type": "stream",
       "stream": "stdout",
       "text": [
        "\n",
        "https://redmine.justsoftwareag.com/issues/3338.json?include=journals&key=d1aef1b9a4658a5db747d0b435942f29133e0a02"
       ]
      },
      {
       "output_type": "stream",
       "stream": "stdout",
       "text": [
        "\n",
        "https://redmine.justsoftwareag.com/issues/3337.json?include=journals&key=d1aef1b9a4658a5db747d0b435942f29133e0a02"
       ]
      },
      {
       "output_type": "stream",
       "stream": "stdout",
       "text": [
        "\n",
        "https://redmine.justsoftwareag.com/issues/3333.json?include=journals&key=d1aef1b9a4658a5db747d0b435942f29133e0a02"
       ]
      },
      {
       "output_type": "stream",
       "stream": "stdout",
       "text": [
        "\n",
        "https://redmine.justsoftwareag.com/issues/3332.json?include=journals&key=d1aef1b9a4658a5db747d0b435942f29133e0a02"
       ]
      },
      {
       "output_type": "stream",
       "stream": "stdout",
       "text": [
        "\n",
        "https://redmine.justsoftwareag.com/issues/3330.json?include=journals&key=d1aef1b9a4658a5db747d0b435942f29133e0a02"
       ]
      },
      {
       "output_type": "stream",
       "stream": "stdout",
       "text": [
        "\n",
        "https://redmine.justsoftwareag.com/issues/3320.json?include=journals&key=d1aef1b9a4658a5db747d0b435942f29133e0a02"
       ]
      },
      {
       "output_type": "stream",
       "stream": "stdout",
       "text": [
        "\n",
        "https://redmine.justsoftwareag.com/issues/3313.json?include=journals&key=d1aef1b9a4658a5db747d0b435942f29133e0a02"
       ]
      },
      {
       "output_type": "stream",
       "stream": "stdout",
       "text": [
        "\n",
        "https://redmine.justsoftwareag.com/issues/3301.json?include=journals&key=d1aef1b9a4658a5db747d0b435942f29133e0a02"
       ]
      },
      {
       "output_type": "stream",
       "stream": "stdout",
       "text": [
        "\n",
        "https://redmine.justsoftwareag.com/issues/3298.json?include=journals&key=d1aef1b9a4658a5db747d0b435942f29133e0a02"
       ]
      },
      {
       "output_type": "stream",
       "stream": "stdout",
       "text": [
        "\n",
        "https://redmine.justsoftwareag.com/issues/3297.json?include=journals&key=d1aef1b9a4658a5db747d0b435942f29133e0a02"
       ]
      },
      {
       "output_type": "stream",
       "stream": "stdout",
       "text": [
        "\n",
        "https://redmine.justsoftwareag.com/issues/3295.json?include=journals&key=d1aef1b9a4658a5db747d0b435942f29133e0a02"
       ]
      },
      {
       "output_type": "stream",
       "stream": "stdout",
       "text": [
        "\n",
        "https://redmine.justsoftwareag.com/issues/3294.json?include=journals&key=d1aef1b9a4658a5db747d0b435942f29133e0a02"
       ]
      },
      {
       "output_type": "stream",
       "stream": "stdout",
       "text": [
        "\n",
        "https://redmine.justsoftwareag.com/issues/3291.json?include=journals&key=d1aef1b9a4658a5db747d0b435942f29133e0a02"
       ]
      },
      {
       "output_type": "stream",
       "stream": "stdout",
       "text": [
        "\n",
        "https://redmine.justsoftwareag.com/issues/3289.json?include=journals&key=d1aef1b9a4658a5db747d0b435942f29133e0a02"
       ]
      },
      {
       "output_type": "stream",
       "stream": "stdout",
       "text": [
        "\n",
        "https://redmine.justsoftwareag.com/issues/3288.json?include=journals&key=d1aef1b9a4658a5db747d0b435942f29133e0a02"
       ]
      },
      {
       "output_type": "stream",
       "stream": "stdout",
       "text": [
        "\n",
        "https://redmine.justsoftwareag.com/issues/3286.json?include=journals&key=d1aef1b9a4658a5db747d0b435942f29133e0a02"
       ]
      },
      {
       "output_type": "stream",
       "stream": "stdout",
       "text": [
        "\n",
        "https://redmine.justsoftwareag.com/issues/3285.json?include=journals&key=d1aef1b9a4658a5db747d0b435942f29133e0a02"
       ]
      },
      {
       "output_type": "stream",
       "stream": "stdout",
       "text": [
        "\n",
        "https://redmine.justsoftwareag.com/issues/3284.json?include=journals&key=d1aef1b9a4658a5db747d0b435942f29133e0a02"
       ]
      },
      {
       "output_type": "stream",
       "stream": "stdout",
       "text": [
        "\n",
        "https://redmine.justsoftwareag.com/issues/3283.json?include=journals&key=d1aef1b9a4658a5db747d0b435942f29133e0a02"
       ]
      },
      {
       "output_type": "stream",
       "stream": "stdout",
       "text": [
        "\n",
        "https://redmine.justsoftwareag.com/issues/3279.json?include=journals&key=d1aef1b9a4658a5db747d0b435942f29133e0a02"
       ]
      },
      {
       "output_type": "stream",
       "stream": "stdout",
       "text": [
        "\n",
        "https://redmine.justsoftwareag.com/issues/3278.json?include=journals&key=d1aef1b9a4658a5db747d0b435942f29133e0a02"
       ]
      },
      {
       "output_type": "stream",
       "stream": "stdout",
       "text": [
        "\n",
        "https://redmine.justsoftwareag.com/issues/3277.json?include=journals&key=d1aef1b9a4658a5db747d0b435942f29133e0a02"
       ]
      },
      {
       "output_type": "stream",
       "stream": "stdout",
       "text": [
        "\n",
        "https://redmine.justsoftwareag.com/issues/3274.json?include=journals&key=d1aef1b9a4658a5db747d0b435942f29133e0a02"
       ]
      },
      {
       "output_type": "stream",
       "stream": "stdout",
       "text": [
        "\n",
        "https://redmine.justsoftwareag.com/issues/3273.json?include=journals&key=d1aef1b9a4658a5db747d0b435942f29133e0a02"
       ]
      },
      {
       "output_type": "stream",
       "stream": "stdout",
       "text": [
        "\n",
        "https://redmine.justsoftwareag.com/issues/3270.json?include=journals&key=d1aef1b9a4658a5db747d0b435942f29133e0a02"
       ]
      },
      {
       "output_type": "stream",
       "stream": "stdout",
       "text": [
        "\n",
        "https://redmine.justsoftwareag.com/issues/3269.json?include=journals&key=d1aef1b9a4658a5db747d0b435942f29133e0a02"
       ]
      },
      {
       "output_type": "stream",
       "stream": "stdout",
       "text": [
        "\n",
        "https://redmine.justsoftwareag.com/issues/3268.json?include=journals&key=d1aef1b9a4658a5db747d0b435942f29133e0a02"
       ]
      },
      {
       "output_type": "stream",
       "stream": "stdout",
       "text": [
        "\n",
        "https://redmine.justsoftwareag.com/issues/3265.json?include=journals&key=d1aef1b9a4658a5db747d0b435942f29133e0a02"
       ]
      },
      {
       "output_type": "stream",
       "stream": "stdout",
       "text": [
        "\n",
        "https://redmine.justsoftwareag.com/issues/3264.json?include=journals&key=d1aef1b9a4658a5db747d0b435942f29133e0a02"
       ]
      },
      {
       "output_type": "stream",
       "stream": "stdout",
       "text": [
        "\n",
        "https://redmine.justsoftwareag.com/issues/3263.json?include=journals&key=d1aef1b9a4658a5db747d0b435942f29133e0a02"
       ]
      },
      {
       "output_type": "stream",
       "stream": "stdout",
       "text": [
        "\n",
        "https://redmine.justsoftwareag.com/issues/3262.json?include=journals&key=d1aef1b9a4658a5db747d0b435942f29133e0a02"
       ]
      },
      {
       "output_type": "stream",
       "stream": "stdout",
       "text": [
        "\n",
        "https://redmine.justsoftwareag.com/issues/3243.json?include=journals&key=d1aef1b9a4658a5db747d0b435942f29133e0a02"
       ]
      },
      {
       "output_type": "stream",
       "stream": "stdout",
       "text": [
        "\n",
        "https://redmine.justsoftwareag.com/issues/3242.json?include=journals&key=d1aef1b9a4658a5db747d0b435942f29133e0a02"
       ]
      },
      {
       "output_type": "stream",
       "stream": "stdout",
       "text": [
        "\n",
        "https://redmine.justsoftwareag.com/issues/3238.json?include=journals&key=d1aef1b9a4658a5db747d0b435942f29133e0a02"
       ]
      },
      {
       "output_type": "stream",
       "stream": "stdout",
       "text": [
        "\n",
        "https://redmine.justsoftwareag.com/issues/3237.json?include=journals&key=d1aef1b9a4658a5db747d0b435942f29133e0a02"
       ]
      },
      {
       "output_type": "stream",
       "stream": "stdout",
       "text": [
        "\n",
        "https://redmine.justsoftwareag.com/issues/3236.json?include=journals&key=d1aef1b9a4658a5db747d0b435942f29133e0a02"
       ]
      },
      {
       "output_type": "stream",
       "stream": "stdout",
       "text": [
        "\n",
        "https://redmine.justsoftwareag.com/issues/3233.json?include=journals&key=d1aef1b9a4658a5db747d0b435942f29133e0a02"
       ]
      },
      {
       "output_type": "stream",
       "stream": "stdout",
       "text": [
        "\n",
        "https://redmine.justsoftwareag.com/issues/3229.json?include=journals&key=d1aef1b9a4658a5db747d0b435942f29133e0a02"
       ]
      },
      {
       "output_type": "stream",
       "stream": "stdout",
       "text": [
        "\n",
        "https://redmine.justsoftwareag.com/issues/3228.json?include=journals&key=d1aef1b9a4658a5db747d0b435942f29133e0a02"
       ]
      },
      {
       "output_type": "stream",
       "stream": "stdout",
       "text": [
        "\n",
        "https://redmine.justsoftwareag.com/issues/3226.json?include=journals&key=d1aef1b9a4658a5db747d0b435942f29133e0a02"
       ]
      },
      {
       "output_type": "stream",
       "stream": "stdout",
       "text": [
        "\n",
        "https://redmine.justsoftwareag.com/issues/3221.json?include=journals&key=d1aef1b9a4658a5db747d0b435942f29133e0a02"
       ]
      },
      {
       "output_type": "stream",
       "stream": "stdout",
       "text": [
        "\n",
        "https://redmine.justsoftwareag.com/issues/3220.json?include=journals&key=d1aef1b9a4658a5db747d0b435942f29133e0a02"
       ]
      },
      {
       "output_type": "stream",
       "stream": "stdout",
       "text": [
        "\n",
        "https://redmine.justsoftwareag.com/issues/3219.json?include=journals&key=d1aef1b9a4658a5db747d0b435942f29133e0a02"
       ]
      },
      {
       "output_type": "stream",
       "stream": "stdout",
       "text": [
        "\n",
        "https://redmine.justsoftwareag.com/issues/3218.json?include=journals&key=d1aef1b9a4658a5db747d0b435942f29133e0a02"
       ]
      },
      {
       "output_type": "stream",
       "stream": "stdout",
       "text": [
        "\n",
        "https://redmine.justsoftwareag.com/issues/3217.json?include=journals&key=d1aef1b9a4658a5db747d0b435942f29133e0a02"
       ]
      },
      {
       "output_type": "stream",
       "stream": "stdout",
       "text": [
        "\n",
        "https://redmine.justsoftwareag.com/issues/3216.json?include=journals&key=d1aef1b9a4658a5db747d0b435942f29133e0a02"
       ]
      },
      {
       "output_type": "stream",
       "stream": "stdout",
       "text": [
        "\n",
        "https://redmine.justsoftwareag.com/issues/3214.json?include=journals&key=d1aef1b9a4658a5db747d0b435942f29133e0a02"
       ]
      },
      {
       "output_type": "stream",
       "stream": "stdout",
       "text": [
        "\n",
        "https://redmine.justsoftwareag.com/issues/3211.json?include=journals&key=d1aef1b9a4658a5db747d0b435942f29133e0a02"
       ]
      },
      {
       "output_type": "stream",
       "stream": "stdout",
       "text": [
        "\n",
        "https://redmine.justsoftwareag.com/issues/3210.json?include=journals&key=d1aef1b9a4658a5db747d0b435942f29133e0a02"
       ]
      },
      {
       "output_type": "stream",
       "stream": "stdout",
       "text": [
        "\n",
        "https://redmine.justsoftwareag.com/issues/3206.json?include=journals&key=d1aef1b9a4658a5db747d0b435942f29133e0a02"
       ]
      },
      {
       "output_type": "stream",
       "stream": "stdout",
       "text": [
        "\n",
        "https://redmine.justsoftwareag.com/issues/3204.json?include=journals&key=d1aef1b9a4658a5db747d0b435942f29133e0a02"
       ]
      },
      {
       "output_type": "stream",
       "stream": "stdout",
       "text": [
        "\n",
        "https://redmine.justsoftwareag.com/issues/3127.json?include=journals&key=d1aef1b9a4658a5db747d0b435942f29133e0a02"
       ]
      },
      {
       "output_type": "stream",
       "stream": "stdout",
       "text": [
        "\n",
        "https://redmine.justsoftwareag.com/issues/3125.json?include=journals&key=d1aef1b9a4658a5db747d0b435942f29133e0a02"
       ]
      },
      {
       "output_type": "stream",
       "stream": "stdout",
       "text": [
        "\n",
        "https://redmine.justsoftwareag.com/issues/3124.json?include=journals&key=d1aef1b9a4658a5db747d0b435942f29133e0a02"
       ]
      },
      {
       "output_type": "stream",
       "stream": "stdout",
       "text": [
        "\n",
        "https://redmine.justsoftwareag.com/issues/3121.json?include=journals&key=d1aef1b9a4658a5db747d0b435942f29133e0a02"
       ]
      },
      {
       "output_type": "stream",
       "stream": "stdout",
       "text": [
        "\n",
        "https://redmine.justsoftwareag.com/issues/3119.json?include=journals&key=d1aef1b9a4658a5db747d0b435942f29133e0a02"
       ]
      },
      {
       "output_type": "stream",
       "stream": "stdout",
       "text": [
        "\n",
        "https://redmine.justsoftwareag.com/issues/3118.json?include=journals&key=d1aef1b9a4658a5db747d0b435942f29133e0a02"
       ]
      },
      {
       "output_type": "stream",
       "stream": "stdout",
       "text": [
        "\n",
        "https://redmine.justsoftwareag.com/issues/3116.json?include=journals&key=d1aef1b9a4658a5db747d0b435942f29133e0a02"
       ]
      },
      {
       "output_type": "stream",
       "stream": "stdout",
       "text": [
        "\n",
        "https://redmine.justsoftwareag.com/issues/3114.json?include=journals&key=d1aef1b9a4658a5db747d0b435942f29133e0a02"
       ]
      },
      {
       "output_type": "stream",
       "stream": "stdout",
       "text": [
        "\n",
        "https://redmine.justsoftwareag.com/issues/3106.json?include=journals&key=d1aef1b9a4658a5db747d0b435942f29133e0a02"
       ]
      },
      {
       "output_type": "stream",
       "stream": "stdout",
       "text": [
        "\n",
        "https://redmine.justsoftwareag.com/issues/3096.json?include=journals&key=d1aef1b9a4658a5db747d0b435942f29133e0a02"
       ]
      },
      {
       "output_type": "stream",
       "stream": "stdout",
       "text": [
        "\n",
        "https://redmine.justsoftwareag.com/issues/3074.json?include=journals&key=d1aef1b9a4658a5db747d0b435942f29133e0a02"
       ]
      },
      {
       "output_type": "stream",
       "stream": "stdout",
       "text": [
        "\n",
        "https://redmine.justsoftwareag.com/issues/3073.json?include=journals&key=d1aef1b9a4658a5db747d0b435942f29133e0a02"
       ]
      },
      {
       "output_type": "stream",
       "stream": "stdout",
       "text": [
        "\n",
        "https://redmine.justsoftwareag.com/issues/3067.json?include=journals&key=d1aef1b9a4658a5db747d0b435942f29133e0a02"
       ]
      },
      {
       "output_type": "stream",
       "stream": "stdout",
       "text": [
        "\n",
        "https://redmine.justsoftwareag.com/issues/3061.json?include=journals&key=d1aef1b9a4658a5db747d0b435942f29133e0a02"
       ]
      },
      {
       "output_type": "stream",
       "stream": "stdout",
       "text": [
        "\n",
        "https://redmine.justsoftwareag.com/issues/3057.json?include=journals&key=d1aef1b9a4658a5db747d0b435942f29133e0a02"
       ]
      },
      {
       "output_type": "stream",
       "stream": "stdout",
       "text": [
        "\n",
        "https://redmine.justsoftwareag.com/issues/3054.json?include=journals&key=d1aef1b9a4658a5db747d0b435942f29133e0a02"
       ]
      },
      {
       "output_type": "stream",
       "stream": "stdout",
       "text": [
        "\n",
        "https://redmine.justsoftwareag.com/issues/3053.json?include=journals&key=d1aef1b9a4658a5db747d0b435942f29133e0a02"
       ]
      },
      {
       "output_type": "stream",
       "stream": "stdout",
       "text": [
        "\n",
        "https://redmine.justsoftwareag.com/issues/3051.json?include=journals&key=d1aef1b9a4658a5db747d0b435942f29133e0a02"
       ]
      },
      {
       "output_type": "stream",
       "stream": "stdout",
       "text": [
        "\n",
        "https://redmine.justsoftwareag.com/issues/3047.json?include=journals&key=d1aef1b9a4658a5db747d0b435942f29133e0a02"
       ]
      },
      {
       "output_type": "stream",
       "stream": "stdout",
       "text": [
        "\n",
        "https://redmine.justsoftwareag.com/issues/3039.json?include=journals&key=d1aef1b9a4658a5db747d0b435942f29133e0a02"
       ]
      },
      {
       "output_type": "stream",
       "stream": "stdout",
       "text": [
        "\n",
        "https://redmine.justsoftwareag.com/issues/3036.json?include=journals&key=d1aef1b9a4658a5db747d0b435942f29133e0a02"
       ]
      },
      {
       "output_type": "stream",
       "stream": "stdout",
       "text": [
        "\n",
        "https://redmine.justsoftwareag.com/issues/3006.json?include=journals&key=d1aef1b9a4658a5db747d0b435942f29133e0a02"
       ]
      },
      {
       "output_type": "stream",
       "stream": "stdout",
       "text": [
        "\n",
        "https://redmine.justsoftwareag.com/issues/3004.json?include=journals&key=d1aef1b9a4658a5db747d0b435942f29133e0a02"
       ]
      },
      {
       "output_type": "stream",
       "stream": "stdout",
       "text": [
        "\n",
        "https://redmine.justsoftwareag.com/issues/3001.json?include=journals&key=d1aef1b9a4658a5db747d0b435942f29133e0a02"
       ]
      },
      {
       "output_type": "stream",
       "stream": "stdout",
       "text": [
        "\n",
        "https://redmine.justsoftwareag.com/issues/2999.json?include=journals&key=d1aef1b9a4658a5db747d0b435942f29133e0a02"
       ]
      },
      {
       "output_type": "stream",
       "stream": "stdout",
       "text": [
        "\n",
        "https://redmine.justsoftwareag.com/issues/2997.json?include=journals&key=d1aef1b9a4658a5db747d0b435942f29133e0a02"
       ]
      },
      {
       "output_type": "stream",
       "stream": "stdout",
       "text": [
        "\n",
        "https://redmine.justsoftwareag.com/issues/2996.json?include=journals&key=d1aef1b9a4658a5db747d0b435942f29133e0a02"
       ]
      },
      {
       "output_type": "stream",
       "stream": "stdout",
       "text": [
        "\n",
        "https://redmine.justsoftwareag.com/issues/2991.json?include=journals&key=d1aef1b9a4658a5db747d0b435942f29133e0a02"
       ]
      },
      {
       "output_type": "stream",
       "stream": "stdout",
       "text": [
        "\n",
        "https://redmine.justsoftwareag.com/issues/2982.json?include=journals&key=d1aef1b9a4658a5db747d0b435942f29133e0a02"
       ]
      },
      {
       "output_type": "stream",
       "stream": "stdout",
       "text": [
        "\n",
        "https://redmine.justsoftwareag.com/issues/2974.json?include=journals&key=d1aef1b9a4658a5db747d0b435942f29133e0a02"
       ]
      },
      {
       "output_type": "stream",
       "stream": "stdout",
       "text": [
        "\n",
        "https://redmine.justsoftwareag.com/issues/2971.json?include=journals&key=d1aef1b9a4658a5db747d0b435942f29133e0a02"
       ]
      },
      {
       "output_type": "stream",
       "stream": "stdout",
       "text": [
        "\n",
        "https://redmine.justsoftwareag.com/issues/2970.json?include=journals&key=d1aef1b9a4658a5db747d0b435942f29133e0a02"
       ]
      },
      {
       "output_type": "stream",
       "stream": "stdout",
       "text": [
        "\n",
        "https://redmine.justsoftwareag.com/issues/2969.json?include=journals&key=d1aef1b9a4658a5db747d0b435942f29133e0a02"
       ]
      },
      {
       "output_type": "stream",
       "stream": "stdout",
       "text": [
        "\n",
        "https://redmine.justsoftwareag.com/issues/2968.json?include=journals&key=d1aef1b9a4658a5db747d0b435942f29133e0a02"
       ]
      },
      {
       "output_type": "stream",
       "stream": "stdout",
       "text": [
        "\n",
        "https://redmine.justsoftwareag.com/issues/2967.json?include=journals&key=d1aef1b9a4658a5db747d0b435942f29133e0a02"
       ]
      },
      {
       "output_type": "stream",
       "stream": "stdout",
       "text": [
        "\n",
        "https://redmine.justsoftwareag.com/issues/2959.json?include=journals&key=d1aef1b9a4658a5db747d0b435942f29133e0a02"
       ]
      },
      {
       "output_type": "stream",
       "stream": "stdout",
       "text": [
        "\n",
        "https://redmine.justsoftwareag.com/issues/2958.json?include=journals&key=d1aef1b9a4658a5db747d0b435942f29133e0a02"
       ]
      },
      {
       "output_type": "stream",
       "stream": "stdout",
       "text": [
        "\n",
        "https://redmine.justsoftwareag.com/issues/2956.json?include=journals&key=d1aef1b9a4658a5db747d0b435942f29133e0a02"
       ]
      },
      {
       "output_type": "stream",
       "stream": "stdout",
       "text": [
        "\n",
        "https://redmine.justsoftwareag.com/issues/2940.json?include=journals&key=d1aef1b9a4658a5db747d0b435942f29133e0a02"
       ]
      },
      {
       "output_type": "stream",
       "stream": "stdout",
       "text": [
        "\n",
        "https://redmine.justsoftwareag.com/issues/2937.json?include=journals&key=d1aef1b9a4658a5db747d0b435942f29133e0a02"
       ]
      },
      {
       "output_type": "stream",
       "stream": "stdout",
       "text": [
        "\n",
        "https://redmine.justsoftwareag.com/issues/2936.json?include=journals&key=d1aef1b9a4658a5db747d0b435942f29133e0a02"
       ]
      },
      {
       "output_type": "stream",
       "stream": "stdout",
       "text": [
        "\n",
        "https://redmine.justsoftwareag.com/issues/2927.json?include=journals&key=d1aef1b9a4658a5db747d0b435942f29133e0a02"
       ]
      },
      {
       "output_type": "stream",
       "stream": "stdout",
       "text": [
        "\n",
        "https://redmine.justsoftwareag.com/issues/2922.json?include=journals&key=d1aef1b9a4658a5db747d0b435942f29133e0a02"
       ]
      },
      {
       "output_type": "stream",
       "stream": "stdout",
       "text": [
        "\n",
        "https://redmine.justsoftwareag.com/issues/2921.json?include=journals&key=d1aef1b9a4658a5db747d0b435942f29133e0a02"
       ]
      },
      {
       "output_type": "stream",
       "stream": "stdout",
       "text": [
        "\n",
        "https://redmine.justsoftwareag.com/issues/2920.json?include=journals&key=d1aef1b9a4658a5db747d0b435942f29133e0a02"
       ]
      },
      {
       "output_type": "stream",
       "stream": "stdout",
       "text": [
        "\n",
        "https://redmine.justsoftwareag.com/issues/2918.json?include=journals&key=d1aef1b9a4658a5db747d0b435942f29133e0a02"
       ]
      },
      {
       "output_type": "stream",
       "stream": "stdout",
       "text": [
        "\n",
        "https://redmine.justsoftwareag.com/issues/2917.json?include=journals&key=d1aef1b9a4658a5db747d0b435942f29133e0a02"
       ]
      },
      {
       "output_type": "stream",
       "stream": "stdout",
       "text": [
        "\n",
        "https://redmine.justsoftwareag.com/issues/2913.json?include=journals&key=d1aef1b9a4658a5db747d0b435942f29133e0a02"
       ]
      },
      {
       "output_type": "stream",
       "stream": "stdout",
       "text": [
        "\n",
        "https://redmine.justsoftwareag.com/issues/2912.json?include=journals&key=d1aef1b9a4658a5db747d0b435942f29133e0a02"
       ]
      },
      {
       "output_type": "stream",
       "stream": "stdout",
       "text": [
        "\n",
        "https://redmine.justsoftwareag.com/issues/2910.json?include=journals&key=d1aef1b9a4658a5db747d0b435942f29133e0a02"
       ]
      },
      {
       "output_type": "stream",
       "stream": "stdout",
       "text": [
        "\n",
        "https://redmine.justsoftwareag.com/issues/2909.json?include=journals&key=d1aef1b9a4658a5db747d0b435942f29133e0a02"
       ]
      },
      {
       "output_type": "stream",
       "stream": "stdout",
       "text": [
        "\n",
        "https://redmine.justsoftwareag.com/issues/2907.json?include=journals&key=d1aef1b9a4658a5db747d0b435942f29133e0a02"
       ]
      },
      {
       "output_type": "stream",
       "stream": "stdout",
       "text": [
        "\n",
        "https://redmine.justsoftwareag.com/issues/2887.json?include=journals&key=d1aef1b9a4658a5db747d0b435942f29133e0a02"
       ]
      },
      {
       "output_type": "stream",
       "stream": "stdout",
       "text": [
        "\n",
        "https://redmine.justsoftwareag.com/issues/2885.json?include=journals&key=d1aef1b9a4658a5db747d0b435942f29133e0a02"
       ]
      },
      {
       "output_type": "stream",
       "stream": "stdout",
       "text": [
        "\n",
        "https://redmine.justsoftwareag.com/issues/2877.json?include=journals&key=d1aef1b9a4658a5db747d0b435942f29133e0a02"
       ]
      },
      {
       "output_type": "stream",
       "stream": "stdout",
       "text": [
        "\n",
        "https://redmine.justsoftwareag.com/issues/2876.json?include=journals&key=d1aef1b9a4658a5db747d0b435942f29133e0a02"
       ]
      },
      {
       "output_type": "stream",
       "stream": "stdout",
       "text": [
        "\n",
        "https://redmine.justsoftwareag.com/issues/2875.json?include=journals&key=d1aef1b9a4658a5db747d0b435942f29133e0a02"
       ]
      },
      {
       "output_type": "stream",
       "stream": "stdout",
       "text": [
        "\n",
        "https://redmine.justsoftwareag.com/issues/2873.json?include=journals&key=d1aef1b9a4658a5db747d0b435942f29133e0a02"
       ]
      },
      {
       "output_type": "stream",
       "stream": "stdout",
       "text": [
        "\n",
        "https://redmine.justsoftwareag.com/issues/2872.json?include=journals&key=d1aef1b9a4658a5db747d0b435942f29133e0a02"
       ]
      },
      {
       "output_type": "stream",
       "stream": "stdout",
       "text": [
        "\n",
        "https://redmine.justsoftwareag.com/issues/2871.json?include=journals&key=d1aef1b9a4658a5db747d0b435942f29133e0a02"
       ]
      },
      {
       "output_type": "stream",
       "stream": "stdout",
       "text": [
        "\n",
        "https://redmine.justsoftwareag.com/issues/2868.json?include=journals&key=d1aef1b9a4658a5db747d0b435942f29133e0a02"
       ]
      },
      {
       "output_type": "stream",
       "stream": "stdout",
       "text": [
        "\n",
        "https://redmine.justsoftwareag.com/issues/2864.json?include=journals&key=d1aef1b9a4658a5db747d0b435942f29133e0a02"
       ]
      },
      {
       "output_type": "stream",
       "stream": "stdout",
       "text": [
        "\n",
        "https://redmine.justsoftwareag.com/issues/2863.json?include=journals&key=d1aef1b9a4658a5db747d0b435942f29133e0a02"
       ]
      },
      {
       "output_type": "stream",
       "stream": "stdout",
       "text": [
        "\n",
        "https://redmine.justsoftwareag.com/issues/2855.json?include=journals&key=d1aef1b9a4658a5db747d0b435942f29133e0a02"
       ]
      },
      {
       "output_type": "stream",
       "stream": "stdout",
       "text": [
        "\n",
        "https://redmine.justsoftwareag.com/issues/2850.json?include=journals&key=d1aef1b9a4658a5db747d0b435942f29133e0a02"
       ]
      },
      {
       "output_type": "stream",
       "stream": "stdout",
       "text": [
        "\n",
        "https://redmine.justsoftwareag.com/issues/2848.json?include=journals&key=d1aef1b9a4658a5db747d0b435942f29133e0a02"
       ]
      },
      {
       "output_type": "stream",
       "stream": "stdout",
       "text": [
        "\n",
        "https://redmine.justsoftwareag.com/issues/2847.json?include=journals&key=d1aef1b9a4658a5db747d0b435942f29133e0a02"
       ]
      },
      {
       "output_type": "stream",
       "stream": "stdout",
       "text": [
        "\n",
        "https://redmine.justsoftwareag.com/issues/2831.json?include=journals&key=d1aef1b9a4658a5db747d0b435942f29133e0a02"
       ]
      },
      {
       "output_type": "stream",
       "stream": "stdout",
       "text": [
        "\n",
        "https://redmine.justsoftwareag.com/issues/2829.json?include=journals&key=d1aef1b9a4658a5db747d0b435942f29133e0a02"
       ]
      },
      {
       "output_type": "stream",
       "stream": "stdout",
       "text": [
        "\n",
        "https://redmine.justsoftwareag.com/issues/2822.json?include=journals&key=d1aef1b9a4658a5db747d0b435942f29133e0a02"
       ]
      },
      {
       "output_type": "stream",
       "stream": "stdout",
       "text": [
        "\n",
        "https://redmine.justsoftwareag.com/issues/2819.json?include=journals&key=d1aef1b9a4658a5db747d0b435942f29133e0a02"
       ]
      },
      {
       "output_type": "stream",
       "stream": "stdout",
       "text": [
        "\n",
        "https://redmine.justsoftwareag.com/issues/2816.json?include=journals&key=d1aef1b9a4658a5db747d0b435942f29133e0a02"
       ]
      },
      {
       "output_type": "stream",
       "stream": "stdout",
       "text": [
        "\n",
        "https://redmine.justsoftwareag.com/issues/2812.json?include=journals&key=d1aef1b9a4658a5db747d0b435942f29133e0a02"
       ]
      },
      {
       "output_type": "stream",
       "stream": "stdout",
       "text": [
        "\n",
        "https://redmine.justsoftwareag.com/issues/2805.json?include=journals&key=d1aef1b9a4658a5db747d0b435942f29133e0a02"
       ]
      },
      {
       "output_type": "stream",
       "stream": "stdout",
       "text": [
        "\n",
        "https://redmine.justsoftwareag.com/issues/2804.json?include=journals&key=d1aef1b9a4658a5db747d0b435942f29133e0a02"
       ]
      },
      {
       "output_type": "stream",
       "stream": "stdout",
       "text": [
        "\n",
        "https://redmine.justsoftwareag.com/issues/2802.json?include=journals&key=d1aef1b9a4658a5db747d0b435942f29133e0a02"
       ]
      },
      {
       "output_type": "stream",
       "stream": "stdout",
       "text": [
        "\n",
        "https://redmine.justsoftwareag.com/issues/2793.json?include=journals&key=d1aef1b9a4658a5db747d0b435942f29133e0a02"
       ]
      },
      {
       "output_type": "stream",
       "stream": "stdout",
       "text": [
        "\n",
        "https://redmine.justsoftwareag.com/issues/2771.json?include=journals&key=d1aef1b9a4658a5db747d0b435942f29133e0a02"
       ]
      },
      {
       "output_type": "stream",
       "stream": "stdout",
       "text": [
        "\n",
        "https://redmine.justsoftwareag.com/issues/2770.json?include=journals&key=d1aef1b9a4658a5db747d0b435942f29133e0a02"
       ]
      },
      {
       "output_type": "stream",
       "stream": "stdout",
       "text": [
        "\n",
        "https://redmine.justsoftwareag.com/issues/2769.json?include=journals&key=d1aef1b9a4658a5db747d0b435942f29133e0a02"
       ]
      },
      {
       "output_type": "stream",
       "stream": "stdout",
       "text": [
        "\n",
        "https://redmine.justsoftwareag.com/issues/2765.json?include=journals&key=d1aef1b9a4658a5db747d0b435942f29133e0a02"
       ]
      },
      {
       "output_type": "stream",
       "stream": "stdout",
       "text": [
        "\n",
        "https://redmine.justsoftwareag.com/issues/2758.json?include=journals&key=d1aef1b9a4658a5db747d0b435942f29133e0a02"
       ]
      },
      {
       "output_type": "stream",
       "stream": "stdout",
       "text": [
        "\n",
        "https://redmine.justsoftwareag.com/issues/2753.json?include=journals&key=d1aef1b9a4658a5db747d0b435942f29133e0a02"
       ]
      },
      {
       "output_type": "stream",
       "stream": "stdout",
       "text": [
        "\n",
        "https://redmine.justsoftwareag.com/issues/2750.json?include=journals&key=d1aef1b9a4658a5db747d0b435942f29133e0a02"
       ]
      },
      {
       "output_type": "stream",
       "stream": "stdout",
       "text": [
        "\n",
        "https://redmine.justsoftwareag.com/issues/2746.json?include=journals&key=d1aef1b9a4658a5db747d0b435942f29133e0a02"
       ]
      },
      {
       "output_type": "stream",
       "stream": "stdout",
       "text": [
        "\n",
        "https://redmine.justsoftwareag.com/issues/2744.json?include=journals&key=d1aef1b9a4658a5db747d0b435942f29133e0a02"
       ]
      },
      {
       "output_type": "stream",
       "stream": "stdout",
       "text": [
        "\n",
        "https://redmine.justsoftwareag.com/issues/2743.json?include=journals&key=d1aef1b9a4658a5db747d0b435942f29133e0a02"
       ]
      },
      {
       "output_type": "stream",
       "stream": "stdout",
       "text": [
        "\n",
        "https://redmine.justsoftwareag.com/issues/2742.json?include=journals&key=d1aef1b9a4658a5db747d0b435942f29133e0a02"
       ]
      },
      {
       "output_type": "stream",
       "stream": "stdout",
       "text": [
        "\n",
        "https://redmine.justsoftwareag.com/issues/2739.json?include=journals&key=d1aef1b9a4658a5db747d0b435942f29133e0a02"
       ]
      },
      {
       "output_type": "stream",
       "stream": "stdout",
       "text": [
        "\n",
        "https://redmine.justsoftwareag.com/issues/2738.json?include=journals&key=d1aef1b9a4658a5db747d0b435942f29133e0a02"
       ]
      },
      {
       "output_type": "stream",
       "stream": "stdout",
       "text": [
        "\n",
        "https://redmine.justsoftwareag.com/issues/2736.json?include=journals&key=d1aef1b9a4658a5db747d0b435942f29133e0a02"
       ]
      },
      {
       "output_type": "stream",
       "stream": "stdout",
       "text": [
        "\n",
        "https://redmine.justsoftwareag.com/issues/2735.json?include=journals&key=d1aef1b9a4658a5db747d0b435942f29133e0a02"
       ]
      },
      {
       "output_type": "stream",
       "stream": "stdout",
       "text": [
        "\n",
        "https://redmine.justsoftwareag.com/issues/2715.json?include=journals&key=d1aef1b9a4658a5db747d0b435942f29133e0a02"
       ]
      },
      {
       "output_type": "stream",
       "stream": "stdout",
       "text": [
        "\n",
        "https://redmine.justsoftwareag.com/issues/2714.json?include=journals&key=d1aef1b9a4658a5db747d0b435942f29133e0a02"
       ]
      },
      {
       "output_type": "stream",
       "stream": "stdout",
       "text": [
        "\n",
        "https://redmine.justsoftwareag.com/issues/2707.json?include=journals&key=d1aef1b9a4658a5db747d0b435942f29133e0a02"
       ]
      },
      {
       "output_type": "stream",
       "stream": "stdout",
       "text": [
        "\n",
        "https://redmine.justsoftwareag.com/issues/2706.json?include=journals&key=d1aef1b9a4658a5db747d0b435942f29133e0a02"
       ]
      },
      {
       "output_type": "stream",
       "stream": "stdout",
       "text": [
        "\n",
        "https://redmine.justsoftwareag.com/issues/2703.json?include=journals&key=d1aef1b9a4658a5db747d0b435942f29133e0a02"
       ]
      },
      {
       "output_type": "stream",
       "stream": "stdout",
       "text": [
        "\n",
        "https://redmine.justsoftwareag.com/issues/2701.json?include=journals&key=d1aef1b9a4658a5db747d0b435942f29133e0a02"
       ]
      },
      {
       "output_type": "stream",
       "stream": "stdout",
       "text": [
        "\n",
        "https://redmine.justsoftwareag.com/issues/2700.json?include=journals&key=d1aef1b9a4658a5db747d0b435942f29133e0a02"
       ]
      },
      {
       "output_type": "stream",
       "stream": "stdout",
       "text": [
        "\n",
        "https://redmine.justsoftwareag.com/issues/2696.json?include=journals&key=d1aef1b9a4658a5db747d0b435942f29133e0a02"
       ]
      },
      {
       "output_type": "stream",
       "stream": "stdout",
       "text": [
        "\n",
        "https://redmine.justsoftwareag.com/issues/2694.json?include=journals&key=d1aef1b9a4658a5db747d0b435942f29133e0a02"
       ]
      },
      {
       "output_type": "stream",
       "stream": "stdout",
       "text": [
        "\n",
        "https://redmine.justsoftwareag.com/issues/2693.json?include=journals&key=d1aef1b9a4658a5db747d0b435942f29133e0a02"
       ]
      },
      {
       "output_type": "stream",
       "stream": "stdout",
       "text": [
        "\n",
        "https://redmine.justsoftwareag.com/issues/2692.json?include=journals&key=d1aef1b9a4658a5db747d0b435942f29133e0a02"
       ]
      },
      {
       "output_type": "stream",
       "stream": "stdout",
       "text": [
        "\n",
        "https://redmine.justsoftwareag.com/issues/2691.json?include=journals&key=d1aef1b9a4658a5db747d0b435942f29133e0a02"
       ]
      },
      {
       "output_type": "stream",
       "stream": "stdout",
       "text": [
        "\n",
        "https://redmine.justsoftwareag.com/issues/2689.json?include=journals&key=d1aef1b9a4658a5db747d0b435942f29133e0a02"
       ]
      },
      {
       "output_type": "stream",
       "stream": "stdout",
       "text": [
        "\n",
        "https://redmine.justsoftwareag.com/issues/2688.json?include=journals&key=d1aef1b9a4658a5db747d0b435942f29133e0a02"
       ]
      },
      {
       "output_type": "stream",
       "stream": "stdout",
       "text": [
        "\n",
        "https://redmine.justsoftwareag.com/issues/2687.json?include=journals&key=d1aef1b9a4658a5db747d0b435942f29133e0a02"
       ]
      },
      {
       "output_type": "stream",
       "stream": "stdout",
       "text": [
        "\n",
        "https://redmine.justsoftwareag.com/issues/2686.json?include=journals&key=d1aef1b9a4658a5db747d0b435942f29133e0a02"
       ]
      },
      {
       "output_type": "stream",
       "stream": "stdout",
       "text": [
        "\n",
        "https://redmine.justsoftwareag.com/issues/2685.json?include=journals&key=d1aef1b9a4658a5db747d0b435942f29133e0a02"
       ]
      },
      {
       "output_type": "stream",
       "stream": "stdout",
       "text": [
        "\n",
        "https://redmine.justsoftwareag.com/issues/2684.json?include=journals&key=d1aef1b9a4658a5db747d0b435942f29133e0a02"
       ]
      },
      {
       "output_type": "stream",
       "stream": "stdout",
       "text": [
        "\n",
        "https://redmine.justsoftwareag.com/issues/2683.json?include=journals&key=d1aef1b9a4658a5db747d0b435942f29133e0a02"
       ]
      },
      {
       "output_type": "stream",
       "stream": "stdout",
       "text": [
        "\n",
        "https://redmine.justsoftwareag.com/issues/2682.json?include=journals&key=d1aef1b9a4658a5db747d0b435942f29133e0a02"
       ]
      },
      {
       "output_type": "stream",
       "stream": "stdout",
       "text": [
        "\n",
        "https://redmine.justsoftwareag.com/issues/2681.json?include=journals&key=d1aef1b9a4658a5db747d0b435942f29133e0a02"
       ]
      },
      {
       "output_type": "stream",
       "stream": "stdout",
       "text": [
        "\n",
        "https://redmine.justsoftwareag.com/issues/2680.json?include=journals&key=d1aef1b9a4658a5db747d0b435942f29133e0a02"
       ]
      },
      {
       "output_type": "stream",
       "stream": "stdout",
       "text": [
        "\n",
        "https://redmine.justsoftwareag.com/issues/2679.json?include=journals&key=d1aef1b9a4658a5db747d0b435942f29133e0a02"
       ]
      },
      {
       "output_type": "stream",
       "stream": "stdout",
       "text": [
        "\n",
        "https://redmine.justsoftwareag.com/issues/2678.json?include=journals&key=d1aef1b9a4658a5db747d0b435942f29133e0a02"
       ]
      },
      {
       "output_type": "stream",
       "stream": "stdout",
       "text": [
        "\n",
        "https://redmine.justsoftwareag.com/issues/2677.json?include=journals&key=d1aef1b9a4658a5db747d0b435942f29133e0a02"
       ]
      },
      {
       "output_type": "stream",
       "stream": "stdout",
       "text": [
        "\n",
        "https://redmine.justsoftwareag.com/issues/2676.json?include=journals&key=d1aef1b9a4658a5db747d0b435942f29133e0a02"
       ]
      },
      {
       "output_type": "stream",
       "stream": "stdout",
       "text": [
        "\n",
        "https://redmine.justsoftwareag.com/issues/2674.json?include=journals&key=d1aef1b9a4658a5db747d0b435942f29133e0a02"
       ]
      },
      {
       "output_type": "stream",
       "stream": "stdout",
       "text": [
        "\n",
        "https://redmine.justsoftwareag.com/issues/2667.json?include=journals&key=d1aef1b9a4658a5db747d0b435942f29133e0a02"
       ]
      },
      {
       "output_type": "stream",
       "stream": "stdout",
       "text": [
        "\n",
        "https://redmine.justsoftwareag.com/issues/2666.json?include=journals&key=d1aef1b9a4658a5db747d0b435942f29133e0a02"
       ]
      },
      {
       "output_type": "stream",
       "stream": "stdout",
       "text": [
        "\n",
        "https://redmine.justsoftwareag.com/issues/2665.json?include=journals&key=d1aef1b9a4658a5db747d0b435942f29133e0a02"
       ]
      },
      {
       "output_type": "stream",
       "stream": "stdout",
       "text": [
        "\n",
        "https://redmine.justsoftwareag.com/issues/2659.json?include=journals&key=d1aef1b9a4658a5db747d0b435942f29133e0a02"
       ]
      },
      {
       "output_type": "stream",
       "stream": "stdout",
       "text": [
        "\n",
        "https://redmine.justsoftwareag.com/issues/2658.json?include=journals&key=d1aef1b9a4658a5db747d0b435942f29133e0a02"
       ]
      },
      {
       "output_type": "stream",
       "stream": "stdout",
       "text": [
        "\n",
        "https://redmine.justsoftwareag.com/issues/2654.json?include=journals&key=d1aef1b9a4658a5db747d0b435942f29133e0a02"
       ]
      },
      {
       "output_type": "stream",
       "stream": "stdout",
       "text": [
        "\n",
        "https://redmine.justsoftwareag.com/issues/2651.json?include=journals&key=d1aef1b9a4658a5db747d0b435942f29133e0a02"
       ]
      },
      {
       "output_type": "stream",
       "stream": "stdout",
       "text": [
        "\n",
        "https://redmine.justsoftwareag.com/issues/2642.json?include=journals&key=d1aef1b9a4658a5db747d0b435942f29133e0a02"
       ]
      },
      {
       "output_type": "stream",
       "stream": "stdout",
       "text": [
        "\n",
        "https://redmine.justsoftwareag.com/issues/2641.json?include=journals&key=d1aef1b9a4658a5db747d0b435942f29133e0a02"
       ]
      },
      {
       "output_type": "stream",
       "stream": "stdout",
       "text": [
        "\n",
        "https://redmine.justsoftwareag.com/issues/2639.json?include=journals&key=d1aef1b9a4658a5db747d0b435942f29133e0a02"
       ]
      },
      {
       "output_type": "stream",
       "stream": "stdout",
       "text": [
        "\n",
        "https://redmine.justsoftwareag.com/issues/2635.json?include=journals&key=d1aef1b9a4658a5db747d0b435942f29133e0a02"
       ]
      },
      {
       "output_type": "stream",
       "stream": "stdout",
       "text": [
        "\n",
        "https://redmine.justsoftwareag.com/issues/2634.json?include=journals&key=d1aef1b9a4658a5db747d0b435942f29133e0a02"
       ]
      },
      {
       "output_type": "stream",
       "stream": "stdout",
       "text": [
        "\n",
        "https://redmine.justsoftwareag.com/issues/2633.json?include=journals&key=d1aef1b9a4658a5db747d0b435942f29133e0a02"
       ]
      },
      {
       "output_type": "stream",
       "stream": "stdout",
       "text": [
        "\n",
        "https://redmine.justsoftwareag.com/issues/2632.json?include=journals&key=d1aef1b9a4658a5db747d0b435942f29133e0a02"
       ]
      },
      {
       "output_type": "stream",
       "stream": "stdout",
       "text": [
        "\n",
        "https://redmine.justsoftwareag.com/issues/2626.json?include=journals&key=d1aef1b9a4658a5db747d0b435942f29133e0a02"
       ]
      },
      {
       "output_type": "stream",
       "stream": "stdout",
       "text": [
        "\n",
        "https://redmine.justsoftwareag.com/issues/2621.json?include=journals&key=d1aef1b9a4658a5db747d0b435942f29133e0a02"
       ]
      },
      {
       "output_type": "stream",
       "stream": "stdout",
       "text": [
        "\n",
        "https://redmine.justsoftwareag.com/issues/2612.json?include=journals&key=d1aef1b9a4658a5db747d0b435942f29133e0a02"
       ]
      },
      {
       "output_type": "stream",
       "stream": "stdout",
       "text": [
        "\n",
        "https://redmine.justsoftwareag.com/issues/2610.json?include=journals&key=d1aef1b9a4658a5db747d0b435942f29133e0a02"
       ]
      },
      {
       "output_type": "stream",
       "stream": "stdout",
       "text": [
        "\n",
        "https://redmine.justsoftwareag.com/issues/2609.json?include=journals&key=d1aef1b9a4658a5db747d0b435942f29133e0a02"
       ]
      },
      {
       "output_type": "stream",
       "stream": "stdout",
       "text": [
        "\n",
        "https://redmine.justsoftwareag.com/issues/2608.json?include=journals&key=d1aef1b9a4658a5db747d0b435942f29133e0a02"
       ]
      },
      {
       "output_type": "stream",
       "stream": "stdout",
       "text": [
        "\n",
        "https://redmine.justsoftwareag.com/issues/2607.json?include=journals&key=d1aef1b9a4658a5db747d0b435942f29133e0a02"
       ]
      },
      {
       "output_type": "stream",
       "stream": "stdout",
       "text": [
        "\n",
        "https://redmine.justsoftwareag.com/issues/2606.json?include=journals&key=d1aef1b9a4658a5db747d0b435942f29133e0a02"
       ]
      },
      {
       "output_type": "stream",
       "stream": "stdout",
       "text": [
        "\n",
        "https://redmine.justsoftwareag.com/issues/2601.json?include=journals&key=d1aef1b9a4658a5db747d0b435942f29133e0a02"
       ]
      },
      {
       "output_type": "stream",
       "stream": "stdout",
       "text": [
        "\n",
        "https://redmine.justsoftwareag.com/issues/2600.json?include=journals&key=d1aef1b9a4658a5db747d0b435942f29133e0a02"
       ]
      },
      {
       "output_type": "stream",
       "stream": "stdout",
       "text": [
        "\n",
        "https://redmine.justsoftwareag.com/issues/2598.json?include=journals&key=d1aef1b9a4658a5db747d0b435942f29133e0a02"
       ]
      },
      {
       "output_type": "stream",
       "stream": "stdout",
       "text": [
        "\n",
        "https://redmine.justsoftwareag.com/issues/2597.json?include=journals&key=d1aef1b9a4658a5db747d0b435942f29133e0a02"
       ]
      },
      {
       "output_type": "stream",
       "stream": "stdout",
       "text": [
        "\n",
        "https://redmine.justsoftwareag.com/issues/2596.json?include=journals&key=d1aef1b9a4658a5db747d0b435942f29133e0a02"
       ]
      },
      {
       "output_type": "stream",
       "stream": "stdout",
       "text": [
        "\n",
        "https://redmine.justsoftwareag.com/issues/2588.json?include=journals&key=d1aef1b9a4658a5db747d0b435942f29133e0a02"
       ]
      },
      {
       "output_type": "stream",
       "stream": "stdout",
       "text": [
        "\n",
        "https://redmine.justsoftwareag.com/issues/2587.json?include=journals&key=d1aef1b9a4658a5db747d0b435942f29133e0a02"
       ]
      },
      {
       "output_type": "stream",
       "stream": "stdout",
       "text": [
        "\n",
        "https://redmine.justsoftwareag.com/issues/2586.json?include=journals&key=d1aef1b9a4658a5db747d0b435942f29133e0a02"
       ]
      },
      {
       "output_type": "stream",
       "stream": "stdout",
       "text": [
        "\n",
        "https://redmine.justsoftwareag.com/issues/2585.json?include=journals&key=d1aef1b9a4658a5db747d0b435942f29133e0a02"
       ]
      },
      {
       "output_type": "stream",
       "stream": "stdout",
       "text": [
        "\n",
        "https://redmine.justsoftwareag.com/issues/2578.json?include=journals&key=d1aef1b9a4658a5db747d0b435942f29133e0a02"
       ]
      },
      {
       "output_type": "stream",
       "stream": "stdout",
       "text": [
        "\n",
        "https://redmine.justsoftwareag.com/issues/2577.json?include=journals&key=d1aef1b9a4658a5db747d0b435942f29133e0a02"
       ]
      },
      {
       "output_type": "stream",
       "stream": "stdout",
       "text": [
        "\n",
        "https://redmine.justsoftwareag.com/issues/2574.json?include=journals&key=d1aef1b9a4658a5db747d0b435942f29133e0a02"
       ]
      },
      {
       "output_type": "stream",
       "stream": "stdout",
       "text": [
        "\n",
        "https://redmine.justsoftwareag.com/issues/2570.json?include=journals&key=d1aef1b9a4658a5db747d0b435942f29133e0a02"
       ]
      },
      {
       "output_type": "stream",
       "stream": "stdout",
       "text": [
        "\n",
        "https://redmine.justsoftwareag.com/issues/2563.json?include=journals&key=d1aef1b9a4658a5db747d0b435942f29133e0a02"
       ]
      },
      {
       "output_type": "stream",
       "stream": "stdout",
       "text": [
        "\n",
        "https://redmine.justsoftwareag.com/issues/2562.json?include=journals&key=d1aef1b9a4658a5db747d0b435942f29133e0a02"
       ]
      },
      {
       "output_type": "stream",
       "stream": "stdout",
       "text": [
        "\n",
        "https://redmine.justsoftwareag.com/issues/2552.json?include=journals&key=d1aef1b9a4658a5db747d0b435942f29133e0a02"
       ]
      },
      {
       "output_type": "stream",
       "stream": "stdout",
       "text": [
        "\n",
        "https://redmine.justsoftwareag.com/issues/2529.json?include=journals&key=d1aef1b9a4658a5db747d0b435942f29133e0a02"
       ]
      },
      {
       "output_type": "stream",
       "stream": "stdout",
       "text": [
        "\n",
        "https://redmine.justsoftwareag.com/issues/2527.json?include=journals&key=d1aef1b9a4658a5db747d0b435942f29133e0a02"
       ]
      },
      {
       "output_type": "stream",
       "stream": "stdout",
       "text": [
        "\n",
        "https://redmine.justsoftwareag.com/issues/2524.json?include=journals&key=d1aef1b9a4658a5db747d0b435942f29133e0a02"
       ]
      },
      {
       "output_type": "stream",
       "stream": "stdout",
       "text": [
        "\n",
        "https://redmine.justsoftwareag.com/issues/2523.json?include=journals&key=d1aef1b9a4658a5db747d0b435942f29133e0a02"
       ]
      },
      {
       "output_type": "stream",
       "stream": "stdout",
       "text": [
        "\n",
        "https://redmine.justsoftwareag.com/issues/2522.json?include=journals&key=d1aef1b9a4658a5db747d0b435942f29133e0a02"
       ]
      },
      {
       "output_type": "stream",
       "stream": "stdout",
       "text": [
        "\n",
        "https://redmine.justsoftwareag.com/issues/2521.json?include=journals&key=d1aef1b9a4658a5db747d0b435942f29133e0a02"
       ]
      },
      {
       "output_type": "stream",
       "stream": "stdout",
       "text": [
        "\n",
        "https://redmine.justsoftwareag.com/issues/2520.json?include=journals&key=d1aef1b9a4658a5db747d0b435942f29133e0a02"
       ]
      },
      {
       "output_type": "stream",
       "stream": "stdout",
       "text": [
        "\n",
        "https://redmine.justsoftwareag.com/issues/2519.json?include=journals&key=d1aef1b9a4658a5db747d0b435942f29133e0a02"
       ]
      },
      {
       "output_type": "stream",
       "stream": "stdout",
       "text": [
        "\n",
        "https://redmine.justsoftwareag.com/issues/2515.json?include=journals&key=d1aef1b9a4658a5db747d0b435942f29133e0a02"
       ]
      },
      {
       "output_type": "stream",
       "stream": "stdout",
       "text": [
        "\n",
        "https://redmine.justsoftwareag.com/issues/2514.json?include=journals&key=d1aef1b9a4658a5db747d0b435942f29133e0a02"
       ]
      },
      {
       "output_type": "stream",
       "stream": "stdout",
       "text": [
        "\n",
        "https://redmine.justsoftwareag.com/issues/2513.json?include=journals&key=d1aef1b9a4658a5db747d0b435942f29133e0a02"
       ]
      },
      {
       "output_type": "stream",
       "stream": "stdout",
       "text": [
        "\n",
        "https://redmine.justsoftwareag.com/issues/2501.json?include=journals&key=d1aef1b9a4658a5db747d0b435942f29133e0a02"
       ]
      },
      {
       "output_type": "stream",
       "stream": "stdout",
       "text": [
        "\n",
        "https://redmine.justsoftwareag.com/issues/2500.json?include=journals&key=d1aef1b9a4658a5db747d0b435942f29133e0a02"
       ]
      },
      {
       "output_type": "stream",
       "stream": "stdout",
       "text": [
        "\n",
        "https://redmine.justsoftwareag.com/issues/2499.json?include=journals&key=d1aef1b9a4658a5db747d0b435942f29133e0a02"
       ]
      },
      {
       "output_type": "stream",
       "stream": "stdout",
       "text": [
        "\n",
        "https://redmine.justsoftwareag.com/issues/2487.json?include=journals&key=d1aef1b9a4658a5db747d0b435942f29133e0a02"
       ]
      },
      {
       "output_type": "stream",
       "stream": "stdout",
       "text": [
        "\n",
        "https://redmine.justsoftwareag.com/issues/2440.json?include=journals&key=d1aef1b9a4658a5db747d0b435942f29133e0a02"
       ]
      },
      {
       "output_type": "stream",
       "stream": "stdout",
       "text": [
        "\n",
        "https://redmine.justsoftwareag.com/issues/2412.json?include=journals&key=d1aef1b9a4658a5db747d0b435942f29133e0a02"
       ]
      },
      {
       "output_type": "stream",
       "stream": "stdout",
       "text": [
        "\n",
        "https://redmine.justsoftwareag.com/issues/2411.json?include=journals&key=d1aef1b9a4658a5db747d0b435942f29133e0a02"
       ]
      },
      {
       "output_type": "stream",
       "stream": "stdout",
       "text": [
        "\n",
        "https://redmine.justsoftwareag.com/issues/2410.json?include=journals&key=d1aef1b9a4658a5db747d0b435942f29133e0a02"
       ]
      },
      {
       "output_type": "stream",
       "stream": "stdout",
       "text": [
        "\n",
        "https://redmine.justsoftwareag.com/issues/2395.json?include=journals&key=d1aef1b9a4658a5db747d0b435942f29133e0a02"
       ]
      },
      {
       "output_type": "stream",
       "stream": "stdout",
       "text": [
        "\n",
        "https://redmine.justsoftwareag.com/issues/2389.json?include=journals&key=d1aef1b9a4658a5db747d0b435942f29133e0a02"
       ]
      },
      {
       "output_type": "stream",
       "stream": "stdout",
       "text": [
        "\n",
        "https://redmine.justsoftwareag.com/issues/2376.json?include=journals&key=d1aef1b9a4658a5db747d0b435942f29133e0a02"
       ]
      },
      {
       "output_type": "stream",
       "stream": "stdout",
       "text": [
        "\n",
        "https://redmine.justsoftwareag.com/issues/2323.json?include=journals&key=d1aef1b9a4658a5db747d0b435942f29133e0a02"
       ]
      },
      {
       "output_type": "stream",
       "stream": "stdout",
       "text": [
        "\n",
        "https://redmine.justsoftwareag.com/issues/2317.json?include=journals&key=d1aef1b9a4658a5db747d0b435942f29133e0a02"
       ]
      },
      {
       "output_type": "stream",
       "stream": "stdout",
       "text": [
        "\n",
        "https://redmine.justsoftwareag.com/issues/2316.json?include=journals&key=d1aef1b9a4658a5db747d0b435942f29133e0a02"
       ]
      },
      {
       "output_type": "stream",
       "stream": "stdout",
       "text": [
        "\n",
        "https://redmine.justsoftwareag.com/issues/2305.json?include=journals&key=d1aef1b9a4658a5db747d0b435942f29133e0a02"
       ]
      },
      {
       "output_type": "stream",
       "stream": "stdout",
       "text": [
        "\n",
        "https://redmine.justsoftwareag.com/issues/2273.json?include=journals&key=d1aef1b9a4658a5db747d0b435942f29133e0a02"
       ]
      },
      {
       "output_type": "stream",
       "stream": "stdout",
       "text": [
        "\n",
        "https://redmine.justsoftwareag.com/issues/2253.json?include=journals&key=d1aef1b9a4658a5db747d0b435942f29133e0a02"
       ]
      },
      {
       "output_type": "stream",
       "stream": "stdout",
       "text": [
        "\n",
        "https://redmine.justsoftwareag.com/issues/2250.json?include=journals&key=d1aef1b9a4658a5db747d0b435942f29133e0a02"
       ]
      },
      {
       "output_type": "stream",
       "stream": "stdout",
       "text": [
        "\n",
        "https://redmine.justsoftwareag.com/issues/2247.json?include=journals&key=d1aef1b9a4658a5db747d0b435942f29133e0a02"
       ]
      },
      {
       "output_type": "stream",
       "stream": "stdout",
       "text": [
        "\n",
        "https://redmine.justsoftwareag.com/issues/2246.json?include=journals&key=d1aef1b9a4658a5db747d0b435942f29133e0a02"
       ]
      },
      {
       "output_type": "stream",
       "stream": "stdout",
       "text": [
        "\n",
        "https://redmine.justsoftwareag.com/issues/2245.json?include=journals&key=d1aef1b9a4658a5db747d0b435942f29133e0a02"
       ]
      },
      {
       "output_type": "stream",
       "stream": "stdout",
       "text": [
        "\n",
        "https://redmine.justsoftwareag.com/issues/2203.json?include=journals&key=d1aef1b9a4658a5db747d0b435942f29133e0a02"
       ]
      },
      {
       "output_type": "stream",
       "stream": "stdout",
       "text": [
        "\n",
        "https://redmine.justsoftwareag.com/issues/2080.json?include=journals&key=d1aef1b9a4658a5db747d0b435942f29133e0a02"
       ]
      },
      {
       "output_type": "stream",
       "stream": "stdout",
       "text": [
        "\n",
        "https://redmine.justsoftwareag.com/issues/2079.json?include=journals&key=d1aef1b9a4658a5db747d0b435942f29133e0a02"
       ]
      },
      {
       "output_type": "stream",
       "stream": "stdout",
       "text": [
        "\n",
        "https://redmine.justsoftwareag.com/issues/1994.json?include=journals&key=d1aef1b9a4658a5db747d0b435942f29133e0a02"
       ]
      },
      {
       "output_type": "stream",
       "stream": "stdout",
       "text": [
        "\n",
        "https://redmine.justsoftwareag.com/issues/1993.json?include=journals&key=d1aef1b9a4658a5db747d0b435942f29133e0a02"
       ]
      },
      {
       "output_type": "stream",
       "stream": "stdout",
       "text": [
        "\n",
        "https://redmine.justsoftwareag.com/issues/1929.json?include=journals&key=d1aef1b9a4658a5db747d0b435942f29133e0a02"
       ]
      },
      {
       "output_type": "stream",
       "stream": "stdout",
       "text": [
        "\n",
        "https://redmine.justsoftwareag.com/issues/1921.json?include=journals&key=d1aef1b9a4658a5db747d0b435942f29133e0a02"
       ]
      },
      {
       "output_type": "stream",
       "stream": "stdout",
       "text": [
        "\n",
        "https://redmine.justsoftwareag.com/issues/1828.json?include=journals&key=d1aef1b9a4658a5db747d0b435942f29133e0a02"
       ]
      },
      {
       "output_type": "stream",
       "stream": "stdout",
       "text": [
        "\n",
        "https://redmine.justsoftwareag.com/issues/1615.json?include=journals&key=d1aef1b9a4658a5db747d0b435942f29133e0a02"
       ]
      },
      {
       "output_type": "stream",
       "stream": "stdout",
       "text": [
        "\n",
        "https://redmine.justsoftwareag.com/issues/1552.json?include=journals&key=d1aef1b9a4658a5db747d0b435942f29133e0a02"
       ]
      },
      {
       "output_type": "stream",
       "stream": "stdout",
       "text": [
        "\n",
        "https://redmine.justsoftwareag.com/issues/1257.json?include=journals&key=d1aef1b9a4658a5db747d0b435942f29133e0a02"
       ]
      },
      {
       "output_type": "stream",
       "stream": "stdout",
       "text": [
        "\n",
        "https://redmine.justsoftwareag.com/issues/1115.json?include=journals&key=d1aef1b9a4658a5db747d0b435942f29133e0a02"
       ]
      },
      {
       "output_type": "stream",
       "stream": "stdout",
       "text": [
        "\n",
        "https://redmine.justsoftwareag.com/issues/977.json?include=journals&key=d1aef1b9a4658a5db747d0b435942f29133e0a02"
       ]
      },
      {
       "output_type": "stream",
       "stream": "stdout",
       "text": [
        "\n",
        "https://redmine.justsoftwareag.com/issues/853.json?include=journals&key=d1aef1b9a4658a5db747d0b435942f29133e0a02"
       ]
      },
      {
       "output_type": "stream",
       "stream": "stdout",
       "text": [
        "\n",
        "https://redmine.justsoftwareag.com/issues/811.json?include=journals&key=d1aef1b9a4658a5db747d0b435942f29133e0a02"
       ]
      },
      {
       "output_type": "stream",
       "stream": "stdout",
       "text": [
        "\n",
        "https://redmine.justsoftwareag.com/issues/747.json?include=journals&key=d1aef1b9a4658a5db747d0b435942f29133e0a02"
       ]
      },
      {
       "output_type": "stream",
       "stream": "stdout",
       "text": [
        "\n",
        "https://redmine.justsoftwareag.com/issues/743.json?include=journals&key=d1aef1b9a4658a5db747d0b435942f29133e0a02"
       ]
      },
      {
       "output_type": "stream",
       "stream": "stdout",
       "text": [
        "\n",
        "https://redmine.justsoftwareag.com/issues/590.json?include=journals&key=d1aef1b9a4658a5db747d0b435942f29133e0a02"
       ]
      },
      {
       "output_type": "stream",
       "stream": "stdout",
       "text": [
        "\n",
        "https://redmine.justsoftwareag.com/issues/581.json?include=journals&key=d1aef1b9a4658a5db747d0b435942f29133e0a02"
       ]
      },
      {
       "output_type": "stream",
       "stream": "stdout",
       "text": [
        "\n",
        "https://redmine.justsoftwareag.com/issues/578.json?include=journals&key=d1aef1b9a4658a5db747d0b435942f29133e0a02"
       ]
      },
      {
       "output_type": "stream",
       "stream": "stdout",
       "text": [
        "\n",
        "https://redmine.justsoftwareag.com/issues/541.json?include=journals&key=d1aef1b9a4658a5db747d0b435942f29133e0a02"
       ]
      },
      {
       "output_type": "stream",
       "stream": "stdout",
       "text": [
        "\n",
        "https://redmine.justsoftwareag.com/issues/274.json?include=journals&key=d1aef1b9a4658a5db747d0b435942f29133e0a02"
       ]
      },
      {
       "output_type": "stream",
       "stream": "stdout",
       "text": [
        "\n",
        "https://redmine.justsoftwareag.com/issues/224.json?include=journals&key=d1aef1b9a4658a5db747d0b435942f29133e0a02"
       ]
      },
      {
       "output_type": "stream",
       "stream": "stdout",
       "text": [
        "\n",
        "https://redmine.justsoftwareag.com/issues/214.json?include=journals&key=d1aef1b9a4658a5db747d0b435942f29133e0a02"
       ]
      },
      {
       "output_type": "stream",
       "stream": "stdout",
       "text": [
        "\n",
        "https://redmine.justsoftwareag.com/issues/206.json?include=journals&key=d1aef1b9a4658a5db747d0b435942f29133e0a02"
       ]
      },
      {
       "output_type": "stream",
       "stream": "stdout",
       "text": [
        "\n",
        "https://redmine.justsoftwareag.com/issues/189.json?include=journals&key=d1aef1b9a4658a5db747d0b435942f29133e0a02"
       ]
      },
      {
       "output_type": "stream",
       "stream": "stdout",
       "text": [
        "\n",
        "https://redmine.justsoftwareag.com/issues/143.json?include=journals&key=d1aef1b9a4658a5db747d0b435942f29133e0a02"
       ]
      },
      {
       "output_type": "stream",
       "stream": "stdout",
       "text": [
        "\n",
        "https://redmine.justsoftwareag.com/issues/142.json?include=journals&key=d1aef1b9a4658a5db747d0b435942f29133e0a02"
       ]
      },
      {
       "output_type": "stream",
       "stream": "stdout",
       "text": [
        "\n",
        "https://redmine.justsoftwareag.com/issues/140.json?include=journals&key=d1aef1b9a4658a5db747d0b435942f29133e0a02"
       ]
      },
      {
       "output_type": "stream",
       "stream": "stdout",
       "text": [
        "\n",
        "https://redmine.justsoftwareag.com/issues/135.json?include=journals&key=d1aef1b9a4658a5db747d0b435942f29133e0a02"
       ]
      },
      {
       "output_type": "stream",
       "stream": "stdout",
       "text": [
        "\n",
        "https://redmine.justsoftwareag.com/issues/128.json?include=journals&key=d1aef1b9a4658a5db747d0b435942f29133e0a02"
       ]
      },
      {
       "output_type": "stream",
       "stream": "stdout",
       "text": [
        "\n",
        "https://redmine.justsoftwareag.com/issues/127.json?include=journals&key=d1aef1b9a4658a5db747d0b435942f29133e0a02"
       ]
      },
      {
       "output_type": "stream",
       "stream": "stdout",
       "text": [
        "\n",
        "https://redmine.justsoftwareag.com/issues/103.json?include=journals&key=d1aef1b9a4658a5db747d0b435942f29133e0a02"
       ]
      },
      {
       "output_type": "stream",
       "stream": "stdout",
       "text": [
        "\n",
        "https://redmine.justsoftwareag.com/issues/94.json?include=journals&key=d1aef1b9a4658a5db747d0b435942f29133e0a02"
       ]
      },
      {
       "output_type": "stream",
       "stream": "stdout",
       "text": [
        "\n",
        "https://redmine.justsoftwareag.com/issues/59.json?include=journals&key=d1aef1b9a4658a5db747d0b435942f29133e0a02"
       ]
      },
      {
       "output_type": "stream",
       "stream": "stdout",
       "text": [
        "\n",
        "https://redmine.justsoftwareag.com/issues/45.json?include=journals&key=d1aef1b9a4658a5db747d0b435942f29133e0a02"
       ]
      },
      {
       "output_type": "stream",
       "stream": "stdout",
       "text": [
        "\n",
        "https://redmine.justsoftwareag.com/issues/44.json?include=journals&key=d1aef1b9a4658a5db747d0b435942f29133e0a02"
       ]
      },
      {
       "output_type": "stream",
       "stream": "stdout",
       "text": [
        "\n",
        "https://redmine.justsoftwareag.com/issues/31.json?include=journals&key=d1aef1b9a4658a5db747d0b435942f29133e0a02"
       ]
      },
      {
       "output_type": "stream",
       "stream": "stdout",
       "text": [
        "\n",
        "https://redmine.justsoftwareag.com/issues/29.json?include=journals&key=d1aef1b9a4658a5db747d0b435942f29133e0a02"
       ]
      },
      {
       "output_type": "stream",
       "stream": "stdout",
       "text": [
        "\n",
        "https://redmine.justsoftwareag.com/issues/28.json?include=journals&key=d1aef1b9a4658a5db747d0b435942f29133e0a02"
       ]
      },
      {
       "output_type": "stream",
       "stream": "stdout",
       "text": [
        "\n",
        "https://redmine.justsoftwareag.com/issues/11.json?include=journals&key=d1aef1b9a4658a5db747d0b435942f29133e0a02"
       ]
      },
      {
       "output_type": "stream",
       "stream": "stdout",
       "text": [
        "\n"
       ]
      }
     ],
     "prompt_number": 143
    },
    {
     "cell_type": "code",
     "collapsed": false,
     "input": [
      "load_ticket(8237)"
     ],
     "language": "python",
     "metadata": {},
     "outputs": [
      {
       "output_type": "stream",
       "stream": "stdout",
       "text": [
        "https://redmine.justsoftwareag.com/issues/8237.json?include=journals&key=d1aef1b9a4658a5db747d0b435942f29133e0a02\n"
       ]
      },
      {
       "metadata": {},
       "output_type": "pyout",
       "prompt_number": 144,
       "text": [
        "{u'issue': {u'assigned_to': {u'id': 5, u'name': u'Wolfgang Ginolas'},\n",
        "  u'author': {u'id': 5, u'name': u'Wolfgang Ginolas'},\n",
        "  u'category': {u'id': 50, u'name': u'Setup/Wartung'},\n",
        "  u'closed_on': u'2013-10-28T13:15:03Z',\n",
        "  u'created_on': u'2013-10-22T07:42:02Z',\n",
        "  u'custom_fields': [{u'id': 29,\n",
        "    u'multiple': True,\n",
        "    u'name': u'*Customer',\n",
        "    u'value': [u'Arbeiterkind']},\n",
        "   {u'id': 40, u'name': u'Product version', u'value': u'373'},\n",
        "   {u'id': 48, u'name': u'abnahmerelevant', u'value': u'0'},\n",
        "   {u'id': 58, u'name': u'Sammel-Ticket', u'value': u'0'}],\n",
        "  u'description': u'* Schon der erste Request l\\xe4dt ewig.\\r\\n* Suche erzeugt 100% CPU last.\\r\\n* Solr-Admin-Oberfl\\xe4che l\\xe4dt auch ewig.\\r\\n* Im log steht:\\r\\n<pre>\\r\\n22.10.2013 04:53:45 org.apache.solr.common.SolrException log\\r\\nSCHWERWIEGEND: null:java.lang.RuntimeException: java.lang.OutOfMemoryError: Java heap space\\r\\n        at org.apache.solr.servlet.SolrDispatchFilter.sendError(SolrDispatchFilter.java:653)\\r\\n        at org.apache.solr.servlet.SolrDispatchFilter.doFilter(SolrDispatchFilter.java:366)\\r\\n        at org.apache.solr.servlet.SolrDispatchFilter.doFilter(SolrDispatchFilter.java:141)\\r\\n        at org.eclipse.jetty.servlet.ServletHandler$CachedChain.doFilter(ServletHandler.java:1307)\\r\\n        at org.eclipse.jetty.servlet.ServletHandler.doHandle(ServletHandler.java:453)\\r\\n        at org.eclipse.jetty.server.handler.ScopedHandler.handle(ScopedHandler.java:137)\\r\\n        at org.eclipse.jetty.security.SecurityHandler.handle(SecurityHandler.java:560)\\r\\n        at org.eclipse.jetty.server.session.SessionHandler.doHandle(SessionHandler.java:231)\\r\\n        at org.eclipse.jetty.server.handler.ContextHandler.doHandle(ContextHandler.java:1072)\\r\\n        at org.eclipse.jetty.servlet.ServletHandler.doScope(ServletHandler.java:382)\\r\\n        at org.eclipse.jetty.server.session.SessionHandler.doScope(SessionHandler.java:193)\\r\\n        at org.eclipse.jetty.server.handler.ContextHandler.doScope(ContextHandler.java:1006)\\r\\n        at org.eclipse.jetty.server.handler.ScopedHandler.handle(ScopedHandler.java:135)\\r\\n        at org.eclipse.jetty.server.handler.ContextHandlerCollection.handle(ContextHandlerCollection.java:255)\\r\\n        at org.eclipse.jetty.server.handler.HandlerCollection.handle(HandlerCollection.java:154)\\r\\n        at org.eclipse.jetty.server.handler.HandlerWrapper.handle(HandlerWrapper.java:116)\\r\\n        at org.eclipse.jetty.server.Server.handle(Server.java:365)\\r\\n        at org.eclipse.jetty.server.AbstractHttpConnection.handleRequest(AbstractHttpConnection.java:485)\\r\\n        at org.eclipse.jetty.server.BlockingHttpConnection.handleRequest(BlockingHttpConnection.java:53)\\r\\n        at org.eclipse.jetty.server.AbstractHttpConnection.content(AbstractHttpConnection.java:937)\\r\\n        at org.eclipse.jetty.server.AbstractHttpConnection$RequestHandler.content(AbstractHttpConnection.java:998)\\r\\n        at org.eclipse.jetty.http.HttpParser.parseNext(HttpParser.java:856)\\r\\n        at org.eclipse.jetty.http.HttpParser.parseAvailable(HttpParser.java:240)\\r\\n        at org.eclipse.jetty.server.BlockingHttpConnection.handle(BlockingHttpConnection.java:72)\\r\\n        at org.eclipse.jetty.server.bio.SocketConnector$ConnectorEndPoint.run(SocketConnector.java:264)\\r\\n        at org.eclipse.jetty.util.thread.QueuedThreadPool.runJob(QueuedThreadPool.java:608)\\r\\n        at org.eclipse.jetty.util.thread.QueuedThreadPool$3.run(QueuedThreadPool.java:543)\\r\\n        at java.lang.Thread.run(Thread.java:679)\\r\\nCaused by: java.lang.OutOfMemoryError: Java heap space\\r\\n</pre>\\r\\n* Ich hab RAM f\\xfcr Solr von 1G auf 2G erh\\xf6ht. Beim n\\xe4chsten Deployment wird diese Einstellung allerdings wieder \\xfcbergeb\\xfcgelt. Was machen wir da?',\n",
        "  u'done_ratio': 0,\n",
        "  u'id': 8237,\n",
        "  u'journals': [{u'created_on': u'2013-10-22T07:43:16Z',\n",
        "    u'details': [{u'name': u'description',\n",
        "      u'new_value': u'* Schon der erste Request l\\xe4dt ewig.\\r\\n* Suche erzeugt 100% CPU last.',\n",
        "      u'old_value': u'Schon der erste Request l\\xe4dt ewig.',\n",
        "      u'property': u'attr'}],\n",
        "    u'id': 56902,\n",
        "    u'notes': u'',\n",
        "    u'user': {u'id': 5, u'name': u'Wolfgang Ginolas'}},\n",
        "   {u'created_on': u'2013-10-22T07:48:52Z',\n",
        "    u'details': [{u'name': u'description',\n",
        "      u'new_value': u'* Schon der erste Request l\\xe4dt ewig.\\r\\n* Suche erzeugt 100% CPU last.\\r\\n* Solr-Admin-Oberfl\\xe4che l\\xe4dt auch ewig.\\r\\n* Im log steht:\\r\\n<pre>\\r\\n22.10.2013 04:53:45 org.apache.solr.common.SolrException log\\r\\nSCHWERWIEGEND: null:java.lang.RuntimeException: java.lang.OutOfMemoryError: Java heap space\\r\\n        at org.apache.solr.servlet.SolrDispatchFilter.sendError(SolrDispatchFilter.java:653)\\r\\n        at org.apache.solr.servlet.SolrDispatchFilter.doFilter(SolrDispatchFilter.java:366)\\r\\n        at org.apache.solr.servlet.SolrDispatchFilter.doFilter(SolrDispatchFilter.java:141)\\r\\n        at org.eclipse.jetty.servlet.ServletHandler$CachedChain.doFilter(ServletHandler.java:1307)\\r\\n        at org.eclipse.jetty.servlet.ServletHandler.doHandle(ServletHandler.java:453)\\r\\n        at org.eclipse.jetty.server.handler.ScopedHandler.handle(ScopedHandler.java:137)\\r\\n        at org.eclipse.jetty.security.SecurityHandler.handle(SecurityHandler.java:560)\\r\\n        at org.eclipse.jetty.server.session.SessionHandler.doHandle(SessionHandler.java:231)\\r\\n        at org.eclipse.jetty.server.handler.ContextHandler.doHandle(ContextHandler.java:1072)\\r\\n        at org.eclipse.jetty.servlet.ServletHandler.doScope(ServletHandler.java:382)\\r\\n        at org.eclipse.jetty.server.session.SessionHandler.doScope(SessionHandler.java:193)\\r\\n        at org.eclipse.jetty.server.handler.ContextHandler.doScope(ContextHandler.java:1006)\\r\\n        at org.eclipse.jetty.server.handler.ScopedHandler.handle(ScopedHandler.java:135)\\r\\n        at org.eclipse.jetty.server.handler.ContextHandlerCollection.handle(ContextHandlerCollection.java:255)\\r\\n        at org.eclipse.jetty.server.handler.HandlerCollection.handle(HandlerCollection.java:154)\\r\\n        at org.eclipse.jetty.server.handler.HandlerWrapper.handle(HandlerWrapper.java:116)\\r\\n        at org.eclipse.jetty.server.Server.handle(Server.java:365)\\r\\n        at org.eclipse.jetty.server.AbstractHttpConnection.handleRequest(AbstractHttpConnection.java:485)\\r\\n        at org.eclipse.jetty.server.BlockingHttpConnection.handleRequest(BlockingHttpConnection.java:53)\\r\\n        at org.eclipse.jetty.server.AbstractHttpConnection.content(AbstractHttpConnection.java:937)\\r\\n        at org.eclipse.jetty.server.AbstractHttpConnection$RequestHandler.content(AbstractHttpConnection.java:998)\\r\\n        at org.eclipse.jetty.http.HttpParser.parseNext(HttpParser.java:856)\\r\\n        at org.eclipse.jetty.http.HttpParser.parseAvailable(HttpParser.java:240)\\r\\n        at org.eclipse.jetty.server.BlockingHttpConnection.handle(BlockingHttpConnection.java:72)\\r\\n        at org.eclipse.jetty.server.bio.SocketConnector$ConnectorEndPoint.run(SocketConnector.java:264)\\r\\n        at org.eclipse.jetty.util.thread.QueuedThreadPool.runJob(QueuedThreadPool.java:608)\\r\\n        at org.eclipse.jetty.util.thread.QueuedThreadPool$3.run(QueuedThreadPool.java:543)\\r\\n        at java.lang.Thread.run(Thread.java:679)\\r\\nCaused by: java.lang.OutOfMemoryError: Java heap space\\r\\n</pre>\\r\\n* Ich hab RAM f\\xfcr Solr von 1G auf 2G erh\\xf6ht. Beim n\\xe4chsten Deployment wird diese Einstellung allerdings wieder \\xfcbergeb\\xfcgelt. Was machen wir da?',\n",
        "      u'old_value': u'* Schon der erste Request l\\xe4dt ewig.\\r\\n* Suche erzeugt 100% CPU last.',\n",
        "      u'property': u'attr'},\n",
        "     {u'name': u'priority_id',\n",
        "      u'new_value': u'4',\n",
        "      u'old_value': u'7',\n",
        "      u'property': u'attr'},\n",
        "     {u'name': u'40',\n",
        "      u'new_value': u'373',\n",
        "      u'old_value': u'277',\n",
        "      u'property': u'cf'}],\n",
        "    u'id': 56904,\n",
        "    u'notes': u'',\n",
        "    u'user': {u'id': 5, u'name': u'Wolfgang Ginolas'}},\n",
        "   {u'created_on': u'2013-10-22T08:01:10Z',\n",
        "    u'details': [{u'name': u'status_id',\n",
        "      u'new_value': u'3',\n",
        "      u'old_value': u'1',\n",
        "      u'property': u'attr'}],\n",
        "    u'id': 56905,\n",
        "    u'notes': u'',\n",
        "    u'user': {u'id': 5, u'name': u'Wolfgang Ginolas'}},\n",
        "   {u'created_on': u'2013-10-22T14:55:18Z',\n",
        "    u'details': [{u'name': u'status_id',\n",
        "      u'new_value': u'1',\n",
        "      u'old_value': u'3',\n",
        "      u'property': u'attr'},\n",
        "     {u'name': u'priority_id',\n",
        "      u'new_value': u'5',\n",
        "      u'old_value': u'4',\n",
        "      u'property': u'attr'}],\n",
        "    u'id': 56965,\n",
        "    u'notes': u'Tritt auch mit 2G noch auf. -> 3G',\n",
        "    u'user': {u'id': 5, u'name': u'Wolfgang Ginolas'}},\n",
        "   {u'created_on': u'2013-10-22T15:11:32Z',\n",
        "    u'details': [],\n",
        "    u'id': 56967,\n",
        "    u'notes': u'Beim n\\xe4chstem mal mach ich nen Heap-Dump.',\n",
        "    u'user': {u'id': 5, u'name': u'Wolfgang Ginolas'}},\n",
        "   {u'created_on': u'2013-10-28T13:15:03Z',\n",
        "    u'details': [{u'name': u'status_id',\n",
        "      u'new_value': u'5',\n",
        "      u'old_value': u'1',\n",
        "      u'property': u'attr'}],\n",
        "    u'id': 57389,\n",
        "    u'notes': u'Lauft jetzt mit 3GB durch',\n",
        "    u'user': {u'id': 5, u'name': u'Wolfgang Ginolas'}}],\n",
        "  u'priority': {u'id': 5, u'name': u'High'},\n",
        "  u'project': {u'id': 2, u'name': u'Just Connect'},\n",
        "  u'spent_hours': 1.48333333333333,\n",
        "  u'start_date': u'2013-10-22',\n",
        "  u'status': {u'id': 5, u'name': u'Closed'},\n",
        "  u'subject': u'Arbeiterkind Down',\n",
        "  u'tracker': {u'id': 3, u'name': u'Support'},\n",
        "  u'updated_on': u'2013-10-28T13:15:03Z'}}"
       ]
      }
     ],
     "prompt_number": 144
    },
    {
     "cell_type": "code",
     "collapsed": false,
     "input": [
      "\n",
      "def is_sammel_ticket(issue):\n",
      "    for c in issue[\"issue\"][\"custom_fields\"]:\n",
      "        if c[\"name\"] == \"Sammel-Ticket\":\n",
      "            return c.get(\"value\", \"0\") == '1'\n",
      "    return False\n",
      "\n",
      "def analyse_journal(issue):\n",
      "    if is_sammel_ticket(issue):\n",
      "        return []\n",
      "    issue_created_on = dateutil.parser.parse(issue[\"issue\"][\"created_on\"])\n",
      "    first_status = issue[\"issue\"][\"status\"][\"id\"]\n",
      "    first = True\n",
      "    result = [None]\n",
      "    for j in issue[\"issue\"][\"journals\"]:\n",
      "        created_on = dateutil.parser.parse(j[\"created_on\"])\n",
      "        for d in j[\"details\"]:\n",
      "            if d[\"property\"] == \"attr\" and d[\"name\"] == \"status_id\":\n",
      "                if first:\n",
      "                    first_status = d[\"old_value\"]\n",
      "                    first = False\n",
      "                result.append((created_on, d[\"new_value\"] not in CLOSED_STATUS, issue[\"issue\"][\"id\"]))\n",
      "    result[0] = (issue_created_on, str(first_status) not in CLOSED_STATUS, issue[\"issue\"][\"id\"])\n",
      "    return result\n",
      "\n",
      "def reduce_journal(journal):\n",
      "    last_open = False\n",
      "    count = 0\n",
      "    for (t, o, i) in journal:\n",
      "        if last_open != o:\n",
      "            d = 1 if o else -1\n",
      "            count += d\n",
      "            yield (t, d)\n",
      "            last_open = o\n",
      "    #if count != 0:\n",
      "    #    print \"%s %s\" % (i, count)\n",
      "\n",
      "def sum_journal(diffs):\n",
      "    count = 0\n",
      "    for (t, d) in diffs:\n",
      "        count += d\n",
      "        yield (t, count)\n",
      "    #yield (datetime.datetime.utcnow(), count)\n",
      "\n",
      "data = [reduce_journal(analyse_journal(i)) for i in issues]\n",
      "data = itertools.chain.from_iterable(data)\n",
      "data = sorted(data, key = lambda x: x[0])\n",
      "data = sum_journal(data)\n",
      "x, y = zip(*data)\n",
      "step(x, y, where=\"post\")"
     ],
     "language": "python",
     "metadata": {},
     "outputs": [
      {
       "metadata": {},
       "output_type": "pyout",
       "prompt_number": 145,
       "text": [
        "[<matplotlib.lines.Line2D at 0xf121f50>]"
       ]
      },
      {
       "metadata": {},
       "output_type": "display_data",
       "png": "[encoded data removed]",
       "text": [
        "<matplotlib.figure.Figure at 0xf11eb50>"
       ]
      }
     ],
     "prompt_number": 145
    },
    {
     "cell_type": "code",
     "collapsed": false,
     "input": [
      "analyse_journal(issue44)"
     ],
     "language": "python",
     "metadata": {},
     "outputs": [
      {
       "metadata": {},
       "output_type": "pyout",
       "prompt_number": 146,
       "text": [
        "[(datetime.datetime(2011, 1, 19, 9, 18, 8, tzinfo=tzutc()), False, 44)]"
       ]
      }
     ],
     "prompt_number": 146
    },
    {
     "cell_type": "code",
     "collapsed": false,
     "input": [
      "load_ticket(8319)"
     ],
     "language": "python",
     "metadata": {},
     "outputs": [
      {
       "output_type": "stream",
       "stream": "stdout",
       "text": [
        "https://redmine.justsoftwareag.com/issues/8319.json?include=journals&key=d1aef1b9a4658a5db747d0b435942f29133e0a02\n"
       ]
      },
      {
       "metadata": {},
       "output_type": "pyout",
       "prompt_number": 147,
       "text": [
        "{u'issue': {u'author': {u'id': 14, u'name': u'Felix Schr\\xf6der'},\n",
        "  u'created_on': u'2013-10-24T13:29:06Z',\n",
        "  u'custom_fields': [{u'id': 29,\n",
        "    u'multiple': True,\n",
        "    u'name': u'*Customer',\n",
        "    u'value': [u'RIMC']},\n",
        "   {u'id': 40, u'name': u'Product version', u'value': u'277'},\n",
        "   {u'id': 48, u'name': u'abnahmerelevant', u'value': u'0'},\n",
        "   {u'id': 58, u'name': u'Sammel-Ticket', u'value': u'1'}],\n",
        "  u'description': u'',\n",
        "  u'done_ratio': 0,\n",
        "  u'id': 8319,\n",
        "  u'journals': [{u'created_on': u'2013-10-24T14:15:04Z',\n",
        "    u'details': [{u'name': u'58',\n",
        "      u'new_value': u'1',\n",
        "      u'old_value': u'0',\n",
        "      u'property': u'cf'}],\n",
        "    u'id': 57164,\n",
        "    u'notes': u'',\n",
        "    u'user': {u'id': 14, u'name': u'Felix Schr\\xf6der'}}],\n",
        "  u'priority': {u'id': 4, u'name': u'Normal'},\n",
        "  u'project': {u'id': 2, u'name': u'Just Connect'},\n",
        "  u'spent_hours': 3.0,\n",
        "  u'start_date': u'2013-10-24',\n",
        "  u'status': {u'id': 1, u'name': u'New'},\n",
        "  u'subject': u'Sammelticket Support RIMC',\n",
        "  u'tracker': {u'id': 3, u'name': u'Support'},\n",
        "  u'updated_on': u'2013-10-24T14:15:04Z'}}"
       ]
      }
     ],
     "prompt_number": 147
    },
    {
     "cell_type": "code",
     "collapsed": false,
     "input": [
      "stackplot(range(10), range(10), [1]*10)"
     ],
     "language": "python",
     "metadata": {},
     "outputs": [
      {
       "metadata": {},
       "output_type": "pyout",
       "prompt_number": 148,
       "text": [
        "[<matplotlib.collections.PolyCollection at 0xbcd13d0>,\n",
        " <matplotlib.collections.PolyCollection at 0xbcd1bd0>]"
       ]
      },
      {
       "metadata": {},
       "output_type": "display_data",
       "png": "[encoded data removed]",
       "text": [
        "<matplotlib.figure.Figure at 0xbd93150>"
       ]
      }
     ],
     "prompt_number": 148
    },
    {
     "cell_type": "code",
     "collapsed": false,
     "input": [
      "[1]*3"
     ],
     "language": "python",
     "metadata": {},
     "outputs": [
      {
       "metadata": {},
       "output_type": "pyout",
       "prompt_number": 149,
       "text": [
        "[1, 1, 1]"
       ]
      }
     ],
     "prompt_number": 149
    },
    {
     "cell_type": "code",
     "collapsed": false,
     "input": [
      "a = 3\n",
      "a"
     ],
     "language": "python",
     "metadata": {},
     "outputs": [
      {
       "metadata": {},
       "output_type": "pyout",
       "prompt_number": 150,
       "text": [
        "3"
       ]
      }
     ],
     "prompt_number": 150
    },
    {
     "cell_type": "code",
     "collapsed": false,
     "input": [
      "help(step)"
     ],
     "language": "python",
     "metadata": {},
     "outputs": [
      {
       "output_type": "stream",
       "stream": "stdout",
       "text": [
        "Help on function step in module matplotlib.pyplot:\n",
        "\n",
        "step(x, y, *args, **kwargs)\n",
        "    Make a step plot.\n",
        "    \n",
        "    Call signature::\n",
        "    \n",
        "      step(x, y, *args, **kwargs)\n",
        "    \n",
        "    Additional keyword args to :func:`step` are the same as those\n",
        "    for :func:`~matplotlib.pyplot.plot`.\n",
        "    \n",
        "    *x* and *y* must be 1-D sequences, and it is assumed, but not checked,\n",
        "    that *x* is uniformly increasing.\n",
        "    \n",
        "    Keyword arguments:\n",
        "    \n",
        "    *where*: [ 'pre' | 'post' | 'mid'  ]\n",
        "      If 'pre', the interval from x[i] to x[i+1] has level y[i+1]\n",
        "    \n",
        "      If 'post', that interval has level y[i]\n",
        "    \n",
        "      If 'mid', the jumps in *y* occur half-way between the\n",
        "      *x*-values.\n",
        "    \n",
        "    Additional kwargs: hold = [True|False] overrides default hold state\n",
        "\n"
       ]
      }
     ],
     "prompt_number": 1
    }
   ],
   "metadata": {}
  }
 ]
}